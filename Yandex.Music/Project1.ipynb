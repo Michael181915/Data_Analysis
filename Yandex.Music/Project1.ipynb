{
 "cells": [
  {
   "cell_type": "markdown",
   "metadata": {
    "id": "E0vqbgi9ay0H"
   },
   "source": [
    "# Яндекс.Музыка"
   ]
  },
  {
   "cell_type": "markdown",
   "metadata": {
    "id": "VUC88oWjTJw2"
   },
   "source": [
    "Сравнение Москвы и Петербурга окружено мифами. Например:\n",
    " * Москва — мегаполис, подчинённый жёсткому ритму рабочей недели;\n",
    " * Петербург — культурная столица, со своими вкусами.\n",
    "\n",
    "На данных Яндекс.Музыки вы сравните поведение пользователей двух столиц.\n",
    "\n",
    "**Цель исследования** — проверьте три гипотезы:\n",
    "1. Активность пользователей зависит от дня недели. Причём в Москве и Петербурге это проявляется по-разному.\n",
    "2. В понедельник утром в Москве преобладают одни жанры, а в Петербурге — другие. Так же и вечером пятницы преобладают разные жанры — в зависимости от города. \n",
    "3. Москва и Петербург предпочитают разные жанры музыки. В Москве чаще слушают поп-музыку, в Петербурге — русский рэп.\n",
    "\n",
    "**Ход исследования**\n",
    "\n",
    "Данные о поведении пользователей вы получите из файла `yandex_music_project.csv`. О качестве данных ничего не известно. Поэтому перед проверкой гипотез понадобится обзор данных. \n",
    "\n",
    "Вы проверите данные на ошибки и оцените их влияние на исследование. Затем, на этапе предобработки вы поищете возможность исправить самые критичные ошибки данных.\n",
    " \n",
    "Таким образом, исследование пройдёт в три этапа:\n",
    " 1. Обзор данных.\n",
    " 2. Предобработка данных.\n",
    " 3. Проверка гипотез.\n",
    "\n"
   ]
  },
  {
   "cell_type": "markdown",
   "metadata": {
    "id": "Ml1hmfXC_Zcs"
   },
   "source": [
    "## 1  Обзор данных\n",
    "\n",
    "Составьте первое представление о данных Яндекс.Музыки.\n",
    "\n",
    "\n"
   ]
  },
  {
   "cell_type": "markdown",
   "metadata": {
    "id": "57eAOGIz_Zcs"
   },
   "source": [
    "Основной инструмент аналитика — `pandas`. Импортируйте эту библиотеку."
   ]
  },
  {
   "cell_type": "code",
   "execution_count": 1,
   "metadata": {
    "id": "AXN7PHPN_Zcs"
   },
   "outputs": [],
   "source": [
    "import pandas as pd # импорт библиотеки pandas"
   ]
  },
  {
   "cell_type": "markdown",
   "metadata": {
    "id": "SG23P8tt_Zcs"
   },
   "source": [
    "Прочитайте файл `yandex_music_project.csv` из папки `/datasets` и сохраните его в переменной `df`:"
   ]
  },
  {
   "cell_type": "code",
   "execution_count": 2,
   "metadata": {
    "id": "fFVu7vqh_Zct"
   },
   "outputs": [],
   "source": [
    "df = pd.read_csv('D:/AnacondaProjects/datasets/yandex_music_project.csv') # чтение файла с данными и сохранение в df"
   ]
  },
  {
   "cell_type": "markdown",
   "metadata": {
    "id": "rDoOMd3uTqnZ"
   },
   "source": [
    "Выведите на экран первые десять строк таблицы:"
   ]
  },
  {
   "cell_type": "code",
   "execution_count": 3,
   "metadata": {
    "scrolled": true
   },
   "outputs": [
    {
     "data": {
      "text/html": [
       "<div>\n",
       "<style scoped>\n",
       "    .dataframe tbody tr th:only-of-type {\n",
       "        vertical-align: middle;\n",
       "    }\n",
       "\n",
       "    .dataframe tbody tr th {\n",
       "        vertical-align: top;\n",
       "    }\n",
       "\n",
       "    .dataframe thead th {\n",
       "        text-align: right;\n",
       "    }\n",
       "</style>\n",
       "<table border=\"1\" class=\"dataframe\">\n",
       "  <thead>\n",
       "    <tr style=\"text-align: right;\">\n",
       "      <th></th>\n",
       "      <th>userID</th>\n",
       "      <th>Track</th>\n",
       "      <th>artist</th>\n",
       "      <th>genre</th>\n",
       "      <th>City</th>\n",
       "      <th>time</th>\n",
       "      <th>Day</th>\n",
       "    </tr>\n",
       "  </thead>\n",
       "  <tbody>\n",
       "    <tr>\n",
       "      <th>0</th>\n",
       "      <td>FFB692EC</td>\n",
       "      <td>Kamigata To Boots</td>\n",
       "      <td>The Mass Missile</td>\n",
       "      <td>rock</td>\n",
       "      <td>Saint-Petersburg</td>\n",
       "      <td>20:28:33</td>\n",
       "      <td>Wednesday</td>\n",
       "    </tr>\n",
       "    <tr>\n",
       "      <th>1</th>\n",
       "      <td>55204538</td>\n",
       "      <td>Delayed Because of Accident</td>\n",
       "      <td>Andreas Rönnberg</td>\n",
       "      <td>rock</td>\n",
       "      <td>Moscow</td>\n",
       "      <td>14:07:09</td>\n",
       "      <td>Friday</td>\n",
       "    </tr>\n",
       "    <tr>\n",
       "      <th>2</th>\n",
       "      <td>20EC38</td>\n",
       "      <td>Funiculì funiculà</td>\n",
       "      <td>Mario Lanza</td>\n",
       "      <td>pop</td>\n",
       "      <td>Saint-Petersburg</td>\n",
       "      <td>20:58:07</td>\n",
       "      <td>Wednesday</td>\n",
       "    </tr>\n",
       "    <tr>\n",
       "      <th>3</th>\n",
       "      <td>A3DD03C9</td>\n",
       "      <td>Dragons in the Sunset</td>\n",
       "      <td>Fire + Ice</td>\n",
       "      <td>folk</td>\n",
       "      <td>Saint-Petersburg</td>\n",
       "      <td>08:37:09</td>\n",
       "      <td>Monday</td>\n",
       "    </tr>\n",
       "    <tr>\n",
       "      <th>4</th>\n",
       "      <td>E2DC1FAE</td>\n",
       "      <td>Soul People</td>\n",
       "      <td>Space Echo</td>\n",
       "      <td>dance</td>\n",
       "      <td>Moscow</td>\n",
       "      <td>08:34:34</td>\n",
       "      <td>Monday</td>\n",
       "    </tr>\n",
       "    <tr>\n",
       "      <th>5</th>\n",
       "      <td>842029A1</td>\n",
       "      <td>Преданная</td>\n",
       "      <td>IMPERVTOR</td>\n",
       "      <td>rusrap</td>\n",
       "      <td>Saint-Petersburg</td>\n",
       "      <td>13:09:41</td>\n",
       "      <td>Friday</td>\n",
       "    </tr>\n",
       "    <tr>\n",
       "      <th>6</th>\n",
       "      <td>4CB90AA5</td>\n",
       "      <td>True</td>\n",
       "      <td>Roman Messer</td>\n",
       "      <td>dance</td>\n",
       "      <td>Moscow</td>\n",
       "      <td>13:00:07</td>\n",
       "      <td>Wednesday</td>\n",
       "    </tr>\n",
       "    <tr>\n",
       "      <th>7</th>\n",
       "      <td>F03E1C1F</td>\n",
       "      <td>Feeling This Way</td>\n",
       "      <td>Polina Griffith</td>\n",
       "      <td>dance</td>\n",
       "      <td>Moscow</td>\n",
       "      <td>20:47:49</td>\n",
       "      <td>Wednesday</td>\n",
       "    </tr>\n",
       "    <tr>\n",
       "      <th>8</th>\n",
       "      <td>8FA1D3BE</td>\n",
       "      <td>И вновь продолжается бой</td>\n",
       "      <td>NaN</td>\n",
       "      <td>ruspop</td>\n",
       "      <td>Moscow</td>\n",
       "      <td>09:17:40</td>\n",
       "      <td>Friday</td>\n",
       "    </tr>\n",
       "    <tr>\n",
       "      <th>9</th>\n",
       "      <td>E772D5C0</td>\n",
       "      <td>Pessimist</td>\n",
       "      <td>NaN</td>\n",
       "      <td>dance</td>\n",
       "      <td>Saint-Petersburg</td>\n",
       "      <td>21:20:49</td>\n",
       "      <td>Wednesday</td>\n",
       "    </tr>\n",
       "  </tbody>\n",
       "</table>\n",
       "</div>"
      ],
      "text/plain": [
       "     userID                        Track            artist   genre  \\\n",
       "0  FFB692EC            Kamigata To Boots  The Mass Missile    rock   \n",
       "1  55204538  Delayed Because of Accident  Andreas Rönnberg    rock   \n",
       "2    20EC38            Funiculì funiculà       Mario Lanza     pop   \n",
       "3  A3DD03C9        Dragons in the Sunset        Fire + Ice    folk   \n",
       "4  E2DC1FAE                  Soul People        Space Echo   dance   \n",
       "5  842029A1                    Преданная         IMPERVTOR  rusrap   \n",
       "6  4CB90AA5                         True      Roman Messer   dance   \n",
       "7  F03E1C1F             Feeling This Way   Polina Griffith   dance   \n",
       "8  8FA1D3BE     И вновь продолжается бой               NaN  ruspop   \n",
       "9  E772D5C0                    Pessimist               NaN   dance   \n",
       "\n",
       "             City        time        Day  \n",
       "0  Saint-Petersburg  20:28:33  Wednesday  \n",
       "1            Moscow  14:07:09     Friday  \n",
       "2  Saint-Petersburg  20:58:07  Wednesday  \n",
       "3  Saint-Petersburg  08:37:09     Monday  \n",
       "4            Moscow  08:34:34     Monday  \n",
       "5  Saint-Petersburg  13:09:41     Friday  \n",
       "6            Moscow  13:00:07  Wednesday  \n",
       "7            Moscow  20:47:49  Wednesday  \n",
       "8            Moscow  09:17:40     Friday  \n",
       "9  Saint-Petersburg  21:20:49  Wednesday  "
      ]
     },
     "execution_count": 3,
     "metadata": {},
     "output_type": "execute_result"
    }
   ],
   "source": [
    "df.head(10) # получение первых 10 строк таблицы df"
   ]
  },
  {
   "cell_type": "markdown",
   "metadata": {
    "id": "EO73Kwic_Zct"
   },
   "source": [
    "Одной командой получить общую информацию о таблице:"
   ]
  },
  {
   "cell_type": "code",
   "execution_count": 4,
   "metadata": {
    "id": "DSf2kIb-_Zct"
   },
   "outputs": [
    {
     "name": "stdout",
     "output_type": "stream",
     "text": [
      "<class 'pandas.core.frame.DataFrame'>\n",
      "RangeIndex: 65079 entries, 0 to 65078\n",
      "Data columns (total 7 columns):\n",
      " #   Column    Non-Null Count  Dtype \n",
      "---  ------    --------------  ----- \n",
      " 0     userID  65079 non-null  object\n",
      " 1   Track     63848 non-null  object\n",
      " 2   artist    57876 non-null  object\n",
      " 3   genre     63881 non-null  object\n",
      " 4     City    65079 non-null  object\n",
      " 5   time      65079 non-null  object\n",
      " 6   Day       65079 non-null  object\n",
      "dtypes: object(7)\n",
      "memory usage: 3.5+ MB\n"
     ]
    }
   ],
   "source": [
    "df.info() # получение общей информации о данных в таблице df"
   ]
  },
  {
   "cell_type": "markdown",
   "metadata": {
    "id": "TaQ2Iwbr_Zct"
   },
   "source": [
    "# Итак, в таблице семь столбцов. Тип данных во всех столбцах — `object`.\n",
    "\n",
    "Согласно документации к данным:\n",
    "* `userID` — идентификатор пользователя;\n",
    "* `Track` — название трека;  \n",
    "* `artist` — имя исполнителя;\n",
    "* `genre` — название жанра;\n",
    "* `City` — город пользователя;\n",
    "* `time` — время начала прослушивания;\n",
    "* `Day` — день недели.\n",
    "\n",
    "В названиях колонок видны три нарушения стиля:\n",
    "1. Строчные буквы сочетаются с прописными.\n",
    "2. Встречаются пробелы.\n",
    "3. Не использован \"змеиный регистр\" (_) для разделения слов, без использования пробелов.\n",
    "\n",
    "\n",
    "\n",
    "Количество значений в столбцах различается. Значит, в данных есть пропущенные значения.\n"
   ]
  },
  {
   "cell_type": "markdown",
   "metadata": {
    "id": "MCB6-dXG_Zct"
   },
   "source": [
    "**Выводы**\n",
    "\n",
    "В каждой строке таблицы — данные о прослушанном треке. Часть колонок описывает саму композицию: название, исполнителя и жанр. Остальные данные рассказывают о пользователе: из какого он города, когда он слушал музыку. \n",
    "\n",
    "Предварительно можно утверждать, что, данных достаточно для проверки гипотез. Но встречаются пропуски в данных, а в названиях колонок — расхождения с хорошим стилем.\n",
    "\n",
    "Чтобы двигаться дальше, нужно устранить проблемы в данных."
   ]
  },
  {
   "cell_type": "markdown",
   "metadata": {
    "id": "SjYF6Ub9_Zct"
   },
   "source": [
    "## 2  Предобработка данных\n",
    "Исправьте стиль в заголовках столбцов, исключите пропуски. Затем проверьте данные на дубликаты."
   ]
  },
  {
   "cell_type": "markdown",
   "metadata": {
    "id": "dIaKXr29_Zct"
   },
   "source": [
    "### 2.1  Стиль заголовков\n",
    "Выведите на экран названия столбцов:"
   ]
  },
  {
   "cell_type": "code",
   "execution_count": 5,
   "metadata": {},
   "outputs": [
    {
     "data": {
      "text/plain": [
       "Index(['  userID', 'Track', 'artist', 'genre', '  City  ', 'time', 'Day'], dtype='object')"
      ]
     },
     "execution_count": 5,
     "metadata": {},
     "output_type": "execute_result"
    }
   ],
   "source": [
    "df.columns # перечень названий столбцов"
   ]
  },
  {
   "cell_type": "markdown",
   "metadata": {
    "id": "zj5534cv_Zct"
   },
   "source": [
    "Приведите названия в соответствие с хорошим стилем:\n",
    "* несколько слов в названии запишите в «змеином_регистре»,\n",
    "* все символы сделайте строчными,\n",
    "* устраните пробелы.\n",
    "\n",
    "Для этого переименуйте колонки так:\n",
    "* `'  userID'` → `'user_id'`;\n",
    "* `'Track'` → `'track'`;\n",
    "* `'  City  '` → `'city'`;\n",
    "* `'Day'` → `'day'`."
   ]
  },
  {
   "cell_type": "code",
   "execution_count": 6,
   "metadata": {
    "id": "ISlFqs5y_Zct"
   },
   "outputs": [],
   "source": [
    "df = df.rename(columns={'  userID': 'user_id',\n",
    "'Track': 'track',\n",
    "'  City  ': 'city',\n",
    "'Day': 'day'}) # переименование столбцов"
   ]
  },
  {
   "cell_type": "markdown",
   "metadata": {
    "id": "1dqbh00J_Zct"
   },
   "source": [
    "Проверьте результат. Для этого ещё раз выведите на экран названия столбцов:"
   ]
  },
  {
   "cell_type": "code",
   "execution_count": 7,
   "metadata": {
    "id": "d4NOAmTW_Zct",
    "scrolled": true
   },
   "outputs": [
    {
     "data": {
      "text/plain": [
       "Index(['user_id', 'track', 'artist', 'genre', 'city', 'time', 'day'], dtype='object')"
      ]
     },
     "execution_count": 7,
     "metadata": {},
     "output_type": "execute_result"
    }
   ],
   "source": [
    "df.columns # проверка результатов - перечень названий столбцов"
   ]
  },
  {
   "cell_type": "markdown",
   "metadata": {
    "id": "5ISfbcfY_Zct"
   },
   "source": [
    "### 2.2  Пропуски значений\n",
    "Сначала посчитайте, сколько в таблице пропущенных значений. Для этого достаточно двух методов `pandas`:"
   ]
  },
  {
   "cell_type": "code",
   "execution_count": 8,
   "metadata": {
    "id": "RskX29qr_Zct"
   },
   "outputs": [
    {
     "data": {
      "text/plain": [
       "user_id       0\n",
       "track      1231\n",
       "artist     7203\n",
       "genre      1198\n",
       "city          0\n",
       "time          0\n",
       "day           0\n",
       "dtype: int64"
      ]
     },
     "execution_count": 8,
     "metadata": {},
     "output_type": "execute_result"
    }
   ],
   "source": [
    "df.isna().sum() # подсчёт пропусков"
   ]
  },
  {
   "cell_type": "markdown",
   "metadata": {
    "id": "qubhgnlO_Zct"
   },
   "source": [
    "Не все пропущенные значения влияют на исследование. Так в `track` и `artist` пропуски не важны для вашей работы. Достаточно заменить их явными обозначениями.\n",
    "\n",
    "Но пропуски в `genre` могут помешать сравнению музыкальных вкусов в Москве и Санкт-Петербурге. На практике было бы правильно установить причину пропусков и восстановить данные. Такой возможности нет в учебном проекте. Придётся:\n",
    "* заполнить и эти пропуски явными обозначениями,\n",
    "* оценить, насколько они повредят расчётам. "
   ]
  },
  {
   "cell_type": "markdown",
   "metadata": {
    "id": "fSv2laPA_Zct"
   },
   "source": [
    "Замените пропущенные значения в столбцах `track`, `artist` и `genre` на строку `'unknown'`. Для этого создайте список `columns_to_replace`, переберите его элементы циклом `for` и для каждого столбца выполните замену пропущенных значений:"
   ]
  },
  {
   "cell_type": "code",
   "execution_count": 9,
   "metadata": {
    "id": "KplB5qWs_Zct"
   },
   "outputs": [
    {
     "data": {
      "text/html": [
       "<div>\n",
       "<style scoped>\n",
       "    .dataframe tbody tr th:only-of-type {\n",
       "        vertical-align: middle;\n",
       "    }\n",
       "\n",
       "    .dataframe tbody tr th {\n",
       "        vertical-align: top;\n",
       "    }\n",
       "\n",
       "    .dataframe thead th {\n",
       "        text-align: right;\n",
       "    }\n",
       "</style>\n",
       "<table border=\"1\" class=\"dataframe\">\n",
       "  <thead>\n",
       "    <tr style=\"text-align: right;\">\n",
       "      <th></th>\n",
       "      <th>user_id</th>\n",
       "      <th>track</th>\n",
       "      <th>artist</th>\n",
       "      <th>genre</th>\n",
       "      <th>city</th>\n",
       "      <th>time</th>\n",
       "      <th>day</th>\n",
       "    </tr>\n",
       "  </thead>\n",
       "  <tbody>\n",
       "    <tr>\n",
       "      <th>0</th>\n",
       "      <td>FFB692EC</td>\n",
       "      <td>Kamigata To Boots</td>\n",
       "      <td>The Mass Missile</td>\n",
       "      <td>rock</td>\n",
       "      <td>Saint-Petersburg</td>\n",
       "      <td>20:28:33</td>\n",
       "      <td>Wednesday</td>\n",
       "    </tr>\n",
       "    <tr>\n",
       "      <th>1</th>\n",
       "      <td>55204538</td>\n",
       "      <td>Delayed Because of Accident</td>\n",
       "      <td>Andreas Rönnberg</td>\n",
       "      <td>rock</td>\n",
       "      <td>Moscow</td>\n",
       "      <td>14:07:09</td>\n",
       "      <td>Friday</td>\n",
       "    </tr>\n",
       "    <tr>\n",
       "      <th>2</th>\n",
       "      <td>20EC38</td>\n",
       "      <td>Funiculì funiculà</td>\n",
       "      <td>Mario Lanza</td>\n",
       "      <td>pop</td>\n",
       "      <td>Saint-Petersburg</td>\n",
       "      <td>20:58:07</td>\n",
       "      <td>Wednesday</td>\n",
       "    </tr>\n",
       "    <tr>\n",
       "      <th>3</th>\n",
       "      <td>A3DD03C9</td>\n",
       "      <td>Dragons in the Sunset</td>\n",
       "      <td>Fire + Ice</td>\n",
       "      <td>folk</td>\n",
       "      <td>Saint-Petersburg</td>\n",
       "      <td>08:37:09</td>\n",
       "      <td>Monday</td>\n",
       "    </tr>\n",
       "    <tr>\n",
       "      <th>4</th>\n",
       "      <td>E2DC1FAE</td>\n",
       "      <td>Soul People</td>\n",
       "      <td>Space Echo</td>\n",
       "      <td>dance</td>\n",
       "      <td>Moscow</td>\n",
       "      <td>08:34:34</td>\n",
       "      <td>Monday</td>\n",
       "    </tr>\n",
       "    <tr>\n",
       "      <th>5</th>\n",
       "      <td>842029A1</td>\n",
       "      <td>Преданная</td>\n",
       "      <td>IMPERVTOR</td>\n",
       "      <td>rusrap</td>\n",
       "      <td>Saint-Petersburg</td>\n",
       "      <td>13:09:41</td>\n",
       "      <td>Friday</td>\n",
       "    </tr>\n",
       "    <tr>\n",
       "      <th>6</th>\n",
       "      <td>4CB90AA5</td>\n",
       "      <td>True</td>\n",
       "      <td>Roman Messer</td>\n",
       "      <td>dance</td>\n",
       "      <td>Moscow</td>\n",
       "      <td>13:00:07</td>\n",
       "      <td>Wednesday</td>\n",
       "    </tr>\n",
       "    <tr>\n",
       "      <th>7</th>\n",
       "      <td>F03E1C1F</td>\n",
       "      <td>Feeling This Way</td>\n",
       "      <td>Polina Griffith</td>\n",
       "      <td>dance</td>\n",
       "      <td>Moscow</td>\n",
       "      <td>20:47:49</td>\n",
       "      <td>Wednesday</td>\n",
       "    </tr>\n",
       "    <tr>\n",
       "      <th>8</th>\n",
       "      <td>8FA1D3BE</td>\n",
       "      <td>И вновь продолжается бой</td>\n",
       "      <td>unknown</td>\n",
       "      <td>ruspop</td>\n",
       "      <td>Moscow</td>\n",
       "      <td>09:17:40</td>\n",
       "      <td>Friday</td>\n",
       "    </tr>\n",
       "    <tr>\n",
       "      <th>9</th>\n",
       "      <td>E772D5C0</td>\n",
       "      <td>Pessimist</td>\n",
       "      <td>unknown</td>\n",
       "      <td>dance</td>\n",
       "      <td>Saint-Petersburg</td>\n",
       "      <td>21:20:49</td>\n",
       "      <td>Wednesday</td>\n",
       "    </tr>\n",
       "  </tbody>\n",
       "</table>\n",
       "</div>"
      ],
      "text/plain": [
       "    user_id                        track            artist   genre  \\\n",
       "0  FFB692EC            Kamigata To Boots  The Mass Missile    rock   \n",
       "1  55204538  Delayed Because of Accident  Andreas Rönnberg    rock   \n",
       "2    20EC38            Funiculì funiculà       Mario Lanza     pop   \n",
       "3  A3DD03C9        Dragons in the Sunset        Fire + Ice    folk   \n",
       "4  E2DC1FAE                  Soul People        Space Echo   dance   \n",
       "5  842029A1                    Преданная         IMPERVTOR  rusrap   \n",
       "6  4CB90AA5                         True      Roman Messer   dance   \n",
       "7  F03E1C1F             Feeling This Way   Polina Griffith   dance   \n",
       "8  8FA1D3BE     И вновь продолжается бой           unknown  ruspop   \n",
       "9  E772D5C0                    Pessimist           unknown   dance   \n",
       "\n",
       "               city      time        day  \n",
       "0  Saint-Petersburg  20:28:33  Wednesday  \n",
       "1            Moscow  14:07:09     Friday  \n",
       "2  Saint-Petersburg  20:58:07  Wednesday  \n",
       "3  Saint-Petersburg  08:37:09     Monday  \n",
       "4            Moscow  08:34:34     Monday  \n",
       "5  Saint-Petersburg  13:09:41     Friday  \n",
       "6            Moscow  13:00:07  Wednesday  \n",
       "7            Moscow  20:47:49  Wednesday  \n",
       "8            Moscow  09:17:40     Friday  \n",
       "9  Saint-Petersburg  21:20:49  Wednesday  "
      ]
     },
     "metadata": {},
     "output_type": "display_data"
    }
   ],
   "source": [
    "columns_to_replace = ['track', 'artist', 'genre']\n",
    "\n",
    "for item_in_column in columns_to_replace:\n",
    "    df[item_in_column] = df[item_in_column].fillna('unknown')\n",
    "        # перебор названий столбцов в цикле и замена пропущенных значений на 'unknown'\n",
    "\n",
    "#display(df)\n",
    "display(df.head(10))"
   ]
  },
  {
   "cell_type": "markdown",
   "metadata": {
    "id": "Ilsm-MZo_Zct"
   },
   "source": [
    "Убедитесь, что в таблице не осталось пропусков. Для этого ещё раз посчитайте пропущенные значения."
   ]
  },
  {
   "cell_type": "code",
   "execution_count": 10,
   "metadata": {
    "id": "Tq4nYRX4_Zct",
    "scrolled": true
   },
   "outputs": [
    {
     "data": {
      "text/plain": [
       "user_id    0\n",
       "track      0\n",
       "artist     0\n",
       "genre      0\n",
       "city       0\n",
       "time       0\n",
       "day        0\n",
       "dtype: int64"
      ]
     },
     "execution_count": 10,
     "metadata": {},
     "output_type": "execute_result"
    }
   ],
   "source": [
    "df.isna().sum() # подсчёт пропусков"
   ]
  },
  {
   "cell_type": "markdown",
   "metadata": {
    "id": "BWKRtBJ3_Zct"
   },
   "source": [
    "### 2.3  Дубликаты\n",
    "Посчитайте явные дубликаты в таблице одной командой:"
   ]
  },
  {
   "cell_type": "code",
   "execution_count": 11,
   "metadata": {
    "id": "36eES_S0_Zct"
   },
   "outputs": [
    {
     "data": {
      "text/plain": [
       "3826"
      ]
     },
     "execution_count": 11,
     "metadata": {},
     "output_type": "execute_result"
    }
   ],
   "source": [
    "df.duplicated().sum() # подсчёт явных дубликатов"
   ]
  },
  {
   "cell_type": "markdown",
   "metadata": {
    "id": "Ot25h6XR_Zct"
   },
   "source": [
    "Вызовите специальный метод `pandas`, чтобы удалить явные дубликаты:"
   ]
  },
  {
   "cell_type": "code",
   "execution_count": 12,
   "metadata": {
    "id": "exFHq6tt_Zct"
   },
   "outputs": [
    {
     "data": {
      "text/html": [
       "<div>\n",
       "<style scoped>\n",
       "    .dataframe tbody tr th:only-of-type {\n",
       "        vertical-align: middle;\n",
       "    }\n",
       "\n",
       "    .dataframe tbody tr th {\n",
       "        vertical-align: top;\n",
       "    }\n",
       "\n",
       "    .dataframe thead th {\n",
       "        text-align: right;\n",
       "    }\n",
       "</style>\n",
       "<table border=\"1\" class=\"dataframe\">\n",
       "  <thead>\n",
       "    <tr style=\"text-align: right;\">\n",
       "      <th></th>\n",
       "      <th>user_id</th>\n",
       "      <th>track</th>\n",
       "      <th>artist</th>\n",
       "      <th>genre</th>\n",
       "      <th>city</th>\n",
       "      <th>time</th>\n",
       "      <th>day</th>\n",
       "    </tr>\n",
       "  </thead>\n",
       "  <tbody>\n",
       "    <tr>\n",
       "      <th>0</th>\n",
       "      <td>FFB692EC</td>\n",
       "      <td>Kamigata To Boots</td>\n",
       "      <td>The Mass Missile</td>\n",
       "      <td>rock</td>\n",
       "      <td>Saint-Petersburg</td>\n",
       "      <td>20:28:33</td>\n",
       "      <td>Wednesday</td>\n",
       "    </tr>\n",
       "    <tr>\n",
       "      <th>1</th>\n",
       "      <td>55204538</td>\n",
       "      <td>Delayed Because of Accident</td>\n",
       "      <td>Andreas Rönnberg</td>\n",
       "      <td>rock</td>\n",
       "      <td>Moscow</td>\n",
       "      <td>14:07:09</td>\n",
       "      <td>Friday</td>\n",
       "    </tr>\n",
       "    <tr>\n",
       "      <th>2</th>\n",
       "      <td>20EC38</td>\n",
       "      <td>Funiculì funiculà</td>\n",
       "      <td>Mario Lanza</td>\n",
       "      <td>pop</td>\n",
       "      <td>Saint-Petersburg</td>\n",
       "      <td>20:58:07</td>\n",
       "      <td>Wednesday</td>\n",
       "    </tr>\n",
       "    <tr>\n",
       "      <th>3</th>\n",
       "      <td>A3DD03C9</td>\n",
       "      <td>Dragons in the Sunset</td>\n",
       "      <td>Fire + Ice</td>\n",
       "      <td>folk</td>\n",
       "      <td>Saint-Petersburg</td>\n",
       "      <td>08:37:09</td>\n",
       "      <td>Monday</td>\n",
       "    </tr>\n",
       "    <tr>\n",
       "      <th>4</th>\n",
       "      <td>E2DC1FAE</td>\n",
       "      <td>Soul People</td>\n",
       "      <td>Space Echo</td>\n",
       "      <td>dance</td>\n",
       "      <td>Moscow</td>\n",
       "      <td>08:34:34</td>\n",
       "      <td>Monday</td>\n",
       "    </tr>\n",
       "    <tr>\n",
       "      <th>...</th>\n",
       "      <td>...</td>\n",
       "      <td>...</td>\n",
       "      <td>...</td>\n",
       "      <td>...</td>\n",
       "      <td>...</td>\n",
       "      <td>...</td>\n",
       "      <td>...</td>\n",
       "    </tr>\n",
       "    <tr>\n",
       "      <th>61248</th>\n",
       "      <td>729CBB09</td>\n",
       "      <td>My Name</td>\n",
       "      <td>McLean</td>\n",
       "      <td>rnb</td>\n",
       "      <td>Moscow</td>\n",
       "      <td>13:32:28</td>\n",
       "      <td>Wednesday</td>\n",
       "    </tr>\n",
       "    <tr>\n",
       "      <th>61249</th>\n",
       "      <td>D08D4A55</td>\n",
       "      <td>Maybe One Day (feat. Black Spade)</td>\n",
       "      <td>Blu &amp; Exile</td>\n",
       "      <td>hip</td>\n",
       "      <td>Saint-Petersburg</td>\n",
       "      <td>10:00:00</td>\n",
       "      <td>Monday</td>\n",
       "    </tr>\n",
       "    <tr>\n",
       "      <th>61250</th>\n",
       "      <td>C5E3A0D5</td>\n",
       "      <td>Jalopiina</td>\n",
       "      <td>unknown</td>\n",
       "      <td>industrial</td>\n",
       "      <td>Moscow</td>\n",
       "      <td>20:09:26</td>\n",
       "      <td>Friday</td>\n",
       "    </tr>\n",
       "    <tr>\n",
       "      <th>61251</th>\n",
       "      <td>321D0506</td>\n",
       "      <td>Freight Train</td>\n",
       "      <td>Chas McDevitt</td>\n",
       "      <td>rock</td>\n",
       "      <td>Moscow</td>\n",
       "      <td>21:43:59</td>\n",
       "      <td>Friday</td>\n",
       "    </tr>\n",
       "    <tr>\n",
       "      <th>61252</th>\n",
       "      <td>3A64EF84</td>\n",
       "      <td>Tell Me Sweet Little Lies</td>\n",
       "      <td>Monica Lopez</td>\n",
       "      <td>country</td>\n",
       "      <td>Moscow</td>\n",
       "      <td>21:59:46</td>\n",
       "      <td>Friday</td>\n",
       "    </tr>\n",
       "  </tbody>\n",
       "</table>\n",
       "<p>61253 rows × 7 columns</p>\n",
       "</div>"
      ],
      "text/plain": [
       "        user_id                              track            artist  \\\n",
       "0      FFB692EC                  Kamigata To Boots  The Mass Missile   \n",
       "1      55204538        Delayed Because of Accident  Andreas Rönnberg   \n",
       "2        20EC38                  Funiculì funiculà       Mario Lanza   \n",
       "3      A3DD03C9              Dragons in the Sunset        Fire + Ice   \n",
       "4      E2DC1FAE                        Soul People        Space Echo   \n",
       "...         ...                                ...               ...   \n",
       "61248  729CBB09                            My Name            McLean   \n",
       "61249  D08D4A55  Maybe One Day (feat. Black Spade)       Blu & Exile   \n",
       "61250  C5E3A0D5                          Jalopiina           unknown   \n",
       "61251  321D0506                      Freight Train     Chas McDevitt   \n",
       "61252  3A64EF84          Tell Me Sweet Little Lies      Monica Lopez   \n",
       "\n",
       "            genre              city      time        day  \n",
       "0            rock  Saint-Petersburg  20:28:33  Wednesday  \n",
       "1            rock            Moscow  14:07:09     Friday  \n",
       "2             pop  Saint-Petersburg  20:58:07  Wednesday  \n",
       "3            folk  Saint-Petersburg  08:37:09     Monday  \n",
       "4           dance            Moscow  08:34:34     Monday  \n",
       "...           ...               ...       ...        ...  \n",
       "61248         rnb            Moscow  13:32:28  Wednesday  \n",
       "61249         hip  Saint-Petersburg  10:00:00     Monday  \n",
       "61250  industrial            Moscow  20:09:26     Friday  \n",
       "61251        rock            Moscow  21:43:59     Friday  \n",
       "61252     country            Moscow  21:59:46     Friday  \n",
       "\n",
       "[61253 rows x 7 columns]"
      ]
     },
     "metadata": {},
     "output_type": "display_data"
    }
   ],
   "source": [
    "df = df.drop_duplicates().reset_index(drop=True)    \n",
    "display(df) # удаление явных дубликатов (с удалением старых индексов и формированием новых)"
   ]
  },
  {
   "cell_type": "markdown",
   "metadata": {
    "id": "Im2YwBEG_Zct"
   },
   "source": [
    "Ещё раз посчитайте явные дубликаты в таблице — убедитесь, что полностью от них избавились:"
   ]
  },
  {
   "cell_type": "code",
   "execution_count": 13,
   "metadata": {
    "id": "-8PuNWQ0_Zct"
   },
   "outputs": [
    {
     "data": {
      "text/plain": [
       "0"
      ]
     },
     "execution_count": 13,
     "metadata": {},
     "output_type": "execute_result"
    }
   ],
   "source": [
    "df.duplicated().sum() # проверка на отсутствие дубликатов"
   ]
  },
  {
   "cell_type": "markdown",
   "metadata": {
    "id": "QlFBsxAr_Zct"
   },
   "source": [
    "Теперь избавьтесь от неявных дубликатов в колонке `genre`. Например, название одного и того же жанра может быть записано немного по-разному. Такие ошибки тоже повлияют на результат исследования."
   ]
  },
  {
   "cell_type": "markdown",
   "metadata": {
    "id": "eSjWwsOh_Zct"
   },
   "source": [
    "Выведите на экран список уникальных названий жанров, отсортированный в алфавитном порядке. Для этого:\n",
    "* извлеките нужный столбец датафрейма, \n",
    "* примените к нему метод сортировки,\n",
    "* для отсортированного столбца вызовите метод, который вернёт уникальные значения из столбца."
   ]
  },
  {
   "cell_type": "code",
   "execution_count": 14,
   "metadata": {
    "id": "JIUcqzZN_Zct"
   },
   "outputs": [
    {
     "data": {
      "text/plain": [
       "array(['acid', 'acoustic', 'action', 'adult', 'africa', 'afrikaans',\n",
       "       'alternative', 'alternativepunk', 'ambient', 'americana',\n",
       "       'animated', 'anime', 'arabesk', 'arabic', 'arena',\n",
       "       'argentinetango', 'art', 'audiobook', 'author', 'avantgarde',\n",
       "       'axé', 'baile', 'balkan', 'beats', 'bigroom', 'black', 'bluegrass',\n",
       "       'blues', 'bollywood', 'bossa', 'brazilian', 'breakbeat', 'breaks',\n",
       "       'broadway', 'cantautori', 'cantopop', 'canzone', 'caribbean',\n",
       "       'caucasian', 'celtic', 'chamber', 'chanson', 'children', 'chill',\n",
       "       'chinese', 'choral', 'christian', 'christmas', 'classical',\n",
       "       'classicmetal', 'club', 'colombian', 'comedy', 'conjazz',\n",
       "       'contemporary', 'country', 'cuban', 'dance', 'dancehall',\n",
       "       'dancepop', 'dark', 'death', 'deep', 'deutschrock', 'deutschspr',\n",
       "       'dirty', 'disco', 'dnb', 'documentary', 'downbeat', 'downtempo',\n",
       "       'drum', 'dub', 'dubstep', 'eastern', 'easy', 'electronic',\n",
       "       'electropop', 'emo', 'entehno', 'epicmetal', 'estrada', 'ethnic',\n",
       "       'eurofolk', 'european', 'experimental', 'extrememetal', 'fado',\n",
       "       'fairytail', 'film', 'fitness', 'flamenco', 'folk', 'folklore',\n",
       "       'folkmetal', 'folkrock', 'folktronica', 'forró', 'frankreich',\n",
       "       'französisch', 'french', 'funk', 'future', 'gangsta', 'garage',\n",
       "       'german', 'ghazal', 'gitarre', 'glitch', 'gospel', 'gothic',\n",
       "       'grime', 'grunge', 'gypsy', 'handsup', \"hard'n'heavy\", 'hardcore',\n",
       "       'hardstyle', 'hardtechno', 'hip', 'hip-hop', 'hiphop',\n",
       "       'historisch', 'holiday', 'hop', 'horror', 'house', 'hymn', 'idm',\n",
       "       'independent', 'indian', 'indie', 'indipop', 'industrial',\n",
       "       'inspirational', 'instrumental', 'international', 'irish', 'jam',\n",
       "       'japanese', 'jazz', 'jewish', 'jpop', 'jungle', 'k-pop',\n",
       "       'karadeniz', 'karaoke', 'kayokyoku', 'korean', 'laiko', 'latin',\n",
       "       'latino', 'leftfield', 'local', 'lounge', 'loungeelectronic',\n",
       "       'lovers', 'malaysian', 'mandopop', 'marschmusik', 'meditative',\n",
       "       'mediterranean', 'melodic', 'metal', 'metalcore', 'mexican',\n",
       "       'middle', 'minimal', 'miscellaneous', 'modern', 'mood', 'mpb',\n",
       "       'muslim', 'native', 'neoklassik', 'neue', 'new', 'newage',\n",
       "       'newwave', 'nu', 'nujazz', 'numetal', 'oceania', 'old', 'opera',\n",
       "       'orchestral', 'other', 'piano', 'podcasts', 'pop', 'popdance',\n",
       "       'popelectronic', 'popeurodance', 'poprussian', 'post',\n",
       "       'posthardcore', 'postrock', 'power', 'progmetal', 'progressive',\n",
       "       'psychedelic', 'punjabi', 'punk', 'quebecois', 'ragga', 'ram',\n",
       "       'rancheras', 'rap', 'rave', 'reggae', 'reggaeton', 'regional',\n",
       "       'relax', 'religious', 'retro', 'rhythm', 'rnb', 'rnr', 'rock',\n",
       "       'rockabilly', 'rockalternative', 'rockindie', 'rockother',\n",
       "       'romance', 'roots', 'ruspop', 'rusrap', 'rusrock', 'russian',\n",
       "       'salsa', 'samba', 'scenic', 'schlager', 'self', 'sertanejo',\n",
       "       'shanson', 'shoegazing', 'showtunes', 'singer', 'ska', 'skarock',\n",
       "       'slow', 'smooth', 'soft', 'soul', 'soulful', 'sound', 'soundtrack',\n",
       "       'southern', 'specialty', 'speech', 'spiritual', 'sport',\n",
       "       'stonerrock', 'surf', 'swing', 'synthpop', 'synthrock',\n",
       "       'sängerportrait', 'tango', 'tanzorchester', 'taraftar', 'tatar',\n",
       "       'tech', 'techno', 'teen', 'thrash', 'top', 'traditional',\n",
       "       'tradjazz', 'trance', 'tribal', 'trip', 'triphop', 'tropical',\n",
       "       'türk', 'türkçe', 'ukrrock', 'unknown', 'urban', 'uzbek',\n",
       "       'variété', 'vi', 'videogame', 'vocal', 'western', 'world',\n",
       "       'worldbeat', 'ïîï', 'электроника'], dtype=object)"
      ]
     },
     "execution_count": 14,
     "metadata": {},
     "output_type": "execute_result"
    }
   ],
   "source": [
    "df['genre'].sort_values().unique() # Просмотр уникальных названий жанров"
   ]
  },
  {
   "cell_type": "markdown",
   "metadata": {
    "id": "qej-Qmuo_Zct"
   },
   "source": [
    "Просмотрите список и найдите неявные дубликаты названия `hiphop`. Это могут быть названия с ошибками или альтернативные названия того же жанра.\n",
    "\n",
    "Вы увидите следующие неявные дубликаты:\n",
    "* *hip*,\n",
    "* *hop*,\n",
    "* *hip-hop*.\n",
    "\n",
    "Чтобы очистить от них таблицу, напишите функцию `replace_wrong_genres()` с двумя параметрами: \n",
    "* `wrong_genres` — список дубликатов,\n",
    "* `correct_genre` — строка с правильным значением.\n",
    "\n",
    "Функция должна исправить колонку `genre` в таблице `df`: заменить каждое значение из списка `wrong_genres` на значение из `correct_genre`."
   ]
  },
  {
   "cell_type": "code",
   "execution_count": 15,
   "metadata": {
    "id": "ErNDkmns_Zct"
   },
   "outputs": [],
   "source": [
    "def replace_wrong_genres(wrong_genres, correct_genre):  # Функция для замены неявных дубликатов\n",
    "    for wrong_genre in wrong_genres:\n",
    "        df['genre'] = df['genre'].replace(wrong_genre, correct_genre)"
   ]
  },
  {
   "cell_type": "markdown",
   "metadata": {
    "id": "aDoBJxbA_Zct"
   },
   "source": [
    "Вызовите `replace_wrong_genres()` и передайте ей такие аргументы, чтобы она устранила неявные дубликаты: вместо `hip`, `hop` и `hip-hop` в таблице должно быть значение `hiphop`:"
   ]
  },
  {
   "cell_type": "code",
   "execution_count": 16,
   "metadata": {
    "id": "YN5i2hpmSo09"
   },
   "outputs": [],
   "source": [
    "replace_wrong_genres(['hip', 'hop', 'hip-hop'], 'hiphop') # Устранение неявных дубликатов    "
   ]
  },
  {
   "cell_type": "markdown",
   "metadata": {
    "id": "zQKF16_RG15m"
   },
   "source": [
    "Проверьте, что заменили неправильные названия:\n",
    "\n",
    "*   hip\n",
    "*   hop\n",
    "*   hip-hop\n",
    "\n",
    "Выведите отсортированный список уникальных значений столбца `genre`:"
   ]
  },
  {
   "cell_type": "code",
   "execution_count": 17,
   "metadata": {
    "id": "wvixALnFG15m"
   },
   "outputs": [
    {
     "name": "stdout",
     "output_type": "stream",
     "text": [
      "Количество дубликатов значения hip : 0\n",
      "Количество дубликатов значения hop : 0\n",
      "Количество дубликатов значения hip-hop : 0\n"
     ]
    },
    {
     "data": {
      "text/plain": [
       "array(['acid', 'acoustic', 'action', 'adult', 'africa', 'afrikaans',\n",
       "       'alternative', 'alternativepunk', 'ambient', 'americana',\n",
       "       'animated', 'anime', 'arabesk', 'arabic', 'arena',\n",
       "       'argentinetango', 'art', 'audiobook', 'author', 'avantgarde',\n",
       "       'axé', 'baile', 'balkan', 'beats', 'bigroom', 'black', 'bluegrass',\n",
       "       'blues', 'bollywood', 'bossa', 'brazilian', 'breakbeat', 'breaks',\n",
       "       'broadway', 'cantautori', 'cantopop', 'canzone', 'caribbean',\n",
       "       'caucasian', 'celtic', 'chamber', 'chanson', 'children', 'chill',\n",
       "       'chinese', 'choral', 'christian', 'christmas', 'classical',\n",
       "       'classicmetal', 'club', 'colombian', 'comedy', 'conjazz',\n",
       "       'contemporary', 'country', 'cuban', 'dance', 'dancehall',\n",
       "       'dancepop', 'dark', 'death', 'deep', 'deutschrock', 'deutschspr',\n",
       "       'dirty', 'disco', 'dnb', 'documentary', 'downbeat', 'downtempo',\n",
       "       'drum', 'dub', 'dubstep', 'eastern', 'easy', 'electronic',\n",
       "       'electropop', 'emo', 'entehno', 'epicmetal', 'estrada', 'ethnic',\n",
       "       'eurofolk', 'european', 'experimental', 'extrememetal', 'fado',\n",
       "       'fairytail', 'film', 'fitness', 'flamenco', 'folk', 'folklore',\n",
       "       'folkmetal', 'folkrock', 'folktronica', 'forró', 'frankreich',\n",
       "       'französisch', 'french', 'funk', 'future', 'gangsta', 'garage',\n",
       "       'german', 'ghazal', 'gitarre', 'glitch', 'gospel', 'gothic',\n",
       "       'grime', 'grunge', 'gypsy', 'handsup', \"hard'n'heavy\", 'hardcore',\n",
       "       'hardstyle', 'hardtechno', 'hiphop', 'historisch', 'holiday',\n",
       "       'horror', 'house', 'hymn', 'idm', 'independent', 'indian', 'indie',\n",
       "       'indipop', 'industrial', 'inspirational', 'instrumental',\n",
       "       'international', 'irish', 'jam', 'japanese', 'jazz', 'jewish',\n",
       "       'jpop', 'jungle', 'k-pop', 'karadeniz', 'karaoke', 'kayokyoku',\n",
       "       'korean', 'laiko', 'latin', 'latino', 'leftfield', 'local',\n",
       "       'lounge', 'loungeelectronic', 'lovers', 'malaysian', 'mandopop',\n",
       "       'marschmusik', 'meditative', 'mediterranean', 'melodic', 'metal',\n",
       "       'metalcore', 'mexican', 'middle', 'minimal', 'miscellaneous',\n",
       "       'modern', 'mood', 'mpb', 'muslim', 'native', 'neoklassik', 'neue',\n",
       "       'new', 'newage', 'newwave', 'nu', 'nujazz', 'numetal', 'oceania',\n",
       "       'old', 'opera', 'orchestral', 'other', 'piano', 'podcasts', 'pop',\n",
       "       'popdance', 'popelectronic', 'popeurodance', 'poprussian', 'post',\n",
       "       'posthardcore', 'postrock', 'power', 'progmetal', 'progressive',\n",
       "       'psychedelic', 'punjabi', 'punk', 'quebecois', 'ragga', 'ram',\n",
       "       'rancheras', 'rap', 'rave', 'reggae', 'reggaeton', 'regional',\n",
       "       'relax', 'religious', 'retro', 'rhythm', 'rnb', 'rnr', 'rock',\n",
       "       'rockabilly', 'rockalternative', 'rockindie', 'rockother',\n",
       "       'romance', 'roots', 'ruspop', 'rusrap', 'rusrock', 'russian',\n",
       "       'salsa', 'samba', 'scenic', 'schlager', 'self', 'sertanejo',\n",
       "       'shanson', 'shoegazing', 'showtunes', 'singer', 'ska', 'skarock',\n",
       "       'slow', 'smooth', 'soft', 'soul', 'soulful', 'sound', 'soundtrack',\n",
       "       'southern', 'specialty', 'speech', 'spiritual', 'sport',\n",
       "       'stonerrock', 'surf', 'swing', 'synthpop', 'synthrock',\n",
       "       'sängerportrait', 'tango', 'tanzorchester', 'taraftar', 'tatar',\n",
       "       'tech', 'techno', 'teen', 'thrash', 'top', 'traditional',\n",
       "       'tradjazz', 'trance', 'tribal', 'trip', 'triphop', 'tropical',\n",
       "       'türk', 'türkçe', 'ukrrock', 'unknown', 'urban', 'uzbek',\n",
       "       'variété', 'vi', 'videogame', 'vocal', 'western', 'world',\n",
       "       'worldbeat', 'ïîï', 'электроника'], dtype=object)"
      ]
     },
     "execution_count": 17,
     "metadata": {},
     "output_type": "execute_result"
    }
   ],
   "source": [
    "def count_upload_genres(wrong_genres):  # Функция для замены неявных дубликатов\n",
    "    for wrong_genre in wrong_genres:\n",
    "        count_upload = df[df['genre'] == wrong_genre]['genre']\n",
    "        print('Количество дубликатов значения ' + wrong_genre + ' : ' + str(count_upload.count()))\n",
    "\n",
    "count_upload_genres(['hip', 'hop', 'hip-hop'])        \n",
    "        \n",
    "df['genre'].sort_values().unique() # Проверка на неявные дубликаты"
   ]
  },
  {
   "cell_type": "markdown",
   "metadata": {
    "id": "jz6a9-7HQUDd"
   },
   "source": [
    "**Выводы**\n",
    "\n",
    "Предобработка обнаружила три проблемы в данных:\n",
    "\n",
    "- нарушения в стиле заголовков,\n",
    "- пропущенные значения,\n",
    "- дубликаты — явные и неявные.\n",
    "\n",
    "Вы исправили заголовки, чтобы упростить работу с таблицей. Без дубликатов исследование станет более точным.\n",
    "\n",
    "Пропущенные значения вы заменили на `'unknown'`. Ещё предстоит увидеть, не повредят ли исследованию пропуски в колонке `genre`.\n",
    "\n",
    "Теперь можно перейти к проверке гипотез. "
   ]
  },
  {
   "cell_type": "markdown",
   "metadata": {
    "id": "WttZHXH0SqKk"
   },
   "source": [
    "## 3  Проверка гипотез"
   ]
  },
  {
   "cell_type": "markdown",
   "metadata": {
    "id": "Im936VVi_Zcu"
   },
   "source": [
    "### 3.1  Сравнение поведения пользователей двух столиц"
   ]
  },
  {
   "cell_type": "markdown",
   "metadata": {
    "id": "nwt_MuaL_Zcu"
   },
   "source": [
    "Первая гипотеза утверждает, что пользователи по-разному слушают музыку в Москве и Санкт-Петербурге. Проверьте это предположение по данным о трёх днях недели — понедельнике, среде и пятнице. Для этого:\n",
    "\n",
    "* Разделите пользователей Москвы и Санкт-Петербурга\n",
    "* Сравните, сколько треков послушала каждая группа пользователей в понедельник, среду и пятницу.\n"
   ]
  },
  {
   "cell_type": "markdown",
   "metadata": {
    "id": "8Dw_YMmT_Zcu"
   },
   "source": [
    "Для тренировки сначала выполните каждый из расчётов по отдельности. \n",
    "\n",
    "Оцените активность пользователей в каждом городе. Сгруппируйте данные по городу и посчитайте прослушивания в каждой группе.\n",
    "\n"
   ]
  },
  {
   "cell_type": "code",
   "execution_count": 18,
   "metadata": {
    "id": "0_Qs96oh_Zcu"
   },
   "outputs": [
    {
     "data": {
      "text/plain": [
       "city\n",
       "Moscow              42741\n",
       "Saint-Petersburg    18512\n",
       "Name: user_id, dtype: int64"
      ]
     },
     "execution_count": 18,
     "metadata": {},
     "output_type": "execute_result"
    }
   ],
   "source": [
    "city_users = df.groupby('city')['user_id'].count() # Подсчёт прослушиваний в каждом городе\n",
    "city_users"
   ]
  },
  {
   "cell_type": "markdown",
   "metadata": {
    "id": "dzli3w8o_Zcu"
   },
   "source": [
    "В Москве прослушиваний больше, чем в Петербурге. Из этого не следует, что московские пользователи чаще слушают музыку. Просто самих пользователей в Москве больше.\n",
    "\n",
    "Теперь сгруппируйте данные по дню недели и подсчитайте прослушивания в понедельник, среду и пятницу. Учтите, что в данных есть информация о прослушиваниях только за эти дни.\n"
   ]
  },
  {
   "cell_type": "code",
   "execution_count": 19,
   "metadata": {
    "id": "uZMKjiJz_Zcu"
   },
   "outputs": [
    {
     "name": "stdout",
     "output_type": "stream",
     "text": [
      "Monday:\n"
     ]
    },
    {
     "data": {
      "text/plain": [
       "3        A3DD03C9\n",
       "4        E2DC1FAE\n",
       "10       BC5A3A29\n",
       "11       8B5192C0\n",
       "12       FF3FD2BD\n",
       "           ...   \n",
       "61240    BC8EC5CF\n",
       "61241    29E04611\n",
       "61242    1B91C621\n",
       "61247    83A474E7\n",
       "61249    D08D4A55\n",
       "Name: user_id, Length: 21354, dtype: object"
      ]
     },
     "metadata": {},
     "output_type": "display_data"
    },
    {
     "data": {
      "text/plain": [
       "21354"
      ]
     },
     "metadata": {},
     "output_type": "display_data"
    },
    {
     "name": "stdout",
     "output_type": "stream",
     "text": [
      "\n",
      "Wednesday:\n"
     ]
    },
    {
     "data": {
      "text/plain": [
       "0        FFB692EC\n",
       "2          20EC38\n",
       "6        4CB90AA5\n",
       "7        F03E1C1F\n",
       "9        E772D5C0\n",
       "           ...   \n",
       "61234    8624CE71\n",
       "61236    574EBCB0\n",
       "61237    F170C7C0\n",
       "61243    9E65547F\n",
       "61248    729CBB09\n",
       "Name: user_id, Length: 18059, dtype: object"
      ]
     },
     "metadata": {},
     "output_type": "display_data"
    },
    {
     "data": {
      "text/plain": [
       "18059"
      ]
     },
     "metadata": {},
     "output_type": "display_data"
    },
    {
     "name": "stdout",
     "output_type": "stream",
     "text": [
      "\n",
      "Friday:\n"
     ]
    },
    {
     "data": {
      "text/plain": [
       "1        55204538\n",
       "5        842029A1\n",
       "8        8FA1D3BE\n",
       "13       CC782B0F\n",
       "30       EBA5A8B2\n",
       "           ...   \n",
       "61245    92378E24\n",
       "61246    C532021D\n",
       "61250    C5E3A0D5\n",
       "61251    321D0506\n",
       "61252    3A64EF84\n",
       "Name: user_id, Length: 21840, dtype: object"
      ]
     },
     "metadata": {},
     "output_type": "display_data"
    },
    {
     "data": {
      "text/plain": [
       "21840"
      ]
     },
     "metadata": {},
     "output_type": "display_data"
    },
    {
     "name": "stdout",
     "output_type": "stream",
     "text": [
      "\n"
     ]
    }
   ],
   "source": [
    "days = ['Monday', 'Wednesday', 'Friday'] \n",
    "\n",
    "def days_lister_count(number_days):\n",
    "    for number_day in number_days:\n",
    "        print(number_day + ':')\n",
    "        df_days = df[df['day'] == number_day]['user_id']\n",
    "        display(df_days)\n",
    "        display(df_days.count())\n",
    "        print()\n",
    "            \n",
    "days_lister_count(days) # Подсчёт прослушиваний в каждый из трёх дней"
   ]
  },
  {
   "cell_type": "markdown",
   "metadata": {
    "id": "cC2tNrlL_Zcu"
   },
   "source": [
    "В среднем пользователи из двух городов менее активны по средам. Но картина может измениться, если рассмотреть каждый город в отдельности."
   ]
  },
  {
   "cell_type": "markdown",
   "metadata": {
    "id": "POzs8bGa_Zcu"
   },
   "source": [
    "Вы видели, как работает группировка по городу и по дням недели. Теперь напишите функцию, которая объединит два эти расчёта.\n",
    "\n",
    "Создайте функцию `number_tracks()`, которая посчитает прослушивания для заданного дня и города. Ей понадобятся два параметра:\n",
    "* день недели,\n",
    "* название города.\n",
    "\n",
    "В функции сохраните в переменную строки исходной таблицы, у которых значение:\n",
    "  * в колонке `day` равно параметру `day`,\n",
    "  * в колонке `city` равно параметру `city`.\n",
    "\n",
    "Для этого примените последовательную фильтрацию с логической индексацией.\n",
    "\n",
    "Затем посчитайте значения в столбце `user_id` получившейся таблицы. Результат сохраните в новую переменную. Верните эту переменную из функции."
   ]
  },
  {
   "cell_type": "code",
   "execution_count": 20,
   "metadata": {
    "id": "Nz3GdQB1_Zcu"
   },
   "outputs": [],
   "source": [
    "cities = ['Moscow', 'Saint-Petersburg'] \n",
    "\n",
    "def number_tracks(day, city): \n",
    "    track_list = df[(df['day'] == day) & (df['city'] == city)]['user_id']\n",
    "    track_list_count = track_list.count()\n",
    "    return track_list_count"
   ]
  },
  {
   "cell_type": "markdown",
   "metadata": {
    "id": "ytf7xFrFJQ2r"
   },
   "source": [
    "Вызовите `number_tracks()` шесть раз, меняя значение параметров — так, чтобы получить данные для каждого города в каждый из трёх дней."
   ]
  },
  {
   "cell_type": "code",
   "execution_count": 21,
   "metadata": {
    "id": "rJcRATNQ_Zcu"
   },
   "outputs": [
    {
     "data": {
      "text/plain": [
       "15740"
      ]
     },
     "execution_count": 21,
     "metadata": {},
     "output_type": "execute_result"
    }
   ],
   "source": [
    "tracks_count00 = number_tracks(days[0], cities[0])\n",
    "tracks_count00 # количество прослушиваний в Москве по понедельникам"
   ]
  },
  {
   "cell_type": "code",
   "execution_count": 22,
   "metadata": {
    "id": "hq_ncZ5T_Zcu"
   },
   "outputs": [
    {
     "data": {
      "text/plain": [
       "5614"
      ]
     },
     "execution_count": 22,
     "metadata": {},
     "output_type": "execute_result"
    }
   ],
   "source": [
    "tracks_count01 = number_tracks(days[0], cities[1])\n",
    "tracks_count01 # количество прослушиваний в Санкт-Петербурге по понедельникам"
   ]
  },
  {
   "cell_type": "code",
   "execution_count": 23,
   "metadata": {
    "id": "_NTy2VPU_Zcu"
   },
   "outputs": [
    {
     "data": {
      "text/plain": [
       "11056"
      ]
     },
     "execution_count": 23,
     "metadata": {},
     "output_type": "execute_result"
    }
   ],
   "source": [
    "tracks_count10 = number_tracks(days[1], cities[0])\n",
    "tracks_count10 # количество прослушиваний в Москве по средам"
   ]
  },
  {
   "cell_type": "code",
   "execution_count": 24,
   "metadata": {
    "id": "j2y3TAwo_Zcu"
   },
   "outputs": [
    {
     "data": {
      "text/plain": [
       "7003"
      ]
     },
     "execution_count": 24,
     "metadata": {},
     "output_type": "execute_result"
    }
   ],
   "source": [
    "tracks_count11 = number_tracks(days[1], cities[1])\n",
    "tracks_count11 # количество прослушиваний в Санкт-Петербурге по средам"
   ]
  },
  {
   "cell_type": "code",
   "execution_count": 25,
   "metadata": {
    "id": "vYDw5u_K_Zcu"
   },
   "outputs": [
    {
     "data": {
      "text/plain": [
       "15945"
      ]
     },
     "execution_count": 25,
     "metadata": {},
     "output_type": "execute_result"
    }
   ],
   "source": [
    "tracks_count20 = number_tracks(days[2], cities[0])\n",
    "tracks_count20 # количество прослушиваний в Москве по пятницам"
   ]
  },
  {
   "cell_type": "code",
   "execution_count": 26,
   "metadata": {
    "id": "8_yzFtW3_Zcu"
   },
   "outputs": [
    {
     "data": {
      "text/plain": [
       "5895"
      ]
     },
     "execution_count": 26,
     "metadata": {},
     "output_type": "execute_result"
    }
   ],
   "source": [
    "tracks_count21 = number_tracks(days[2], cities[1])\n",
    "tracks_count21 # количество прослушиваний в Санкт-Петербурге по пятницам"
   ]
  },
  {
   "cell_type": "markdown",
   "metadata": {
    "id": "7QXffbO-_Zcu"
   },
   "source": [
    "Создайте c помощью конструктора `pd.DataFrame` таблицу, где\n",
    "* названия колонок — `['city', 'monday', 'wednesday', 'friday']`;\n",
    "* данные — результаты, которые вы получили с помощью `number_tracks`."
   ]
  },
  {
   "cell_type": "code",
   "execution_count": 27,
   "metadata": {
    "id": "APAcLpOr_Zcu"
   },
   "outputs": [
    {
     "data": {
      "text/html": [
       "<div>\n",
       "<style scoped>\n",
       "    .dataframe tbody tr th:only-of-type {\n",
       "        vertical-align: middle;\n",
       "    }\n",
       "\n",
       "    .dataframe tbody tr th {\n",
       "        vertical-align: top;\n",
       "    }\n",
       "\n",
       "    .dataframe thead th {\n",
       "        text-align: right;\n",
       "    }\n",
       "</style>\n",
       "<table border=\"1\" class=\"dataframe\">\n",
       "  <thead>\n",
       "    <tr style=\"text-align: right;\">\n",
       "      <th></th>\n",
       "      <th>city</th>\n",
       "      <th>monday</th>\n",
       "      <th>wednesday</th>\n",
       "      <th>friday</th>\n",
       "    </tr>\n",
       "  </thead>\n",
       "  <tbody>\n",
       "    <tr>\n",
       "      <th>0</th>\n",
       "      <td>Moscow</td>\n",
       "      <td>15740</td>\n",
       "      <td>11056</td>\n",
       "      <td>15945</td>\n",
       "    </tr>\n",
       "    <tr>\n",
       "      <th>1</th>\n",
       "      <td>Saint-Petersburg</td>\n",
       "      <td>5614</td>\n",
       "      <td>7003</td>\n",
       "      <td>5895</td>\n",
       "    </tr>\n",
       "  </tbody>\n",
       "</table>\n",
       "</div>"
      ],
      "text/plain": [
       "               city  monday  wednesday  friday\n",
       "0            Moscow   15740      11056   15945\n",
       "1  Saint-Petersburg    5614       7003    5895"
      ]
     },
     "metadata": {},
     "output_type": "display_data"
    }
   ],
   "source": [
    "header = ['city', 'monday', 'wednesday', 'friday']\n",
    "\n",
    "exp = [ [cities[0], tracks_count00, tracks_count10, tracks_count20],\n",
    "        [cities[1], tracks_count01, tracks_count11, tracks_count21] ]\n",
    "\n",
    "table = pd.DataFrame(data=exp, columns=header)\n",
    "display(table)"
   ]
  },
  {
   "cell_type": "markdown",
   "metadata": {
    "id": "-EgPIHYu_Zcu"
   },
   "source": [
    "**Выводы**\n",
    "\n",
    "Данные показывают разницу поведения пользователей:\n",
    "\n",
    "- В Москве пик прослушиваний приходится на понедельник и пятницу, а в среду заметен спад.\n",
    "- В Петербурге, наоборот, больше слушают музыку по средам. Активность в понедельник и пятницу здесь почти в равной мере уступает среде.\n",
    "\n",
    "Значит, данные говорят в пользу первой гипотезы."
   ]
  },
  {
   "cell_type": "markdown",
   "metadata": {
    "id": "atZAxtq4_Zcu"
   },
   "source": [
    "### 3.2  Музыка в начале и в конце недели"
   ]
  },
  {
   "cell_type": "markdown",
   "metadata": {
    "id": "eXrQqXFH_Zcu"
   },
   "source": [
    "Согласно второй гипотезе, утром в понедельник в Москве преобладают одни жанры, а в Петербурге — другие. Так же и вечером пятницы преобладают разные жанры — в зависимости от города."
   ]
  },
  {
   "cell_type": "markdown",
   "metadata": {
    "id": "S8UcW6Hw_Zcu"
   },
   "source": [
    "Сохраните таблицы с данными в две переменные:\n",
    "* по Москве — в `moscow_general`;\n",
    "* по Санкт-Петербургу — в `spb_general`."
   ]
  },
  {
   "cell_type": "code",
   "execution_count": 28,
   "metadata": {
    "id": "qeaFfM_P_Zcu"
   },
   "outputs": [
    {
     "data": {
      "text/html": [
       "<div>\n",
       "<style scoped>\n",
       "    .dataframe tbody tr th:only-of-type {\n",
       "        vertical-align: middle;\n",
       "    }\n",
       "\n",
       "    .dataframe tbody tr th {\n",
       "        vertical-align: top;\n",
       "    }\n",
       "\n",
       "    .dataframe thead th {\n",
       "        text-align: right;\n",
       "    }\n",
       "</style>\n",
       "<table border=\"1\" class=\"dataframe\">\n",
       "  <thead>\n",
       "    <tr style=\"text-align: right;\">\n",
       "      <th></th>\n",
       "      <th>user_id</th>\n",
       "      <th>track</th>\n",
       "      <th>artist</th>\n",
       "      <th>genre</th>\n",
       "      <th>city</th>\n",
       "      <th>time</th>\n",
       "      <th>day</th>\n",
       "    </tr>\n",
       "  </thead>\n",
       "  <tbody>\n",
       "    <tr>\n",
       "      <th>1</th>\n",
       "      <td>55204538</td>\n",
       "      <td>Delayed Because of Accident</td>\n",
       "      <td>Andreas Rönnberg</td>\n",
       "      <td>rock</td>\n",
       "      <td>Moscow</td>\n",
       "      <td>14:07:09</td>\n",
       "      <td>Friday</td>\n",
       "    </tr>\n",
       "    <tr>\n",
       "      <th>4</th>\n",
       "      <td>E2DC1FAE</td>\n",
       "      <td>Soul People</td>\n",
       "      <td>Space Echo</td>\n",
       "      <td>dance</td>\n",
       "      <td>Moscow</td>\n",
       "      <td>08:34:34</td>\n",
       "      <td>Monday</td>\n",
       "    </tr>\n",
       "    <tr>\n",
       "      <th>6</th>\n",
       "      <td>4CB90AA5</td>\n",
       "      <td>True</td>\n",
       "      <td>Roman Messer</td>\n",
       "      <td>dance</td>\n",
       "      <td>Moscow</td>\n",
       "      <td>13:00:07</td>\n",
       "      <td>Wednesday</td>\n",
       "    </tr>\n",
       "    <tr>\n",
       "      <th>7</th>\n",
       "      <td>F03E1C1F</td>\n",
       "      <td>Feeling This Way</td>\n",
       "      <td>Polina Griffith</td>\n",
       "      <td>dance</td>\n",
       "      <td>Moscow</td>\n",
       "      <td>20:47:49</td>\n",
       "      <td>Wednesday</td>\n",
       "    </tr>\n",
       "    <tr>\n",
       "      <th>8</th>\n",
       "      <td>8FA1D3BE</td>\n",
       "      <td>И вновь продолжается бой</td>\n",
       "      <td>unknown</td>\n",
       "      <td>ruspop</td>\n",
       "      <td>Moscow</td>\n",
       "      <td>09:17:40</td>\n",
       "      <td>Friday</td>\n",
       "    </tr>\n",
       "    <tr>\n",
       "      <th>...</th>\n",
       "      <td>...</td>\n",
       "      <td>...</td>\n",
       "      <td>...</td>\n",
       "      <td>...</td>\n",
       "      <td>...</td>\n",
       "      <td>...</td>\n",
       "      <td>...</td>\n",
       "    </tr>\n",
       "    <tr>\n",
       "      <th>61247</th>\n",
       "      <td>83A474E7</td>\n",
       "      <td>I Worship Only What You Bleed</td>\n",
       "      <td>The Black Dahlia Murder</td>\n",
       "      <td>extrememetal</td>\n",
       "      <td>Moscow</td>\n",
       "      <td>21:07:12</td>\n",
       "      <td>Monday</td>\n",
       "    </tr>\n",
       "    <tr>\n",
       "      <th>61248</th>\n",
       "      <td>729CBB09</td>\n",
       "      <td>My Name</td>\n",
       "      <td>McLean</td>\n",
       "      <td>rnb</td>\n",
       "      <td>Moscow</td>\n",
       "      <td>13:32:28</td>\n",
       "      <td>Wednesday</td>\n",
       "    </tr>\n",
       "    <tr>\n",
       "      <th>61250</th>\n",
       "      <td>C5E3A0D5</td>\n",
       "      <td>Jalopiina</td>\n",
       "      <td>unknown</td>\n",
       "      <td>industrial</td>\n",
       "      <td>Moscow</td>\n",
       "      <td>20:09:26</td>\n",
       "      <td>Friday</td>\n",
       "    </tr>\n",
       "    <tr>\n",
       "      <th>61251</th>\n",
       "      <td>321D0506</td>\n",
       "      <td>Freight Train</td>\n",
       "      <td>Chas McDevitt</td>\n",
       "      <td>rock</td>\n",
       "      <td>Moscow</td>\n",
       "      <td>21:43:59</td>\n",
       "      <td>Friday</td>\n",
       "    </tr>\n",
       "    <tr>\n",
       "      <th>61252</th>\n",
       "      <td>3A64EF84</td>\n",
       "      <td>Tell Me Sweet Little Lies</td>\n",
       "      <td>Monica Lopez</td>\n",
       "      <td>country</td>\n",
       "      <td>Moscow</td>\n",
       "      <td>21:59:46</td>\n",
       "      <td>Friday</td>\n",
       "    </tr>\n",
       "  </tbody>\n",
       "</table>\n",
       "<p>42741 rows × 7 columns</p>\n",
       "</div>"
      ],
      "text/plain": [
       "        user_id                          track                   artist  \\\n",
       "1      55204538    Delayed Because of Accident         Andreas Rönnberg   \n",
       "4      E2DC1FAE                    Soul People               Space Echo   \n",
       "6      4CB90AA5                           True             Roman Messer   \n",
       "7      F03E1C1F               Feeling This Way          Polina Griffith   \n",
       "8      8FA1D3BE       И вновь продолжается бой                  unknown   \n",
       "...         ...                            ...                      ...   \n",
       "61247  83A474E7  I Worship Only What You Bleed  The Black Dahlia Murder   \n",
       "61248  729CBB09                        My Name                   McLean   \n",
       "61250  C5E3A0D5                      Jalopiina                  unknown   \n",
       "61251  321D0506                  Freight Train            Chas McDevitt   \n",
       "61252  3A64EF84      Tell Me Sweet Little Lies             Monica Lopez   \n",
       "\n",
       "              genre    city      time        day  \n",
       "1              rock  Moscow  14:07:09     Friday  \n",
       "4             dance  Moscow  08:34:34     Monday  \n",
       "6             dance  Moscow  13:00:07  Wednesday  \n",
       "7             dance  Moscow  20:47:49  Wednesday  \n",
       "8            ruspop  Moscow  09:17:40     Friday  \n",
       "...             ...     ...       ...        ...  \n",
       "61247  extrememetal  Moscow  21:07:12     Monday  \n",
       "61248           rnb  Moscow  13:32:28  Wednesday  \n",
       "61250    industrial  Moscow  20:09:26     Friday  \n",
       "61251          rock  Moscow  21:43:59     Friday  \n",
       "61252       country  Moscow  21:59:46     Friday  \n",
       "\n",
       "[42741 rows x 7 columns]"
      ]
     },
     "metadata": {},
     "output_type": "display_data"
    }
   ],
   "source": [
    "moscow_general = df[df['city'] == 'Moscow']\n",
    "display(moscow_general) # получение таблицы moscow_general из тех строк таблицы df, \n",
    "# для которых значение в столбце 'city' равно 'Moscow'"
   ]
  },
  {
   "cell_type": "code",
   "execution_count": 29,
   "metadata": {
    "id": "ORaVRKto_Zcu"
   },
   "outputs": [
    {
     "data": {
      "text/html": [
       "<div>\n",
       "<style scoped>\n",
       "    .dataframe tbody tr th:only-of-type {\n",
       "        vertical-align: middle;\n",
       "    }\n",
       "\n",
       "    .dataframe tbody tr th {\n",
       "        vertical-align: top;\n",
       "    }\n",
       "\n",
       "    .dataframe thead th {\n",
       "        text-align: right;\n",
       "    }\n",
       "</style>\n",
       "<table border=\"1\" class=\"dataframe\">\n",
       "  <thead>\n",
       "    <tr style=\"text-align: right;\">\n",
       "      <th></th>\n",
       "      <th>user_id</th>\n",
       "      <th>track</th>\n",
       "      <th>artist</th>\n",
       "      <th>genre</th>\n",
       "      <th>city</th>\n",
       "      <th>time</th>\n",
       "      <th>day</th>\n",
       "    </tr>\n",
       "  </thead>\n",
       "  <tbody>\n",
       "    <tr>\n",
       "      <th>0</th>\n",
       "      <td>FFB692EC</td>\n",
       "      <td>Kamigata To Boots</td>\n",
       "      <td>The Mass Missile</td>\n",
       "      <td>rock</td>\n",
       "      <td>Saint-Petersburg</td>\n",
       "      <td>20:28:33</td>\n",
       "      <td>Wednesday</td>\n",
       "    </tr>\n",
       "    <tr>\n",
       "      <th>2</th>\n",
       "      <td>20EC38</td>\n",
       "      <td>Funiculì funiculà</td>\n",
       "      <td>Mario Lanza</td>\n",
       "      <td>pop</td>\n",
       "      <td>Saint-Petersburg</td>\n",
       "      <td>20:58:07</td>\n",
       "      <td>Wednesday</td>\n",
       "    </tr>\n",
       "    <tr>\n",
       "      <th>3</th>\n",
       "      <td>A3DD03C9</td>\n",
       "      <td>Dragons in the Sunset</td>\n",
       "      <td>Fire + Ice</td>\n",
       "      <td>folk</td>\n",
       "      <td>Saint-Petersburg</td>\n",
       "      <td>08:37:09</td>\n",
       "      <td>Monday</td>\n",
       "    </tr>\n",
       "    <tr>\n",
       "      <th>5</th>\n",
       "      <td>842029A1</td>\n",
       "      <td>Преданная</td>\n",
       "      <td>IMPERVTOR</td>\n",
       "      <td>rusrap</td>\n",
       "      <td>Saint-Petersburg</td>\n",
       "      <td>13:09:41</td>\n",
       "      <td>Friday</td>\n",
       "    </tr>\n",
       "    <tr>\n",
       "      <th>9</th>\n",
       "      <td>E772D5C0</td>\n",
       "      <td>Pessimist</td>\n",
       "      <td>unknown</td>\n",
       "      <td>dance</td>\n",
       "      <td>Saint-Petersburg</td>\n",
       "      <td>21:20:49</td>\n",
       "      <td>Wednesday</td>\n",
       "    </tr>\n",
       "    <tr>\n",
       "      <th>...</th>\n",
       "      <td>...</td>\n",
       "      <td>...</td>\n",
       "      <td>...</td>\n",
       "      <td>...</td>\n",
       "      <td>...</td>\n",
       "      <td>...</td>\n",
       "      <td>...</td>\n",
       "    </tr>\n",
       "    <tr>\n",
       "      <th>61239</th>\n",
       "      <td>D94F810B</td>\n",
       "      <td>Theme from the Walking Dead</td>\n",
       "      <td>Proyecto Halloween</td>\n",
       "      <td>film</td>\n",
       "      <td>Saint-Petersburg</td>\n",
       "      <td>21:14:40</td>\n",
       "      <td>Monday</td>\n",
       "    </tr>\n",
       "    <tr>\n",
       "      <th>61240</th>\n",
       "      <td>BC8EC5CF</td>\n",
       "      <td>Red Lips: Gta (Rover Rework)</td>\n",
       "      <td>Rover</td>\n",
       "      <td>electronic</td>\n",
       "      <td>Saint-Petersburg</td>\n",
       "      <td>21:06:50</td>\n",
       "      <td>Monday</td>\n",
       "    </tr>\n",
       "    <tr>\n",
       "      <th>61241</th>\n",
       "      <td>29E04611</td>\n",
       "      <td>Bre Petrunko</td>\n",
       "      <td>Perunika Trio</td>\n",
       "      <td>world</td>\n",
       "      <td>Saint-Petersburg</td>\n",
       "      <td>13:56:00</td>\n",
       "      <td>Monday</td>\n",
       "    </tr>\n",
       "    <tr>\n",
       "      <th>61242</th>\n",
       "      <td>1B91C621</td>\n",
       "      <td>(Hello) Cloud Mountain</td>\n",
       "      <td>sleepmakeswaves</td>\n",
       "      <td>postrock</td>\n",
       "      <td>Saint-Petersburg</td>\n",
       "      <td>09:22:13</td>\n",
       "      <td>Monday</td>\n",
       "    </tr>\n",
       "    <tr>\n",
       "      <th>61249</th>\n",
       "      <td>D08D4A55</td>\n",
       "      <td>Maybe One Day (feat. Black Spade)</td>\n",
       "      <td>Blu &amp; Exile</td>\n",
       "      <td>hiphop</td>\n",
       "      <td>Saint-Petersburg</td>\n",
       "      <td>10:00:00</td>\n",
       "      <td>Monday</td>\n",
       "    </tr>\n",
       "  </tbody>\n",
       "</table>\n",
       "<p>18512 rows × 7 columns</p>\n",
       "</div>"
      ],
      "text/plain": [
       "        user_id                              track              artist  \\\n",
       "0      FFB692EC                  Kamigata To Boots    The Mass Missile   \n",
       "2        20EC38                  Funiculì funiculà         Mario Lanza   \n",
       "3      A3DD03C9              Dragons in the Sunset          Fire + Ice   \n",
       "5      842029A1                          Преданная           IMPERVTOR   \n",
       "9      E772D5C0                          Pessimist             unknown   \n",
       "...         ...                                ...                 ...   \n",
       "61239  D94F810B        Theme from the Walking Dead  Proyecto Halloween   \n",
       "61240  BC8EC5CF       Red Lips: Gta (Rover Rework)               Rover   \n",
       "61241  29E04611                       Bre Petrunko       Perunika Trio   \n",
       "61242  1B91C621             (Hello) Cloud Mountain     sleepmakeswaves   \n",
       "61249  D08D4A55  Maybe One Day (feat. Black Spade)         Blu & Exile   \n",
       "\n",
       "            genre              city      time        day  \n",
       "0            rock  Saint-Petersburg  20:28:33  Wednesday  \n",
       "2             pop  Saint-Petersburg  20:58:07  Wednesday  \n",
       "3            folk  Saint-Petersburg  08:37:09     Monday  \n",
       "5          rusrap  Saint-Petersburg  13:09:41     Friday  \n",
       "9           dance  Saint-Petersburg  21:20:49  Wednesday  \n",
       "...           ...               ...       ...        ...  \n",
       "61239        film  Saint-Petersburg  21:14:40     Monday  \n",
       "61240  electronic  Saint-Petersburg  21:06:50     Monday  \n",
       "61241       world  Saint-Petersburg  13:56:00     Monday  \n",
       "61242    postrock  Saint-Petersburg  09:22:13     Monday  \n",
       "61249      hiphop  Saint-Petersburg  10:00:00     Monday  \n",
       "\n",
       "[18512 rows x 7 columns]"
      ]
     },
     "metadata": {},
     "output_type": "display_data"
    }
   ],
   "source": [
    "spb_general = df[df['city'] == 'Saint-Petersburg']\n",
    "display(spb_general) # получение таблицы spb_general из тех строк таблицы df,\n",
    "# для которых значение в столбце 'city' равно 'Saint-Petersburg'"
   ]
  },
  {
   "cell_type": "markdown",
   "metadata": {
    "id": "MEJV-CX2_Zcu"
   },
   "source": [
    "Создайте функцию `genre_weekday()` с четырьмя параметрами:\n",
    "* таблица (датафрейм) с данными,\n",
    "* день недели,\n",
    "* начальная временная метка в формате 'hh:mm', \n",
    "* последняя временная метка в формате 'hh:mm'.\n",
    "\n",
    "Функция должна вернуть информацию о топ-10 жанров тех треков, которые прослушивали в указанный день, в промежутке между двумя отметками времени."
   ]
  },
  {
   "cell_type": "code",
   "execution_count": 30,
   "metadata": {
    "id": "laJT9BYl_Zcu"
   },
   "outputs": [],
   "source": [
    "def genre_weekday(table, day, time1, time2):   \n",
    "    genre_df = table.query('@day==day and @time1 < time < @time2')\n",
    "    genre_df_count = genre_df.groupby('genre')['user_id'].count()\n",
    "    genre_df_sorted = genre_df_count.sort_values(ascending=False) \n",
    "    return genre_df_sorted.head(10)   "
   ]
  },
  {
   "cell_type": "markdown",
   "metadata": {
    "id": "la2s2_PF_Zcu"
   },
   "source": [
    "Cравните результаты функции `genre_weekday()` для Москвы и Санкт-Петербурга в понедельник утром (с 7:00 до 11:00) и в пятницу вечером (с 17:00 до 23:00):"
   ]
  },
  {
   "cell_type": "code",
   "execution_count": 31,
   "metadata": {
    "id": "yz7itPUQ_Zcu"
   },
   "outputs": [
    {
     "data": {
      "text/plain": [
       "genre\n",
       "pop            781\n",
       "dance          549\n",
       "electronic     480\n",
       "rock           474\n",
       "hiphop         286\n",
       "ruspop         186\n",
       "world          181\n",
       "rusrap         175\n",
       "alternative    164\n",
       "unknown        161\n",
       "Name: user_id, dtype: int64"
      ]
     },
     "execution_count": 31,
     "metadata": {},
     "output_type": "execute_result"
    }
   ],
   "source": [
    "genre_weekday(moscow_general, 'Monday', '07:00', '11:00') # вызов функции для утра понедельника в Москве (вместо df — таблица moscow_general)\n",
    "# объекты, хранящие время, являются строками и сравниваются как строки\n",
    "# пример вызова: genre_weekday(moscow_general, 'Monday', '07:00', '11:00')"
   ]
  },
  {
   "cell_type": "code",
   "execution_count": 32,
   "metadata": {
    "id": "kwUcHPdy_Zcu"
   },
   "outputs": [
    {
     "data": {
      "text/plain": [
       "genre\n",
       "pop            218\n",
       "dance          182\n",
       "rock           162\n",
       "electronic     147\n",
       "hiphop          80\n",
       "ruspop          64\n",
       "alternative     58\n",
       "rusrap          55\n",
       "jazz            44\n",
       "classical       40\n",
       "Name: user_id, dtype: int64"
      ]
     },
     "execution_count": 32,
     "metadata": {},
     "output_type": "execute_result"
    }
   ],
   "source": [
    "genre_weekday(spb_general, 'Monday', '07:00', '11:00') # вызов функции для утра понедельника в Петербурге (вместо df — таблица spb_general)"
   ]
  },
  {
   "cell_type": "code",
   "execution_count": 33,
   "metadata": {
    "id": "EzXVRE1o_Zcu"
   },
   "outputs": [
    {
     "data": {
      "text/plain": [
       "genre\n",
       "pop            713\n",
       "rock           517\n",
       "dance          495\n",
       "electronic     482\n",
       "hiphop         273\n",
       "world          208\n",
       "ruspop         170\n",
       "alternative    163\n",
       "classical      163\n",
       "rusrap         142\n",
       "Name: user_id, dtype: int64"
      ]
     },
     "execution_count": 33,
     "metadata": {},
     "output_type": "execute_result"
    }
   ],
   "source": [
    "genre_weekday(moscow_general, 'Friday', '17:00', '23:00') # вызов функции для вечера пятницы в Москве"
   ]
  },
  {
   "cell_type": "code",
   "execution_count": 34,
   "metadata": {
    "id": "JZaEKu5v_Zcu"
   },
   "outputs": [
    {
     "data": {
      "text/plain": [
       "genre\n",
       "pop            256\n",
       "electronic     216\n",
       "rock           216\n",
       "dance          210\n",
       "hiphop          97\n",
       "alternative     63\n",
       "jazz            61\n",
       "classical       60\n",
       "rusrap          59\n",
       "world           54\n",
       "Name: user_id, dtype: int64"
      ]
     },
     "execution_count": 34,
     "metadata": {},
     "output_type": "execute_result"
    }
   ],
   "source": [
    "genre_weekday(spb_general, 'Friday', '17:00', '23:00') # вызов функции для вечера пятницы в Петербурге"
   ]
  },
  {
   "cell_type": "markdown",
   "metadata": {
    "id": "wrCe4MNX_Zcu"
   },
   "source": [
    "**Выводы**\n",
    "\n",
    "Если сравнить топ-10 жанров в понедельник утром, можно сделать такие выводы:\n",
    "\n",
    "1. В Москве и Петербурге слушают похожую музыку. Единственное отличие — в московский рейтинг вошёл жанр “world”, а в петербургский — джаз и классика.\n",
    "\n",
    "2. В Москве пропущенных значений оказалось так много, что значение `'unknown'` заняло десятое место среди самых популярных жанров. Значит, пропущенные значения занимают существенную долю в данных и угрожают достоверности исследования.\n",
    "\n",
    "Вечер пятницы не меняет эту картину. Некоторые жанры поднимаются немного выше, другие спускаются, но в целом топ-10 остаётся тем же самым.\n",
    "\n",
    "Таким образом, вторая гипотеза подтвердилась лишь частично:\n",
    "* Пользователи слушают похожую музыку в начале недели и в конце.\n",
    "* Разница между Москвой и Петербургом не слишком выражена. В Москве чаще слушают русскую популярную музыку, в Петербурге — джаз.\n",
    "\n",
    "Однако пропуски в данных ставят под сомнение этот результат. В Москве их так много, что рейтинг топ-10 мог бы выглядеть иначе, если бы не утерянные  данные о жанрах."
   ]
  },
  {
   "cell_type": "markdown",
   "metadata": {
    "id": "JolODAqr_Zcu"
   },
   "source": [
    "### 3.3  Жанровые предпочтения в Москве и Петербурге\n",
    "\n",
    "Гипотеза: Петербург — столица рэпа, музыку этого жанра там слушают чаще, чем в Москве.  А Москва — город контрастов, в котором, тем не менее, преобладает поп-музыка."
   ]
  },
  {
   "cell_type": "markdown",
   "metadata": {
    "id": "DlegSvaT_Zcu"
   },
   "source": [
    "Сгруппируйте таблицу `moscow_general` по жанру и посчитайте прослушивания треков каждого жанра методом `count()`. Затем отсортируйте результат в порядке убывания и сохраните его в таблице `moscow_genres`."
   ]
  },
  {
   "cell_type": "code",
   "execution_count": 35,
   "metadata": {
    "id": "r19lIPke_Zcu"
   },
   "outputs": [],
   "source": [
    "moscow_genres = moscow_general.groupby('genre')['user_id'].count().sort_values(ascending=False)\n",
    "# одной строкой: группировка таблицы moscow_general по столбцу 'genre', \n",
    "# подсчёт числа значений 'genre' в этой группировке методом count(), \n",
    "# сортировка получившегося Series в порядке убывания и сохранение в moscow_genres"
   ]
  },
  {
   "cell_type": "markdown",
   "metadata": {
    "id": "6kMuomxTiIr8"
   },
   "source": [
    "Выведите на экран первые десять строк `moscow_genres`:"
   ]
  },
  {
   "cell_type": "code",
   "execution_count": 36,
   "metadata": {
    "id": "WhCSooF8_Zcv"
   },
   "outputs": [
    {
     "data": {
      "text/plain": [
       "genre\n",
       "pop            5892\n",
       "dance          4435\n",
       "rock           3965\n",
       "electronic     3786\n",
       "hiphop         2096\n",
       "classical      1616\n",
       "world          1432\n",
       "alternative    1379\n",
       "ruspop         1372\n",
       "rusrap         1161\n",
       "Name: user_id, dtype: int64"
      ]
     },
     "execution_count": 36,
     "metadata": {},
     "output_type": "execute_result"
    }
   ],
   "source": [
    "moscow_genres.head(10) # просмотр первых 10 строк moscow_genres"
   ]
  },
  {
   "cell_type": "markdown",
   "metadata": {
    "id": "cnPG2vnN_Zcv"
   },
   "source": [
    "Теперь повторите то же и для Петербурга.\n",
    "\n",
    "Сгруппируйте таблицу `spb_general` по жанру. Посчитайте прослушивания треков каждого жанра. Результат отсортируйте в порядке убывания и сохраните в таблице `spb_genres`:\n"
   ]
  },
  {
   "cell_type": "code",
   "execution_count": 37,
   "metadata": {
    "id": "gluLIpE7_Zcv"
   },
   "outputs": [],
   "source": [
    "spb_genres = spb_general.groupby('genre')['user_id'].count().sort_values(ascending=False)\n",
    "# одной строкой: группировка таблицы spb_general по столбцу 'genre', \n",
    "# подсчёт числа значений 'genre' в этой группировке методом count(), \n",
    "# сортировка получившегося Series в порядке убывания и сохранение в spb_genres"
   ]
  },
  {
   "cell_type": "markdown",
   "metadata": {
    "id": "5Doha_ODgyQ8"
   },
   "source": [
    "Выведите на экран первые десять строк `spb_genres`:"
   ]
  },
  {
   "cell_type": "code",
   "execution_count": 38,
   "metadata": {
    "id": "uaGJHjVU_Zcv"
   },
   "outputs": [
    {
     "data": {
      "text/plain": [
       "genre\n",
       "pop            2431\n",
       "dance          1932\n",
       "rock           1879\n",
       "electronic     1736\n",
       "hiphop          960\n",
       "alternative     649\n",
       "classical       646\n",
       "rusrap          564\n",
       "ruspop          538\n",
       "world           515\n",
       "Name: user_id, dtype: int64"
      ]
     },
     "execution_count": 38,
     "metadata": {},
     "output_type": "execute_result"
    }
   ],
   "source": [
    "spb_genres.head(10) # просмотр первых 10 строк spb_genres"
   ]
  },
  {
   "cell_type": "markdown",
   "metadata": {
    "id": "RY51YJYu_Zcv"
   },
   "source": [
    "**Выводы**"
   ]
  },
  {
   "cell_type": "markdown",
   "metadata": {
    "id": "nVhnJEm__Zcv"
   },
   "source": [
    "Гипотеза частично подтвердилась:\n",
    "* Поп-музыка — самый популярный жанр в Москве, как и предполагала гипотеза. Более того, в топ-10 жанров встречается близкий жанр — русская популярная музыка.\n",
    "* Вопреки ожиданиям, рэп одинаково популярен в Москве и Петербурге. \n"
   ]
  },
  {
   "cell_type": "markdown",
   "metadata": {
    "id": "ykKQ0N65_Zcv"
   },
   "source": [
    "## 4  Итоги исследования\n"
   ]
  },
  {
   "cell_type": "markdown",
   "metadata": {
    "id": "tjUwbHb3_Zcv"
   },
   "source": [
    "Вы проверили три гипотезы и установили:\n",
    "\n",
    "1. День недели по-разному влияет на активность пользователей в Москве и Петербурге. \n",
    "\n",
    "Первая гипотеза полностью подтвердилась.\n",
    "\n",
    "2. Музыкальные предпочтения не сильно меняются в течение недели — будь то Москва или Петербург. Небольшие различия заметны в начале недели, по понедельникам:\n",
    "* в Москве слушают музыку жанра “world”,\n",
    "* в Петербурге — джаз и классику.\n",
    "\n",
    "Таким образом, вторая гипотеза подтвердилась лишь отчасти. Этот результат мог оказаться иным, если бы не пропуски в данных.\n",
    "\n",
    "3. Во вкусах пользователей Москвы и Петербурга больше общего чем различий. Вопреки ожиданиям, предпочтения жанров в Петербурге напоминают московские.\n",
    "\n",
    "Третья гипотеза не подтвердилась. Если различия в предпочтениях и существуют, на основной массе пользователей они незаметны.\n",
    "\n",
    "**На практике исследования содержат проверки статистических гипотез.**\n",
    "Из данных одного сервиса не всегда можно сделать вывод о всех жителях города.\n",
    "Проверки статистических гипотез покажут, насколько они достоверны, исходя из имеющихся данных. \n",
    "С методами проверок гипотез вы ещё познакомитесь в следующих темах."
   ]
  },
  {
   "cell_type": "markdown",
   "metadata": {},
   "source": [
    "<div class=\"alert alert-success\">\n",
    "<b>✔️ Итоговый комментарий ревьюера v3:</b>\n",
    "<br>У тебя отличная работа! \n",
    "<br>Ты продемонстрировал владение базовыми методами pandas, которые очень пригодятся тебе в будущих проектах. Желаю удачи в дальнейшем обучении! 😉\n",
    "</div>"
   ]
  }
 ],
 "metadata": {
  "ExecuteTimeLog": [
   {
    "duration": 374,
    "start_time": "2022-04-08T20:12:30.229Z"
   },
   {
    "duration": 2,
    "start_time": "2022-04-08T20:12:33.386Z"
   },
   {
    "duration": 122,
    "start_time": "2022-04-08T20:30:16.444Z"
   },
   {
    "duration": 15,
    "start_time": "2022-04-08T20:30:50.552Z"
   },
   {
    "duration": 10,
    "start_time": "2022-04-08T20:31:09.071Z"
   },
   {
    "duration": 26,
    "start_time": "2022-04-08T20:31:35.896Z"
   },
   {
    "duration": 25,
    "start_time": "2022-04-08T20:32:20.780Z"
   },
   {
    "duration": 25,
    "start_time": "2022-04-08T20:37:32.603Z"
   },
   {
    "duration": 23,
    "start_time": "2022-04-08T20:37:43.476Z"
   },
   {
    "duration": 55,
    "start_time": "2022-04-08T20:46:02.141Z"
   },
   {
    "duration": 9,
    "start_time": "2022-04-08T20:46:14.965Z"
   },
   {
    "duration": 4,
    "start_time": "2022-04-08T20:52:49.340Z"
   },
   {
    "duration": 4,
    "start_time": "2022-04-08T20:53:14.252Z"
   },
   {
    "duration": 51,
    "start_time": "2022-04-09T06:18:58.808Z"
   },
   {
    "duration": 6,
    "start_time": "2022-04-09T06:19:21.212Z"
   },
   {
    "duration": 7,
    "start_time": "2022-04-09T07:15:57.268Z"
   },
   {
    "duration": 7,
    "start_time": "2022-04-09T07:24:47.316Z"
   },
   {
    "duration": 9,
    "start_time": "2022-04-09T07:26:39.359Z"
   },
   {
    "duration": 6,
    "start_time": "2022-04-09T07:32:34.446Z"
   },
   {
    "duration": 7,
    "start_time": "2022-04-09T07:32:41.774Z"
   },
   {
    "duration": 6,
    "start_time": "2022-04-09T07:32:49.870Z"
   },
   {
    "duration": 9,
    "start_time": "2022-04-09T07:33:02.846Z"
   },
   {
    "duration": 7,
    "start_time": "2022-04-09T07:33:16.513Z"
   },
   {
    "duration": 6,
    "start_time": "2022-04-09T07:38:39.773Z"
   },
   {
    "duration": 7,
    "start_time": "2022-04-09T07:38:44.081Z"
   },
   {
    "duration": 7,
    "start_time": "2022-04-09T07:41:56.852Z"
   },
   {
    "duration": 7,
    "start_time": "2022-04-09T07:44:00.901Z"
   },
   {
    "duration": 7,
    "start_time": "2022-04-09T07:44:21.797Z"
   },
   {
    "duration": 7,
    "start_time": "2022-04-09T08:25:12.338Z"
   },
   {
    "duration": 6,
    "start_time": "2022-04-09T08:25:15.689Z"
   },
   {
    "duration": 54,
    "start_time": "2022-04-09T08:26:31.211Z"
   },
   {
    "duration": 6,
    "start_time": "2022-04-09T08:28:14.984Z"
   },
   {
    "duration": 8,
    "start_time": "2022-04-09T08:28:31.450Z"
   },
   {
    "duration": 6,
    "start_time": "2022-04-09T08:29:19.089Z"
   },
   {
    "duration": 7,
    "start_time": "2022-04-09T08:29:37.698Z"
   },
   {
    "duration": 7,
    "start_time": "2022-04-09T08:30:25.912Z"
   },
   {
    "duration": 6,
    "start_time": "2022-04-09T08:30:39.771Z"
   },
   {
    "duration": 7,
    "start_time": "2022-04-09T08:31:38.754Z"
   },
   {
    "duration": 50,
    "start_time": "2022-04-09T08:32:21.571Z"
   },
   {
    "duration": 7,
    "start_time": "2022-04-09T08:40:44.445Z"
   },
   {
    "duration": 6,
    "start_time": "2022-04-09T08:57:25.191Z"
   },
   {
    "duration": 5,
    "start_time": "2022-04-09T08:57:52.768Z"
   },
   {
    "duration": 7,
    "start_time": "2022-04-09T10:27:05.527Z"
   },
   {
    "duration": 6,
    "start_time": "2022-04-09T10:27:42.427Z"
   },
   {
    "duration": 7,
    "start_time": "2022-04-09T10:39:42.949Z"
   },
   {
    "duration": 7,
    "start_time": "2022-04-09T10:40:19.772Z"
   },
   {
    "duration": 598,
    "start_time": "2022-04-09T10:40:38.637Z"
   },
   {
    "duration": 200,
    "start_time": "2022-04-09T10:47:45.829Z"
   },
   {
    "duration": 172,
    "start_time": "2022-04-09T10:48:21.459Z"
   },
   {
    "duration": 170,
    "start_time": "2022-04-09T10:48:30.432Z"
   },
   {
    "duration": 164,
    "start_time": "2022-04-09T10:48:50.080Z"
   },
   {
    "duration": 166,
    "start_time": "2022-04-09T10:49:12.224Z"
   },
   {
    "duration": 196,
    "start_time": "2022-04-09T10:50:10.176Z"
   },
   {
    "duration": 163,
    "start_time": "2022-04-09T10:58:44.887Z"
   },
   {
    "duration": 201,
    "start_time": "2022-04-09T11:32:12.065Z"
   },
   {
    "duration": 176,
    "start_time": "2022-04-09T11:48:41.538Z"
   },
   {
    "duration": 3,
    "start_time": "2022-04-09T11:48:46.330Z"
   },
   {
    "duration": 325,
    "start_time": "2022-04-09T11:50:34.165Z"
   },
   {
    "duration": 626,
    "start_time": "2022-04-09T14:59:43.840Z"
   },
   {
    "duration": 200,
    "start_time": "2022-04-09T14:59:48.281Z"
   },
   {
    "duration": 271,
    "start_time": "2022-04-09T15:12:31.151Z"
   },
   {
    "duration": 204,
    "start_time": "2022-04-09T15:12:54.470Z"
   },
   {
    "duration": 196,
    "start_time": "2022-04-09T15:17:32.055Z"
   },
   {
    "duration": 189,
    "start_time": "2022-04-09T15:18:00.860Z"
   },
   {
    "duration": 202,
    "start_time": "2022-04-09T15:18:35.447Z"
   },
   {
    "duration": 181,
    "start_time": "2022-04-09T15:21:33.595Z"
   },
   {
    "duration": 181,
    "start_time": "2022-04-09T15:21:46.223Z"
   },
   {
    "duration": 203,
    "start_time": "2022-04-09T15:22:43.083Z"
   },
   {
    "duration": 201,
    "start_time": "2022-04-09T15:23:03.934Z"
   },
   {
    "duration": 217,
    "start_time": "2022-04-09T15:23:16.026Z"
   },
   {
    "duration": 226,
    "start_time": "2022-04-09T15:23:27.002Z"
   },
   {
    "duration": 217,
    "start_time": "2022-04-09T15:23:52.574Z"
   },
   {
    "duration": 215,
    "start_time": "2022-04-09T15:29:06.250Z"
   },
   {
    "duration": 198,
    "start_time": "2022-04-09T15:29:11.942Z"
   },
   {
    "duration": 214,
    "start_time": "2022-04-09T15:29:17.085Z"
   },
   {
    "duration": 8,
    "start_time": "2022-04-09T15:29:46.717Z"
   },
   {
    "duration": 8,
    "start_time": "2022-04-09T15:29:56.385Z"
   },
   {
    "duration": 237,
    "start_time": "2022-04-09T15:33:10.085Z"
   },
   {
    "duration": 179,
    "start_time": "2022-04-09T15:36:32.413Z"
   },
   {
    "duration": 243,
    "start_time": "2022-04-09T15:36:55.521Z"
   },
   {
    "duration": 257,
    "start_time": "2022-04-09T15:37:38.977Z"
   },
   {
    "duration": 274,
    "start_time": "2022-04-09T15:38:33.057Z"
   },
   {
    "duration": 270,
    "start_time": "2022-04-09T15:38:39.924Z"
   },
   {
    "duration": 194,
    "start_time": "2022-04-09T15:46:41.687Z"
   },
   {
    "duration": 189,
    "start_time": "2022-04-09T15:46:44.683Z"
   },
   {
    "duration": 188,
    "start_time": "2022-04-09T15:46:50.092Z"
   },
   {
    "duration": 246,
    "start_time": "2022-04-09T15:56:32.422Z"
   },
   {
    "duration": 251,
    "start_time": "2022-04-09T15:56:58.971Z"
   },
   {
    "duration": 330,
    "start_time": "2022-04-09T15:57:13.252Z"
   },
   {
    "duration": 312,
    "start_time": "2022-04-09T15:57:59.174Z"
   },
   {
    "duration": 260,
    "start_time": "2022-04-09T15:58:15.769Z"
   },
   {
    "duration": 318,
    "start_time": "2022-04-09T15:58:24.073Z"
   },
   {
    "duration": 315,
    "start_time": "2022-04-09T15:58:49.565Z"
   },
   {
    "duration": 316,
    "start_time": "2022-04-09T15:58:53.661Z"
   },
   {
    "duration": 190,
    "start_time": "2022-04-09T16:13:05.832Z"
   },
   {
    "duration": 185,
    "start_time": "2022-04-09T16:13:29.003Z"
   },
   {
    "duration": 205,
    "start_time": "2022-04-09T16:13:51.200Z"
   },
   {
    "duration": 174,
    "start_time": "2022-04-09T16:15:10.763Z"
   },
   {
    "duration": 184,
    "start_time": "2022-04-09T16:15:58.047Z"
   },
   {
    "duration": 197,
    "start_time": "2022-04-09T16:25:04.679Z"
   },
   {
    "duration": 168,
    "start_time": "2022-04-09T16:25:23.303Z"
   },
   {
    "duration": 220,
    "start_time": "2022-04-09T16:25:48.651Z"
   },
   {
    "duration": 266,
    "start_time": "2022-04-09T16:31:08.008Z"
   },
   {
    "duration": 274,
    "start_time": "2022-04-09T16:32:59.892Z"
   },
   {
    "duration": 277,
    "start_time": "2022-04-09T16:33:05.876Z"
   },
   {
    "duration": 278,
    "start_time": "2022-04-09T16:33:14.919Z"
   },
   {
    "duration": 254,
    "start_time": "2022-04-09T16:37:09.364Z"
   },
   {
    "duration": 238,
    "start_time": "2022-04-09T16:43:36.087Z"
   },
   {
    "duration": 296,
    "start_time": "2022-04-09T16:43:51.495Z"
   },
   {
    "duration": 298,
    "start_time": "2022-04-09T16:44:16.391Z"
   },
   {
    "duration": 295,
    "start_time": "2022-04-09T17:37:55.805Z"
   },
   {
    "duration": 284,
    "start_time": "2022-04-09T17:38:09.621Z"
   },
   {
    "duration": 294,
    "start_time": "2022-04-09T17:38:21.508Z"
   },
   {
    "duration": 336,
    "start_time": "2022-04-09T18:05:16.152Z"
   },
   {
    "duration": 316,
    "start_time": "2022-04-09T18:20:12.879Z"
   },
   {
    "duration": 318,
    "start_time": "2022-04-09T18:28:16.202Z"
   },
   {
    "duration": 658,
    "start_time": "2022-04-10T09:40:31.470Z"
   },
   {
    "duration": 271,
    "start_time": "2022-04-10T09:42:55.925Z"
   },
   {
    "duration": 257,
    "start_time": "2022-04-10T09:43:03.598Z"
   },
   {
    "duration": 322,
    "start_time": "2022-04-10T10:30:03.408Z"
   },
   {
    "duration": 259,
    "start_time": "2022-04-10T10:31:32.971Z"
   },
   {
    "duration": 272,
    "start_time": "2022-04-10T15:20:49.464Z"
   },
   {
    "duration": 267,
    "start_time": "2022-04-10T15:22:43.473Z"
   },
   {
    "duration": 258,
    "start_time": "2022-04-10T15:23:28.867Z"
   },
   {
    "duration": 267,
    "start_time": "2022-04-10T15:25:00.147Z"
   },
   {
    "duration": 157,
    "start_time": "2022-04-10T15:34:31.578Z"
   },
   {
    "duration": 160,
    "start_time": "2022-04-10T15:42:14.784Z"
   },
   {
    "duration": 144,
    "start_time": "2022-04-10T15:42:24.728Z"
   },
   {
    "duration": 181,
    "start_time": "2022-04-10T15:42:34.324Z"
   },
   {
    "duration": 262,
    "start_time": "2022-04-10T19:34:49.676Z"
   },
   {
    "duration": 265,
    "start_time": "2022-04-10T19:35:09.045Z"
   },
   {
    "duration": 272,
    "start_time": "2022-04-10T21:05:27.262Z"
   },
   {
    "duration": 251,
    "start_time": "2022-04-10T21:13:47.265Z"
   },
   {
    "duration": 249,
    "start_time": "2022-04-10T21:14:32.217Z"
   },
   {
    "duration": 249,
    "start_time": "2022-04-10T21:14:50.233Z"
   },
   {
    "duration": 272,
    "start_time": "2022-04-10T21:14:58.209Z"
   },
   {
    "duration": 263,
    "start_time": "2022-04-10T21:15:53.489Z"
   },
   {
    "duration": 172,
    "start_time": "2022-04-10T21:16:42.633Z"
   },
   {
    "duration": 155,
    "start_time": "2022-04-10T21:16:52.264Z"
   },
   {
    "duration": 156,
    "start_time": "2022-04-10T21:16:57.912Z"
   },
   {
    "duration": 372,
    "start_time": "2022-04-10T21:17:07.036Z"
   },
   {
    "duration": 171,
    "start_time": "2022-04-10T21:17:11.325Z"
   },
   {
    "duration": 178,
    "start_time": "2022-04-10T21:17:21.017Z"
   },
   {
    "duration": 268,
    "start_time": "2022-04-10T21:24:54.968Z"
   },
   {
    "duration": 266,
    "start_time": "2022-04-10T21:25:09.832Z"
   },
   {
    "duration": 267,
    "start_time": "2022-04-10T21:25:22.075Z"
   },
   {
    "duration": 268,
    "start_time": "2022-04-10T21:25:31.531Z"
   },
   {
    "duration": 264,
    "start_time": "2022-04-10T21:25:38.760Z"
   },
   {
    "duration": 265,
    "start_time": "2022-04-10T21:26:14.084Z"
   },
   {
    "duration": 255,
    "start_time": "2022-04-10T21:26:32.500Z"
   },
   {
    "duration": 260,
    "start_time": "2022-04-10T21:26:58.524Z"
   },
   {
    "duration": 274,
    "start_time": "2022-04-10T21:28:14.787Z"
   },
   {
    "duration": 274,
    "start_time": "2022-04-10T21:43:14.674Z"
   },
   {
    "duration": 273,
    "start_time": "2022-04-10T21:50:29.744Z"
   },
   {
    "duration": 379,
    "start_time": "2022-04-10T21:50:54.457Z"
   },
   {
    "duration": 262,
    "start_time": "2022-04-10T21:51:09.957Z"
   },
   {
    "duration": 269,
    "start_time": "2022-04-10T21:51:18.116Z"
   },
   {
    "duration": 275,
    "start_time": "2022-04-10T21:51:50.893Z"
   },
   {
    "duration": 272,
    "start_time": "2022-04-10T21:52:37.665Z"
   },
   {
    "duration": 264,
    "start_time": "2022-04-10T21:55:33.344Z"
   },
   {
    "duration": 285,
    "start_time": "2022-04-10T21:55:55.300Z"
   },
   {
    "duration": 289,
    "start_time": "2022-04-10T21:56:09.569Z"
   },
   {
    "duration": 274,
    "start_time": "2022-04-10T21:57:02.084Z"
   },
   {
    "duration": 369,
    "start_time": "2022-04-10T21:59:41.271Z"
   },
   {
    "duration": 679,
    "start_time": "2022-04-11T10:14:32.116Z"
   },
   {
    "duration": 286,
    "start_time": "2022-04-11T14:05:49.474Z"
   },
   {
    "duration": 330,
    "start_time": "2022-04-11T14:43:13.166Z"
   },
   {
    "duration": 149,
    "start_time": "2022-04-11T14:43:48.518Z"
   },
   {
    "duration": 173,
    "start_time": "2022-04-11T14:44:07.457Z"
   },
   {
    "duration": 414,
    "start_time": "2022-04-11T14:44:15.374Z"
   },
   {
    "duration": 405,
    "start_time": "2022-04-11T14:44:45.446Z"
   },
   {
    "duration": 276,
    "start_time": "2022-04-11T15:02:33.719Z"
   },
   {
    "duration": 254,
    "start_time": "2022-04-11T15:02:57.015Z"
   },
   {
    "duration": 267,
    "start_time": "2022-04-11T15:05:26.154Z"
   },
   {
    "duration": 2121,
    "start_time": "2022-04-11T15:05:35.032Z"
   },
   {
    "duration": 251,
    "start_time": "2022-04-11T15:05:43.527Z"
   },
   {
    "duration": 281,
    "start_time": "2022-04-11T15:05:54.583Z"
   },
   {
    "duration": 2515,
    "start_time": "2022-04-11T15:46:30.252Z"
   },
   {
    "duration": 2629,
    "start_time": "2022-04-11T15:46:42.638Z"
   },
   {
    "duration": 255,
    "start_time": "2022-04-11T15:47:08.482Z"
   },
   {
    "duration": 274,
    "start_time": "2022-04-11T15:47:15.100Z"
   },
   {
    "duration": 273,
    "start_time": "2022-04-11T15:47:28.017Z"
   },
   {
    "duration": 277,
    "start_time": "2022-04-11T15:48:19.010Z"
   },
   {
    "duration": 264,
    "start_time": "2022-04-11T15:48:25.666Z"
   },
   {
    "duration": 289,
    "start_time": "2022-04-11T15:48:33.870Z"
   },
   {
    "duration": 283,
    "start_time": "2022-04-11T15:48:44.750Z"
   },
   {
    "duration": 267,
    "start_time": "2022-04-11T15:48:54.814Z"
   },
   {
    "duration": 279,
    "start_time": "2022-04-11T15:49:06.406Z"
   },
   {
    "duration": 242,
    "start_time": "2022-04-11T15:51:14.481Z"
   },
   {
    "duration": 242,
    "start_time": "2022-04-11T16:11:07.753Z"
   },
   {
    "duration": 247,
    "start_time": "2022-04-11T16:12:20.630Z"
   },
   {
    "duration": 222,
    "start_time": "2022-04-11T16:13:07.309Z"
   },
   {
    "duration": 229,
    "start_time": "2022-04-11T16:13:34.277Z"
   },
   {
    "duration": 380,
    "start_time": "2022-04-11T16:14:34.985Z"
   },
   {
    "duration": 231,
    "start_time": "2022-04-11T16:14:54.937Z"
   },
   {
    "duration": 233,
    "start_time": "2022-04-11T16:15:11.810Z"
   },
   {
    "duration": 227,
    "start_time": "2022-04-11T16:15:33.317Z"
   },
   {
    "duration": 232,
    "start_time": "2022-04-11T16:16:50.377Z"
   },
   {
    "duration": 240,
    "start_time": "2022-04-11T16:16:56.392Z"
   },
   {
    "duration": 425,
    "start_time": "2022-04-11T17:40:53.486Z"
   },
   {
    "duration": 264,
    "start_time": "2022-04-11T17:45:13.905Z"
   },
   {
    "duration": 249,
    "start_time": "2022-04-11T17:51:27.475Z"
   },
   {
    "duration": 249,
    "start_time": "2022-04-11T17:51:32.452Z"
   },
   {
    "duration": 264,
    "start_time": "2022-04-11T17:51:40.547Z"
   },
   {
    "duration": 267,
    "start_time": "2022-04-11T17:51:51.687Z"
   },
   {
    "duration": 278,
    "start_time": "2022-04-11T17:52:06.264Z"
   },
   {
    "duration": 315,
    "start_time": "2022-04-11T17:52:18.715Z"
   },
   {
    "duration": 322,
    "start_time": "2022-04-11T17:52:46.703Z"
   },
   {
    "duration": 290,
    "start_time": "2022-04-11T17:53:02.559Z"
   },
   {
    "duration": 288,
    "start_time": "2022-04-11T17:53:23.604Z"
   },
   {
    "duration": 243,
    "start_time": "2022-04-11T19:28:17.956Z"
   },
   {
    "duration": 255,
    "start_time": "2022-04-11T19:29:01.733Z"
   },
   {
    "duration": 143,
    "start_time": "2022-04-11T19:29:27.092Z"
   },
   {
    "duration": 246,
    "start_time": "2022-04-11T19:29:33.043Z"
   },
   {
    "duration": 1346,
    "start_time": "2022-04-12T08:00:09.419Z"
   },
   {
    "duration": 576,
    "start_time": "2022-04-12T08:27:33.727Z"
   },
   {
    "duration": 426,
    "start_time": "2022-04-12T08:28:03.455Z"
   },
   {
    "duration": 473,
    "start_time": "2022-04-12T09:35:18.427Z"
   },
   {
    "duration": 380,
    "start_time": "2022-04-12T09:35:50.754Z"
   },
   {
    "duration": 428,
    "start_time": "2022-04-12T09:36:18.859Z"
   },
   {
    "duration": 400,
    "start_time": "2022-04-12T09:51:58.705Z"
   },
   {
    "duration": 1787,
    "start_time": "2022-04-12T09:52:08.449Z"
   },
   {
    "duration": 2093,
    "start_time": "2022-04-12T09:52:20.664Z"
   },
   {
    "duration": 1637,
    "start_time": "2022-04-12T09:52:39.453Z"
   },
   {
    "duration": 1988,
    "start_time": "2022-04-12T10:06:53.907Z"
   },
   {
    "duration": 1848,
    "start_time": "2022-04-12T10:07:21.493Z"
   },
   {
    "duration": 376,
    "start_time": "2022-04-12T10:24:59.054Z"
   },
   {
    "duration": 467,
    "start_time": "2022-04-12T10:32:00.392Z"
   },
   {
    "duration": 467,
    "start_time": "2022-04-12T10:54:28.843Z"
   },
   {
    "duration": 488,
    "start_time": "2022-04-12T13:07:22.452Z"
   },
   {
    "duration": 516,
    "start_time": "2022-04-12T13:51:23.446Z"
   },
   {
    "duration": 383,
    "start_time": "2022-04-12T13:54:11.923Z"
   },
   {
    "duration": 402,
    "start_time": "2022-04-12T14:04:28.832Z"
   },
   {
    "duration": 386,
    "start_time": "2022-04-12T14:04:43.900Z"
   },
   {
    "duration": 395,
    "start_time": "2022-04-12T14:05:20.752Z"
   },
   {
    "duration": 383,
    "start_time": "2022-04-12T14:05:26.340Z"
   },
   {
    "duration": 394,
    "start_time": "2022-04-12T14:26:05.725Z"
   },
   {
    "duration": 394,
    "start_time": "2022-04-12T14:26:11.297Z"
   },
   {
    "duration": 381,
    "start_time": "2022-04-12T14:26:40.997Z"
   },
   {
    "duration": 397,
    "start_time": "2022-04-12T14:58:22.218Z"
   },
   {
    "duration": 370,
    "start_time": "2022-04-12T15:08:22.524Z"
   },
   {
    "duration": 412,
    "start_time": "2022-04-12T15:08:49.272Z"
   },
   {
    "duration": 376,
    "start_time": "2022-04-12T15:11:40.044Z"
   },
   {
    "duration": 781,
    "start_time": "2022-04-12T15:11:56.307Z"
   },
   {
    "duration": 372,
    "start_time": "2022-04-12T15:13:01.159Z"
   },
   {
    "duration": 1084,
    "start_time": "2022-04-12T15:14:34.647Z"
   },
   {
    "duration": 497,
    "start_time": "2022-04-12T15:18:20.163Z"
   },
   {
    "duration": 461,
    "start_time": "2022-04-12T15:19:17.951Z"
   },
   {
    "duration": 416,
    "start_time": "2022-04-12T15:23:06.841Z"
   },
   {
    "duration": 500,
    "start_time": "2022-04-12T15:41:23.345Z"
   },
   {
    "duration": 388,
    "start_time": "2022-04-12T15:41:59.495Z"
   },
   {
    "duration": 401,
    "start_time": "2022-04-12T15:42:18.696Z"
   },
   {
    "duration": 449,
    "start_time": "2022-04-12T15:49:38.615Z"
   },
   {
    "duration": 420,
    "start_time": "2022-04-12T15:50:05.363Z"
   },
   {
    "duration": 432,
    "start_time": "2022-04-12T15:50:34.071Z"
   },
   {
    "duration": 434,
    "start_time": "2022-04-12T15:50:43.897Z"
   },
   {
    "duration": 392,
    "start_time": "2022-04-12T15:55:57.197Z"
   },
   {
    "duration": 388,
    "start_time": "2022-04-12T15:56:21.234Z"
   },
   {
    "duration": 379,
    "start_time": "2022-04-12T15:56:41.749Z"
   },
   {
    "duration": 394,
    "start_time": "2022-04-12T15:57:02.233Z"
   },
   {
    "duration": 393,
    "start_time": "2022-04-12T15:57:13.834Z"
   },
   {
    "duration": 484,
    "start_time": "2022-04-12T15:58:49.001Z"
   },
   {
    "duration": 1192,
    "start_time": "2022-04-12T16:18:47.355Z"
   },
   {
    "duration": 418,
    "start_time": "2022-04-12T16:19:40.575Z"
   },
   {
    "duration": 116,
    "start_time": "2022-04-12T16:26:11.274Z"
   },
   {
    "duration": 495,
    "start_time": "2022-04-12T16:26:17.510Z"
   },
   {
    "duration": 402,
    "start_time": "2022-04-12T16:33:42.997Z"
   },
   {
    "duration": 468,
    "start_time": "2022-04-12T16:34:31.097Z"
   },
   {
    "duration": 537,
    "start_time": "2022-04-12T16:35:53.297Z"
   },
   {
    "duration": 466,
    "start_time": "2022-04-12T16:36:26.980Z"
   },
   {
    "duration": 414,
    "start_time": "2022-04-12T16:37:24.684Z"
   },
   {
    "duration": 570,
    "start_time": "2022-04-12T16:37:32.348Z"
   },
   {
    "duration": 589,
    "start_time": "2022-04-12T16:41:30.668Z"
   },
   {
    "duration": 544,
    "start_time": "2022-04-12T16:41:51.615Z"
   },
   {
    "duration": 495,
    "start_time": "2022-04-12T18:05:26.874Z"
   },
   {
    "duration": 479,
    "start_time": "2022-04-12T18:06:12.810Z"
   },
   {
    "duration": 443,
    "start_time": "2022-04-12T18:06:47.457Z"
   },
   {
    "duration": 482,
    "start_time": "2022-04-12T18:08:10.213Z"
   },
   {
    "duration": 461,
    "start_time": "2022-04-12T18:08:23.891Z"
   },
   {
    "duration": 119,
    "start_time": "2022-04-12T18:54:05.826Z"
   },
   {
    "duration": 383,
    "start_time": "2022-04-12T20:22:05.968Z"
   },
   {
    "duration": 573,
    "start_time": "2022-04-12T20:22:45.791Z"
   },
   {
    "duration": 465,
    "start_time": "2022-04-12T20:23:17.047Z"
   },
   {
    "duration": 464,
    "start_time": "2022-04-12T20:24:21.599Z"
   },
   {
    "duration": 417,
    "start_time": "2022-04-12T20:26:34.075Z"
   },
   {
    "duration": 462,
    "start_time": "2022-04-12T20:26:56.707Z"
   },
   {
    "duration": 397,
    "start_time": "2022-04-12T20:30:03.150Z"
   },
   {
    "duration": 398,
    "start_time": "2022-04-12T20:32:26.416Z"
   },
   {
    "duration": 402,
    "start_time": "2022-04-12T20:34:54.188Z"
   },
   {
    "duration": 119,
    "start_time": "2022-04-12T20:39:44.755Z"
   },
   {
    "duration": 475,
    "start_time": "2022-04-12T20:40:06.995Z"
   },
   {
    "duration": 474,
    "start_time": "2022-04-12T20:46:50.902Z"
   },
   {
    "duration": 323,
    "start_time": "2022-04-12T20:48:22.129Z"
   },
   {
    "duration": 184,
    "start_time": "2022-04-12T20:48:38.842Z"
   },
   {
    "duration": 428,
    "start_time": "2022-04-12T20:48:53.520Z"
   },
   {
    "duration": 465,
    "start_time": "2022-04-12T21:05:37.936Z"
   },
   {
    "duration": 399,
    "start_time": "2022-04-12T21:06:14.180Z"
   },
   {
    "duration": 392,
    "start_time": "2022-04-12T21:07:29.776Z"
   },
   {
    "duration": 406,
    "start_time": "2022-04-12T21:07:35.245Z"
   },
   {
    "duration": 397,
    "start_time": "2022-04-12T21:07:38.749Z"
   },
   {
    "duration": 393,
    "start_time": "2022-04-12T21:07:42.239Z"
   },
   {
    "duration": 405,
    "start_time": "2022-04-12T21:07:45.519Z"
   },
   {
    "duration": 483,
    "start_time": "2022-04-12T21:16:13.250Z"
   },
   {
    "duration": 457,
    "start_time": "2022-04-12T21:17:53.398Z"
   },
   {
    "duration": 529,
    "start_time": "2022-04-12T21:18:22.625Z"
   },
   {
    "duration": 472,
    "start_time": "2022-04-12T21:18:51.746Z"
   },
   {
    "duration": 530,
    "start_time": "2022-04-12T21:19:35.082Z"
   },
   {
    "duration": 485,
    "start_time": "2022-04-12T21:21:16.741Z"
   },
   {
    "duration": 538,
    "start_time": "2022-04-12T21:21:58.138Z"
   },
   {
    "duration": 397,
    "start_time": "2022-04-12T21:23:22.057Z"
   },
   {
    "duration": 486,
    "start_time": "2022-04-12T21:23:29.641Z"
   },
   {
    "duration": 484,
    "start_time": "2022-04-12T21:51:25.210Z"
   },
   {
    "duration": 722,
    "start_time": "2022-04-13T07:58:27.542Z"
   },
   {
    "duration": 270,
    "start_time": "2022-04-13T07:58:36.795Z"
   },
   {
    "duration": 320,
    "start_time": "2022-04-13T09:42:42.610Z"
   },
   {
    "duration": 296,
    "start_time": "2022-04-13T09:42:47.510Z"
   },
   {
    "duration": 320,
    "start_time": "2022-04-13T09:43:20.118Z"
   },
   {
    "duration": 252,
    "start_time": "2022-04-13T10:01:41.560Z"
   },
   {
    "duration": 277,
    "start_time": "2022-04-13T10:07:00.195Z"
   },
   {
    "duration": 271,
    "start_time": "2022-04-13T10:08:16.081Z"
   },
   {
    "duration": 293,
    "start_time": "2022-04-13T10:08:22.971Z"
   },
   {
    "duration": 158,
    "start_time": "2022-04-13T10:09:31.647Z"
   },
   {
    "duration": 310,
    "start_time": "2022-04-13T12:37:43.623Z"
   },
   {
    "duration": 311,
    "start_time": "2022-04-13T12:38:10.647Z"
   },
   {
    "duration": 490,
    "start_time": "2022-04-13T12:38:35.859Z"
   },
   {
    "duration": 334,
    "start_time": "2022-04-13T12:38:48.043Z"
   },
   {
    "duration": 290,
    "start_time": "2022-04-13T12:39:13.550Z"
   },
   {
    "duration": 301,
    "start_time": "2022-04-13T12:44:13.277Z"
   },
   {
    "duration": 315,
    "start_time": "2022-04-13T12:54:13.188Z"
   },
   {
    "duration": 307,
    "start_time": "2022-04-13T12:54:41.117Z"
   },
   {
    "duration": 466,
    "start_time": "2022-04-13T13:02:10.966Z"
   },
   {
    "duration": 471,
    "start_time": "2022-04-13T13:02:24.187Z"
   },
   {
    "duration": 477,
    "start_time": "2022-04-13T13:02:43.643Z"
   },
   {
    "duration": 157,
    "start_time": "2022-04-13T13:09:00.521Z"
   },
   {
    "duration": 285,
    "start_time": "2022-04-13T13:09:07.022Z"
   },
   {
    "duration": 479,
    "start_time": "2022-04-13T13:09:15.421Z"
   },
   {
    "duration": 157,
    "start_time": "2022-04-13T13:09:27.826Z"
   },
   {
    "duration": 300,
    "start_time": "2022-04-13T13:09:46.529Z"
   },
   {
    "duration": 331,
    "start_time": "2022-04-13T13:09:59.973Z"
   },
   {
    "duration": 138,
    "start_time": "2022-04-13T13:22:56.479Z"
   },
   {
    "duration": 152,
    "start_time": "2022-04-13T13:23:46.871Z"
   },
   {
    "duration": 318,
    "start_time": "2022-04-13T13:23:57.171Z"
   },
   {
    "duration": 6,
    "start_time": "2022-04-13T13:24:22.051Z"
   },
   {
    "duration": 336,
    "start_time": "2022-04-13T13:24:35.662Z"
   },
   {
    "duration": 314,
    "start_time": "2022-04-13T13:24:40.207Z"
   },
   {
    "duration": 317,
    "start_time": "2022-04-13T13:24:54.195Z"
   },
   {
    "duration": 285,
    "start_time": "2022-04-13T13:25:25.531Z"
   },
   {
    "duration": 307,
    "start_time": "2022-04-13T13:26:02.587Z"
   },
   {
    "duration": 294,
    "start_time": "2022-04-13T13:26:11.629Z"
   },
   {
    "duration": 307,
    "start_time": "2022-04-13T13:26:20.734Z"
   },
   {
    "duration": 337,
    "start_time": "2022-04-13T13:37:39.729Z"
   },
   {
    "duration": 546,
    "start_time": "2022-04-13T13:37:46.221Z"
   },
   {
    "duration": 313,
    "start_time": "2022-04-13T13:55:43.827Z"
   },
   {
    "duration": 301,
    "start_time": "2022-04-13T13:56:18.375Z"
   },
   {
    "duration": 315,
    "start_time": "2022-04-13T13:56:47.658Z"
   },
   {
    "duration": 313,
    "start_time": "2022-04-13T14:11:30.516Z"
   },
   {
    "duration": 287,
    "start_time": "2022-04-13T14:14:23.864Z"
   },
   {
    "duration": 258,
    "start_time": "2022-04-13T17:43:08.872Z"
   },
   {
    "duration": 258,
    "start_time": "2022-04-13T17:44:25.729Z"
   },
   {
    "duration": 298,
    "start_time": "2022-04-13T17:46:53.082Z"
   },
   {
    "duration": 480,
    "start_time": "2022-04-13T17:52:45.536Z"
   },
   {
    "duration": 476,
    "start_time": "2022-04-13T17:52:59.848Z"
   },
   {
    "duration": 368,
    "start_time": "2022-04-13T17:53:39.900Z"
   },
   {
    "duration": 393,
    "start_time": "2022-04-13T17:54:02.784Z"
   },
   {
    "duration": 310,
    "start_time": "2022-04-13T17:55:34.603Z"
   },
   {
    "duration": 366,
    "start_time": "2022-04-13T17:56:02.768Z"
   },
   {
    "duration": 312,
    "start_time": "2022-04-13T17:56:27.328Z"
   },
   {
    "duration": 379,
    "start_time": "2022-04-13T17:57:22.952Z"
   },
   {
    "duration": 322,
    "start_time": "2022-04-13T18:16:11.692Z"
   },
   {
    "duration": 343,
    "start_time": "2022-04-13T18:17:08.248Z"
   },
   {
    "duration": 343,
    "start_time": "2022-04-13T18:27:16.330Z"
   },
   {
    "duration": 350,
    "start_time": "2022-04-13T18:35:12.253Z"
   },
   {
    "duration": 301,
    "start_time": "2022-04-13T18:35:31.437Z"
   },
   {
    "duration": 326,
    "start_time": "2022-04-13T18:37:33.588Z"
   },
   {
    "duration": 339,
    "start_time": "2022-04-13T18:37:39.920Z"
   },
   {
    "duration": 347,
    "start_time": "2022-04-13T18:38:01.712Z"
   },
   {
    "duration": 317,
    "start_time": "2022-04-13T18:46:07.627Z"
   },
   {
    "duration": 350,
    "start_time": "2022-04-13T18:46:55.316Z"
   },
   {
    "duration": 321,
    "start_time": "2022-04-13T18:48:06.439Z"
   },
   {
    "duration": 270,
    "start_time": "2022-04-13T19:57:38.878Z"
   },
   {
    "duration": 336,
    "start_time": "2022-04-13T19:58:03.368Z"
   },
   {
    "duration": 313,
    "start_time": "2022-04-13T19:59:18.357Z"
   },
   {
    "duration": 356,
    "start_time": "2022-04-13T20:00:04.836Z"
   },
   {
    "duration": 286,
    "start_time": "2022-04-13T20:00:35.232Z"
   },
   {
    "duration": 303,
    "start_time": "2022-04-13T20:00:47.359Z"
   },
   {
    "duration": 395,
    "start_time": "2022-04-13T20:01:02.711Z"
   },
   {
    "duration": 347,
    "start_time": "2022-04-13T20:01:14.987Z"
   },
   {
    "duration": 319,
    "start_time": "2022-04-13T20:07:31.153Z"
   },
   {
    "duration": 325,
    "start_time": "2022-04-13T20:08:40.961Z"
   },
   {
    "duration": 379,
    "start_time": "2022-04-13T20:08:46.205Z"
   },
   {
    "duration": 337,
    "start_time": "2022-04-13T20:08:50.457Z"
   },
   {
    "duration": 275,
    "start_time": "2022-04-13T20:09:09.270Z"
   },
   {
    "duration": 268,
    "start_time": "2022-04-13T20:09:18.700Z"
   },
   {
    "duration": 301,
    "start_time": "2022-04-13T20:09:21.786Z"
   },
   {
    "duration": 272,
    "start_time": "2022-04-13T20:09:47.956Z"
   },
   {
    "duration": 284,
    "start_time": "2022-04-13T20:09:58.136Z"
   },
   {
    "duration": 2,
    "start_time": "2022-04-13T20:09:58.520Z"
   },
   {
    "duration": 292,
    "start_time": "2022-04-13T20:10:44.077Z"
   },
   {
    "duration": 273,
    "start_time": "2022-04-13T20:11:07.898Z"
   },
   {
    "duration": 265,
    "start_time": "2022-04-13T20:11:12.452Z"
   },
   {
    "duration": 261,
    "start_time": "2022-04-13T20:16:38.695Z"
   },
   {
    "duration": 280,
    "start_time": "2022-04-13T20:16:43.735Z"
   },
   {
    "duration": 270,
    "start_time": "2022-04-13T20:24:46.006Z"
   },
   {
    "duration": 256,
    "start_time": "2022-04-13T20:25:27.282Z"
   },
   {
    "duration": 272,
    "start_time": "2022-04-13T20:25:41.986Z"
   },
   {
    "duration": 287,
    "start_time": "2022-04-13T20:25:50.610Z"
   },
   {
    "duration": 320,
    "start_time": "2022-04-13T20:28:26.826Z"
   },
   {
    "duration": 315,
    "start_time": "2022-04-13T20:28:41.146Z"
   },
   {
    "duration": 325,
    "start_time": "2022-04-13T20:28:55.574Z"
   },
   {
    "duration": 343,
    "start_time": "2022-04-13T20:29:03.530Z"
   },
   {
    "duration": 149,
    "start_time": "2022-04-13T20:29:42.674Z"
   },
   {
    "duration": 287,
    "start_time": "2022-04-13T20:29:53.269Z"
   },
   {
    "duration": 296,
    "start_time": "2022-04-13T20:30:09.042Z"
   },
   {
    "duration": 307,
    "start_time": "2022-04-13T20:34:59.713Z"
   },
   {
    "duration": 292,
    "start_time": "2022-04-13T20:35:54.990Z"
   },
   {
    "duration": 288,
    "start_time": "2022-04-13T20:36:15.661Z"
   },
   {
    "duration": 286,
    "start_time": "2022-04-13T20:36:37.457Z"
   },
   {
    "duration": 283,
    "start_time": "2022-04-13T20:38:00.153Z"
   },
   {
    "duration": 294,
    "start_time": "2022-04-13T20:39:29.413Z"
   },
   {
    "duration": 298,
    "start_time": "2022-04-13T20:39:33.975Z"
   },
   {
    "duration": 292,
    "start_time": "2022-04-13T21:06:06.187Z"
   },
   {
    "duration": 290,
    "start_time": "2022-04-13T21:06:22.955Z"
   },
   {
    "duration": 296,
    "start_time": "2022-04-13T21:06:27.979Z"
   },
   {
    "duration": 283,
    "start_time": "2022-04-13T21:06:34.911Z"
   },
   {
    "duration": 321,
    "start_time": "2022-04-13T21:06:55.215Z"
   },
   {
    "duration": 287,
    "start_time": "2022-04-13T21:07:02.923Z"
   },
   {
    "duration": 306,
    "start_time": "2022-04-13T21:45:35.753Z"
   },
   {
    "duration": 318,
    "start_time": "2022-04-13T21:46:04.521Z"
   },
   {
    "duration": 303,
    "start_time": "2022-04-13T21:47:12.245Z"
   },
   {
    "duration": 282,
    "start_time": "2022-04-13T22:11:05.010Z"
   },
   {
    "duration": 287,
    "start_time": "2022-04-13T22:11:55.745Z"
   },
   {
    "duration": 275,
    "start_time": "2022-04-13T22:15:21.099Z"
   },
   {
    "duration": 333,
    "start_time": "2022-04-13T22:16:17.428Z"
   },
   {
    "duration": 274,
    "start_time": "2022-04-13T22:16:57.132Z"
   },
   {
    "duration": 324,
    "start_time": "2022-04-13T22:17:28.940Z"
   },
   {
    "duration": 672,
    "start_time": "2022-04-23T14:28:36.295Z"
   },
   {
    "duration": 294,
    "start_time": "2022-04-23T14:28:36.970Z"
   },
   {
    "duration": 40,
    "start_time": "2022-04-23T14:28:37.267Z"
   },
   {
    "duration": 76,
    "start_time": "2022-04-23T14:28:37.310Z"
   },
   {
    "duration": 424,
    "start_time": "2022-04-23T14:28:37.391Z"
   },
   {
    "duration": 344,
    "start_time": "2022-04-23T14:28:37.818Z"
   },
   {
    "duration": 313,
    "start_time": "2022-04-23T14:28:38.165Z"
   },
   {
    "duration": 360,
    "start_time": "2022-04-23T14:28:38.481Z"
   },
   {
    "duration": 345,
    "start_time": "2022-04-23T14:28:38.843Z"
   },
   {
    "duration": 374,
    "start_time": "2022-04-23T14:28:39.190Z"
   },
   {
    "duration": 458,
    "start_time": "2022-04-23T14:28:39.567Z"
   },
   {
    "duration": 488,
    "start_time": "2022-04-23T14:28:40.028Z"
   },
   {
    "duration": 704,
    "start_time": "2022-04-23T14:28:40.519Z"
   },
   {
    "duration": 573,
    "start_time": "2022-04-23T14:28:41.228Z"
   },
   {
    "duration": 548,
    "start_time": "2022-04-23T14:28:41.804Z"
   },
   {
    "duration": 583,
    "start_time": "2022-04-23T14:28:42.355Z"
   },
   {
    "duration": 600,
    "start_time": "2022-04-23T14:28:42.941Z"
   },
   {
    "duration": 499,
    "start_time": "2022-04-23T14:28:43.544Z"
   },
   {
    "duration": 607,
    "start_time": "2022-04-23T14:28:44.046Z"
   },
   {
    "duration": 512,
    "start_time": "2022-04-23T14:28:44.655Z"
   },
   {
    "duration": 519,
    "start_time": "2022-04-23T14:28:45.170Z"
   },
   {
    "duration": 506,
    "start_time": "2022-04-23T14:28:45.692Z"
   },
   {
    "duration": 512,
    "start_time": "2022-04-23T14:28:46.201Z"
   },
   {
    "duration": 514,
    "start_time": "2022-04-23T14:28:46.716Z"
   },
   {
    "duration": 514,
    "start_time": "2022-04-23T14:28:47.233Z"
   },
   {
    "duration": 540,
    "start_time": "2022-04-23T14:28:47.753Z"
   },
   {
    "duration": 704,
    "start_time": "2022-04-23T14:28:48.296Z"
   },
   {
    "duration": 546,
    "start_time": "2022-04-23T14:28:49.002Z"
   },
   {
    "duration": 445,
    "start_time": "2022-04-23T14:28:49.552Z"
   },
   {
    "duration": 490,
    "start_time": "2022-04-23T14:28:50.000Z"
   },
   {
    "duration": 568,
    "start_time": "2022-04-23T14:28:50.493Z"
   },
   {
    "duration": 578,
    "start_time": "2022-04-23T14:28:51.064Z"
   },
   {
    "duration": 545,
    "start_time": "2022-04-23T14:28:51.653Z"
   },
   {
    "duration": 583,
    "start_time": "2022-04-23T14:28:52.201Z"
   },
   {
    "duration": 575,
    "start_time": "2022-04-23T14:28:52.786Z"
   },
   {
    "duration": 542,
    "start_time": "2022-04-23T14:28:53.364Z"
   },
   {
    "duration": 572,
    "start_time": "2022-04-23T14:28:53.909Z"
   },
   {
    "duration": 558,
    "start_time": "2022-04-23T14:28:54.484Z"
   },
   {
    "duration": 51,
    "start_time": "2022-04-25T08:51:16.452Z"
   },
   {
    "duration": 6,
    "start_time": "2022-04-25T08:51:24.025Z"
   },
   {
    "duration": 6,
    "start_time": "2022-04-25T08:51:28.315Z"
   },
   {
    "duration": 8,
    "start_time": "2022-04-25T08:51:31.664Z"
   },
   {
    "duration": 6,
    "start_time": "2022-04-25T08:51:35.524Z"
   },
   {
    "duration": 5,
    "start_time": "2022-04-25T08:51:57.774Z"
   },
   {
    "duration": 7,
    "start_time": "2022-04-25T08:52:31.187Z"
   },
   {
    "duration": 6,
    "start_time": "2022-04-25T08:52:59.025Z"
   },
   {
    "duration": 49,
    "start_time": "2022-04-25T08:54:42.982Z"
   },
   {
    "duration": 53,
    "start_time": "2022-04-25T16:18:16.292Z"
   },
   {
    "duration": 6,
    "start_time": "2022-04-25T16:18:19.560Z"
   },
   {
    "duration": 6,
    "start_time": "2022-04-25T16:18:24.176Z"
   },
   {
    "duration": 6,
    "start_time": "2022-04-25T16:18:26.992Z"
   },
   {
    "duration": 5,
    "start_time": "2022-04-25T16:18:28.817Z"
   },
   {
    "duration": 6,
    "start_time": "2022-04-25T16:18:30.576Z"
   },
   {
    "duration": 5,
    "start_time": "2022-04-25T16:19:07.565Z"
   },
   {
    "duration": 6,
    "start_time": "2022-04-25T16:20:14.892Z"
   },
   {
    "duration": 6,
    "start_time": "2022-04-25T16:20:27.888Z"
   },
   {
    "duration": 11,
    "start_time": "2022-04-25T16:20:35.160Z"
   },
   {
    "duration": 6,
    "start_time": "2022-04-25T16:20:54.036Z"
   },
   {
    "duration": 6,
    "start_time": "2022-04-25T16:41:13.629Z"
   },
   {
    "duration": 6,
    "start_time": "2022-04-25T16:41:41.945Z"
   },
   {
    "duration": 44,
    "start_time": "2022-04-25T16:42:18.149Z"
   },
   {
    "duration": 5,
    "start_time": "2022-04-25T16:42:21.769Z"
   },
   {
    "duration": 6,
    "start_time": "2022-04-25T16:42:24.168Z"
   },
   {
    "duration": 419,
    "start_time": "2022-05-01T14:49:09.558Z"
   },
   {
    "duration": 190,
    "start_time": "2022-05-01T14:49:09.979Z"
   },
   {
    "duration": 24,
    "start_time": "2022-05-01T14:49:10.171Z"
   },
   {
    "duration": 44,
    "start_time": "2022-05-01T14:49:10.198Z"
   },
   {
    "duration": 5,
    "start_time": "2022-05-01T14:49:10.244Z"
   },
   {
    "duration": 194,
    "start_time": "2022-05-01T14:49:10.251Z"
   },
   {
    "duration": 173,
    "start_time": "2022-05-01T14:49:10.446Z"
   },
   {
    "duration": 212,
    "start_time": "2022-05-01T14:49:10.620Z"
   },
   {
    "duration": 214,
    "start_time": "2022-05-01T14:49:10.834Z"
   },
   {
    "duration": 293,
    "start_time": "2022-05-01T14:49:11.056Z"
   },
   {
    "duration": 363,
    "start_time": "2022-05-01T14:49:11.355Z"
   },
   {
    "duration": 277,
    "start_time": "2022-05-01T14:49:11.719Z"
   },
   {
    "duration": 305,
    "start_time": "2022-05-01T14:49:11.997Z"
   },
   {
    "duration": 269,
    "start_time": "2022-05-01T14:49:12.304Z"
   },
   {
    "duration": 266,
    "start_time": "2022-05-01T14:49:12.574Z"
   },
   {
    "duration": 322,
    "start_time": "2022-05-01T14:49:12.841Z"
   },
   {
    "duration": 348,
    "start_time": "2022-05-01T14:49:13.165Z"
   },
   {
    "duration": 311,
    "start_time": "2022-05-01T14:49:13.515Z"
   },
   {
    "duration": 304,
    "start_time": "2022-05-01T14:49:13.827Z"
   },
   {
    "duration": 304,
    "start_time": "2022-05-01T14:49:14.133Z"
   },
   {
    "duration": 294,
    "start_time": "2022-05-01T14:49:14.439Z"
   },
   {
    "duration": 283,
    "start_time": "2022-05-01T14:49:14.734Z"
   },
   {
    "duration": 271,
    "start_time": "2022-05-01T14:49:15.019Z"
   },
   {
    "duration": 287,
    "start_time": "2022-05-01T14:49:15.291Z"
   },
   {
    "duration": 258,
    "start_time": "2022-05-01T14:49:15.580Z"
   },
   {
    "duration": 255,
    "start_time": "2022-05-01T14:49:15.840Z"
   },
   {
    "duration": 330,
    "start_time": "2022-05-01T14:49:16.096Z"
   },
   {
    "duration": 259,
    "start_time": "2022-05-01T14:49:16.430Z"
   },
   {
    "duration": 258,
    "start_time": "2022-05-01T14:49:16.691Z"
   },
   {
    "duration": 271,
    "start_time": "2022-05-01T14:49:16.951Z"
   },
   {
    "duration": 288,
    "start_time": "2022-05-01T14:49:17.224Z"
   },
   {
    "duration": 277,
    "start_time": "2022-05-01T14:49:17.514Z"
   },
   {
    "duration": 305,
    "start_time": "2022-05-01T14:49:17.793Z"
   },
   {
    "duration": 284,
    "start_time": "2022-05-01T14:49:18.100Z"
   },
   {
    "duration": 286,
    "start_time": "2022-05-01T14:49:18.386Z"
   },
   {
    "duration": 275,
    "start_time": "2022-05-01T14:49:18.674Z"
   },
   {
    "duration": 278,
    "start_time": "2022-05-01T14:49:18.951Z"
   },
   {
    "duration": 301,
    "start_time": "2022-05-01T14:49:19.231Z"
   },
   {
    "duration": 17,
    "start_time": "2022-05-01T14:50:36.945Z"
   },
   {
    "duration": 12,
    "start_time": "2022-05-01T14:55:08.148Z"
   },
   {
    "duration": 29,
    "start_time": "2022-05-01T14:55:21.780Z"
   },
   {
    "duration": 28,
    "start_time": "2022-05-01T14:56:33.887Z"
   },
   {
    "duration": 29,
    "start_time": "2022-05-01T14:58:32.444Z"
   },
   {
    "duration": 19,
    "start_time": "2022-05-01T15:03:24.043Z"
   },
   {
    "duration": 11,
    "start_time": "2022-05-01T15:07:44.383Z"
   },
   {
    "duration": 10,
    "start_time": "2022-05-01T15:07:49.943Z"
   },
   {
    "duration": 388,
    "start_time": "2022-05-01T15:07:56.768Z"
   },
   {
    "duration": 156,
    "start_time": "2022-05-01T15:07:57.158Z"
   },
   {
    "duration": 18,
    "start_time": "2022-05-01T15:07:57.315Z"
   },
   {
    "duration": 42,
    "start_time": "2022-05-01T15:07:57.335Z"
   },
   {
    "duration": 5,
    "start_time": "2022-05-01T15:07:57.378Z"
   },
   {
    "duration": 15,
    "start_time": "2022-05-01T15:07:57.384Z"
   },
   {
    "duration": 17,
    "start_time": "2022-05-01T15:07:57.401Z"
   },
   {
    "duration": 71,
    "start_time": "2022-05-01T15:07:57.420Z"
   },
   {
    "duration": 33,
    "start_time": "2022-05-01T15:07:57.493Z"
   },
   {
    "duration": 43,
    "start_time": "2022-05-01T15:07:57.528Z"
   },
   {
    "duration": 237,
    "start_time": "2022-05-01T15:07:57.572Z"
   },
   {
    "duration": 235,
    "start_time": "2022-05-01T15:07:57.811Z"
   },
   {
    "duration": 287,
    "start_time": "2022-05-01T15:07:58.048Z"
   },
   {
    "duration": 280,
    "start_time": "2022-05-01T15:07:58.336Z"
   },
   {
    "duration": 282,
    "start_time": "2022-05-01T15:07:58.618Z"
   },
   {
    "duration": 277,
    "start_time": "2022-05-01T15:07:58.901Z"
   },
   {
    "duration": 307,
    "start_time": "2022-05-01T15:07:59.179Z"
   },
   {
    "duration": 256,
    "start_time": "2022-05-01T15:07:59.488Z"
   },
   {
    "duration": 314,
    "start_time": "2022-05-01T15:07:59.746Z"
   },
   {
    "duration": 260,
    "start_time": "2022-05-01T15:08:00.062Z"
   },
   {
    "duration": 271,
    "start_time": "2022-05-01T15:08:00.324Z"
   },
   {
    "duration": 261,
    "start_time": "2022-05-01T15:08:00.597Z"
   },
   {
    "duration": 276,
    "start_time": "2022-05-01T15:08:00.860Z"
   },
   {
    "duration": 278,
    "start_time": "2022-05-01T15:08:01.137Z"
   },
   {
    "duration": 294,
    "start_time": "2022-05-01T15:08:01.417Z"
   },
   {
    "duration": 285,
    "start_time": "2022-05-01T15:08:01.713Z"
   },
   {
    "duration": 360,
    "start_time": "2022-05-01T15:08:02.000Z"
   },
   {
    "duration": 272,
    "start_time": "2022-05-01T15:08:02.364Z"
   },
   {
    "duration": 270,
    "start_time": "2022-05-01T15:08:02.638Z"
   },
   {
    "duration": 282,
    "start_time": "2022-05-01T15:08:02.910Z"
   },
   {
    "duration": 438,
    "start_time": "2022-05-01T15:08:03.194Z"
   },
   {
    "duration": 449,
    "start_time": "2022-05-01T15:08:03.635Z"
   },
   {
    "duration": 456,
    "start_time": "2022-05-01T15:08:04.086Z"
   },
   {
    "duration": 480,
    "start_time": "2022-05-01T15:08:04.544Z"
   },
   {
    "duration": 463,
    "start_time": "2022-05-01T15:08:05.026Z"
   },
   {
    "duration": 293,
    "start_time": "2022-05-01T15:08:05.491Z"
   },
   {
    "duration": 279,
    "start_time": "2022-05-01T15:08:05.785Z"
   },
   {
    "duration": 288,
    "start_time": "2022-05-01T15:08:06.067Z"
   },
   {
    "duration": 11,
    "start_time": "2022-05-01T15:08:43.276Z"
   },
   {
    "duration": 11,
    "start_time": "2022-05-01T15:08:47.302Z"
   },
   {
    "duration": 29,
    "start_time": "2022-05-01T15:08:54.296Z"
   },
   {
    "duration": 9,
    "start_time": "2022-05-01T15:09:12.920Z"
   },
   {
    "duration": 18,
    "start_time": "2022-05-01T15:09:16.604Z"
   },
   {
    "duration": 35,
    "start_time": "2022-05-01T15:15:37.370Z"
   },
   {
    "duration": 29,
    "start_time": "2022-05-01T15:15:53.292Z"
   },
   {
    "duration": 30,
    "start_time": "2022-05-01T15:32:41.476Z"
   },
   {
    "duration": 4,
    "start_time": "2022-05-01T15:32:45.860Z"
   },
   {
    "duration": 61,
    "start_time": "2022-05-01T15:32:52.804Z"
   },
   {
    "duration": 369,
    "start_time": "2022-05-01T15:33:05.885Z"
   },
   {
    "duration": 139,
    "start_time": "2022-05-01T15:33:06.256Z"
   },
   {
    "duration": 15,
    "start_time": "2022-05-01T15:33:06.397Z"
   },
   {
    "duration": 42,
    "start_time": "2022-05-01T15:33:06.415Z"
   },
   {
    "duration": 4,
    "start_time": "2022-05-01T15:33:06.459Z"
   },
   {
    "duration": 21,
    "start_time": "2022-05-01T15:33:06.464Z"
   },
   {
    "duration": 15,
    "start_time": "2022-05-01T15:33:06.487Z"
   },
   {
    "duration": 25,
    "start_time": "2022-05-01T15:33:06.504Z"
   },
   {
    "duration": 25,
    "start_time": "2022-05-01T15:33:06.555Z"
   },
   {
    "duration": 23,
    "start_time": "2022-05-01T15:33:06.583Z"
   },
   {
    "duration": 232,
    "start_time": "2022-05-01T15:33:06.607Z"
   },
   {
    "duration": 226,
    "start_time": "2022-05-01T15:33:06.841Z"
   },
   {
    "duration": 290,
    "start_time": "2022-05-01T15:33:07.068Z"
   },
   {
    "duration": 262,
    "start_time": "2022-05-01T15:33:07.360Z"
   },
   {
    "duration": 280,
    "start_time": "2022-05-01T15:33:07.624Z"
   },
   {
    "duration": 268,
    "start_time": "2022-05-01T15:33:07.906Z"
   },
   {
    "duration": 297,
    "start_time": "2022-05-01T15:33:08.176Z"
   },
   {
    "duration": 253,
    "start_time": "2022-05-01T15:33:08.474Z"
   },
   {
    "duration": 288,
    "start_time": "2022-05-01T15:33:08.729Z"
   },
   {
    "duration": 256,
    "start_time": "2022-05-01T15:33:09.019Z"
   },
   {
    "duration": 263,
    "start_time": "2022-05-01T15:33:09.276Z"
   },
   {
    "duration": 254,
    "start_time": "2022-05-01T15:33:09.541Z"
   },
   {
    "duration": 266,
    "start_time": "2022-05-01T15:33:09.796Z"
   },
   {
    "duration": 253,
    "start_time": "2022-05-01T15:33:10.064Z"
   },
   {
    "duration": 407,
    "start_time": "2022-05-01T15:33:10.319Z"
   },
   {
    "duration": 422,
    "start_time": "2022-05-01T15:33:10.728Z"
   },
   {
    "duration": 547,
    "start_time": "2022-05-01T15:33:11.155Z"
   },
   {
    "duration": 433,
    "start_time": "2022-05-01T15:33:11.706Z"
   },
   {
    "duration": 380,
    "start_time": "2022-05-01T15:33:12.141Z"
   },
   {
    "duration": 281,
    "start_time": "2022-05-01T15:33:12.523Z"
   },
   {
    "duration": 279,
    "start_time": "2022-05-01T15:33:12.805Z"
   },
   {
    "duration": 269,
    "start_time": "2022-05-01T15:33:13.086Z"
   },
   {
    "duration": 281,
    "start_time": "2022-05-01T15:33:13.356Z"
   },
   {
    "duration": 259,
    "start_time": "2022-05-01T15:33:13.639Z"
   },
   {
    "duration": 267,
    "start_time": "2022-05-01T15:33:13.900Z"
   },
   {
    "duration": 278,
    "start_time": "2022-05-01T15:33:14.169Z"
   },
   {
    "duration": 295,
    "start_time": "2022-05-01T15:33:14.448Z"
   },
   {
    "duration": 279,
    "start_time": "2022-05-01T15:33:14.745Z"
   },
   {
    "duration": 31,
    "start_time": "2022-05-01T15:35:06.441Z"
   },
   {
    "duration": 432,
    "start_time": "2022-05-01T15:35:20.422Z"
   },
   {
    "duration": 143,
    "start_time": "2022-05-01T15:35:20.856Z"
   },
   {
    "duration": 17,
    "start_time": "2022-05-01T15:35:21.001Z"
   },
   {
    "duration": 43,
    "start_time": "2022-05-01T15:35:21.020Z"
   },
   {
    "duration": 7,
    "start_time": "2022-05-01T15:35:21.065Z"
   },
   {
    "duration": 21,
    "start_time": "2022-05-01T15:35:21.073Z"
   },
   {
    "duration": 15,
    "start_time": "2022-05-01T15:35:21.096Z"
   },
   {
    "duration": 80,
    "start_time": "2022-05-01T15:35:21.113Z"
   },
   {
    "duration": 45,
    "start_time": "2022-05-01T15:35:21.195Z"
   },
   {
    "duration": 48,
    "start_time": "2022-05-01T15:35:21.256Z"
   },
   {
    "duration": 383,
    "start_time": "2022-05-01T15:35:21.306Z"
   },
   {
    "duration": 390,
    "start_time": "2022-05-01T15:35:21.691Z"
   },
   {
    "duration": 470,
    "start_time": "2022-05-01T15:35:22.084Z"
   },
   {
    "duration": 465,
    "start_time": "2022-05-01T15:35:22.557Z"
   },
   {
    "duration": 282,
    "start_time": "2022-05-01T15:35:23.024Z"
   },
   {
    "duration": 295,
    "start_time": "2022-05-01T15:35:23.308Z"
   },
   {
    "duration": 299,
    "start_time": "2022-05-01T15:35:23.605Z"
   },
   {
    "duration": 260,
    "start_time": "2022-05-01T15:35:23.907Z"
   },
   {
    "duration": 295,
    "start_time": "2022-05-01T15:35:24.169Z"
   },
   {
    "duration": 257,
    "start_time": "2022-05-01T15:35:24.465Z"
   },
   {
    "duration": 263,
    "start_time": "2022-05-01T15:35:24.723Z"
   },
   {
    "duration": 255,
    "start_time": "2022-05-01T15:35:24.988Z"
   },
   {
    "duration": 259,
    "start_time": "2022-05-01T15:35:25.245Z"
   },
   {
    "duration": 261,
    "start_time": "2022-05-01T15:35:25.506Z"
   },
   {
    "duration": 279,
    "start_time": "2022-05-01T15:35:25.768Z"
   },
   {
    "duration": 257,
    "start_time": "2022-05-01T15:35:26.049Z"
   },
   {
    "duration": 331,
    "start_time": "2022-05-01T15:35:26.307Z"
   },
   {
    "duration": 266,
    "start_time": "2022-05-01T15:35:26.641Z"
   },
   {
    "duration": 267,
    "start_time": "2022-05-01T15:35:26.908Z"
   },
   {
    "duration": 264,
    "start_time": "2022-05-01T15:35:27.176Z"
   },
   {
    "duration": 285,
    "start_time": "2022-05-01T15:35:27.442Z"
   },
   {
    "duration": 281,
    "start_time": "2022-05-01T15:35:27.729Z"
   },
   {
    "duration": 428,
    "start_time": "2022-05-01T15:35:28.012Z"
   },
   {
    "duration": 433,
    "start_time": "2022-05-01T15:35:28.443Z"
   },
   {
    "duration": 283,
    "start_time": "2022-05-01T15:35:28.877Z"
   },
   {
    "duration": 284,
    "start_time": "2022-05-01T15:35:29.161Z"
   },
   {
    "duration": 269,
    "start_time": "2022-05-01T15:35:29.447Z"
   },
   {
    "duration": 275,
    "start_time": "2022-05-01T15:35:29.718Z"
   },
   {
    "duration": 11,
    "start_time": "2022-05-01T15:35:59.442Z"
   },
   {
    "duration": 18,
    "start_time": "2022-05-01T15:40:25.568Z"
   },
   {
    "duration": 12,
    "start_time": "2022-05-01T15:43:34.441Z"
   },
   {
    "duration": 4,
    "start_time": "2022-05-01T15:48:08.077Z"
   },
   {
    "duration": 28,
    "start_time": "2022-05-01T15:49:08.528Z"
   },
   {
    "duration": 30,
    "start_time": "2022-05-01T15:49:32.832Z"
   },
   {
    "duration": 29,
    "start_time": "2022-05-01T15:49:46.861Z"
   },
   {
    "duration": 29,
    "start_time": "2022-05-01T15:51:09.603Z"
   },
   {
    "duration": 34,
    "start_time": "2022-05-01T15:51:24.084Z"
   },
   {
    "duration": 120,
    "start_time": "2022-05-01T15:53:51.384Z"
   },
   {
    "duration": 118,
    "start_time": "2022-05-01T16:02:23.427Z"
   },
   {
    "duration": 66,
    "start_time": "2022-05-01T16:02:30.839Z"
   },
   {
    "duration": 540,
    "start_time": "2022-05-01T16:02:55.119Z"
   },
   {
    "duration": 252,
    "start_time": "2022-05-01T16:02:55.662Z"
   },
   {
    "duration": 22,
    "start_time": "2022-05-01T16:02:55.917Z"
   },
   {
    "duration": 47,
    "start_time": "2022-05-01T16:02:55.941Z"
   },
   {
    "duration": 4,
    "start_time": "2022-05-01T16:02:55.990Z"
   },
   {
    "duration": 39,
    "start_time": "2022-05-01T16:02:55.996Z"
   },
   {
    "duration": 19,
    "start_time": "2022-05-01T16:02:56.037Z"
   },
   {
    "duration": 49,
    "start_time": "2022-05-01T16:02:56.059Z"
   },
   {
    "duration": 2514,
    "start_time": "2022-05-01T16:02:56.111Z"
   },
   {
    "duration": 0,
    "start_time": "2022-05-01T16:02:58.630Z"
   },
   {
    "duration": 0,
    "start_time": "2022-05-01T16:02:58.632Z"
   },
   {
    "duration": 1,
    "start_time": "2022-05-01T16:02:58.632Z"
   },
   {
    "duration": 0,
    "start_time": "2022-05-01T16:02:58.634Z"
   },
   {
    "duration": 0,
    "start_time": "2022-05-01T16:02:58.635Z"
   },
   {
    "duration": 0,
    "start_time": "2022-05-01T16:02:58.635Z"
   },
   {
    "duration": 0,
    "start_time": "2022-05-01T16:02:58.636Z"
   },
   {
    "duration": 0,
    "start_time": "2022-05-01T16:02:58.637Z"
   },
   {
    "duration": 0,
    "start_time": "2022-05-01T16:02:58.638Z"
   },
   {
    "duration": 0,
    "start_time": "2022-05-01T16:02:58.640Z"
   },
   {
    "duration": 0,
    "start_time": "2022-05-01T16:02:58.641Z"
   },
   {
    "duration": 0,
    "start_time": "2022-05-01T16:02:58.642Z"
   },
   {
    "duration": 0,
    "start_time": "2022-05-01T16:02:58.643Z"
   },
   {
    "duration": 0,
    "start_time": "2022-05-01T16:02:58.644Z"
   },
   {
    "duration": 0,
    "start_time": "2022-05-01T16:02:58.645Z"
   },
   {
    "duration": 0,
    "start_time": "2022-05-01T16:02:58.646Z"
   },
   {
    "duration": 0,
    "start_time": "2022-05-01T16:02:58.647Z"
   },
   {
    "duration": 0,
    "start_time": "2022-05-01T16:02:58.648Z"
   },
   {
    "duration": 0,
    "start_time": "2022-05-01T16:02:58.649Z"
   },
   {
    "duration": 1,
    "start_time": "2022-05-01T16:02:58.650Z"
   },
   {
    "duration": 0,
    "start_time": "2022-05-01T16:02:58.652Z"
   },
   {
    "duration": 0,
    "start_time": "2022-05-01T16:02:58.653Z"
   },
   {
    "duration": 0,
    "start_time": "2022-05-01T16:02:58.653Z"
   },
   {
    "duration": 0,
    "start_time": "2022-05-01T16:02:58.654Z"
   },
   {
    "duration": 0,
    "start_time": "2022-05-01T16:02:58.655Z"
   },
   {
    "duration": 0,
    "start_time": "2022-05-01T16:02:58.656Z"
   },
   {
    "duration": 0,
    "start_time": "2022-05-01T16:02:58.657Z"
   },
   {
    "duration": 0,
    "start_time": "2022-05-01T16:02:58.658Z"
   },
   {
    "duration": 0,
    "start_time": "2022-05-01T16:02:58.659Z"
   },
   {
    "duration": 3,
    "start_time": "2022-05-01T16:03:45.179Z"
   },
   {
    "duration": 236,
    "start_time": "2022-05-01T16:03:47.995Z"
   },
   {
    "duration": 17,
    "start_time": "2022-05-01T16:03:51.011Z"
   },
   {
    "duration": 29,
    "start_time": "2022-05-01T16:04:13.479Z"
   },
   {
    "duration": 4,
    "start_time": "2022-05-01T16:04:18.227Z"
   },
   {
    "duration": 23,
    "start_time": "2022-05-01T16:04:22.178Z"
   },
   {
    "duration": 4,
    "start_time": "2022-05-01T16:04:29.671Z"
   },
   {
    "duration": 25,
    "start_time": "2022-05-01T16:04:42.135Z"
   },
   {
    "duration": 404,
    "start_time": "2022-05-01T16:04:57.958Z"
   },
   {
    "duration": 157,
    "start_time": "2022-05-01T16:04:58.365Z"
   },
   {
    "duration": 31,
    "start_time": "2022-05-01T16:04:58.523Z"
   },
   {
    "duration": 48,
    "start_time": "2022-05-01T16:04:58.558Z"
   },
   {
    "duration": 5,
    "start_time": "2022-05-01T16:04:58.608Z"
   },
   {
    "duration": 41,
    "start_time": "2022-05-01T16:04:58.615Z"
   },
   {
    "duration": 4,
    "start_time": "2022-05-01T16:04:58.658Z"
   },
   {
    "duration": 28,
    "start_time": "2022-05-01T16:04:58.664Z"
   },
   {
    "duration": 3071,
    "start_time": "2022-05-01T16:04:58.694Z"
   },
   {
    "duration": 0,
    "start_time": "2022-05-01T16:05:01.771Z"
   },
   {
    "duration": 0,
    "start_time": "2022-05-01T16:05:01.772Z"
   },
   {
    "duration": 0,
    "start_time": "2022-05-01T16:05:01.774Z"
   },
   {
    "duration": 0,
    "start_time": "2022-05-01T16:05:01.775Z"
   },
   {
    "duration": 0,
    "start_time": "2022-05-01T16:05:01.777Z"
   },
   {
    "duration": 0,
    "start_time": "2022-05-01T16:05:01.778Z"
   },
   {
    "duration": 0,
    "start_time": "2022-05-01T16:05:01.780Z"
   },
   {
    "duration": 0,
    "start_time": "2022-05-01T16:05:01.781Z"
   },
   {
    "duration": 0,
    "start_time": "2022-05-01T16:05:01.782Z"
   },
   {
    "duration": 0,
    "start_time": "2022-05-01T16:05:01.784Z"
   },
   {
    "duration": 0,
    "start_time": "2022-05-01T16:05:01.784Z"
   },
   {
    "duration": 0,
    "start_time": "2022-05-01T16:05:01.786Z"
   },
   {
    "duration": 0,
    "start_time": "2022-05-01T16:05:01.787Z"
   },
   {
    "duration": 0,
    "start_time": "2022-05-01T16:05:01.788Z"
   },
   {
    "duration": 0,
    "start_time": "2022-05-01T16:05:01.788Z"
   },
   {
    "duration": 0,
    "start_time": "2022-05-01T16:05:01.789Z"
   },
   {
    "duration": 0,
    "start_time": "2022-05-01T16:05:01.790Z"
   },
   {
    "duration": 0,
    "start_time": "2022-05-01T16:05:01.791Z"
   },
   {
    "duration": 0,
    "start_time": "2022-05-01T16:05:01.792Z"
   },
   {
    "duration": 0,
    "start_time": "2022-05-01T16:05:01.793Z"
   },
   {
    "duration": 0,
    "start_time": "2022-05-01T16:05:01.794Z"
   },
   {
    "duration": 1,
    "start_time": "2022-05-01T16:05:01.794Z"
   },
   {
    "duration": 0,
    "start_time": "2022-05-01T16:05:01.795Z"
   },
   {
    "duration": 0,
    "start_time": "2022-05-01T16:05:01.796Z"
   },
   {
    "duration": 0,
    "start_time": "2022-05-01T16:05:01.797Z"
   },
   {
    "duration": 0,
    "start_time": "2022-05-01T16:05:01.798Z"
   },
   {
    "duration": 0,
    "start_time": "2022-05-01T16:05:01.801Z"
   },
   {
    "duration": 0,
    "start_time": "2022-05-01T16:05:01.802Z"
   },
   {
    "duration": 0,
    "start_time": "2022-05-01T16:05:01.803Z"
   },
   {
    "duration": 6,
    "start_time": "2022-05-01T16:05:50.498Z"
   },
   {
    "duration": 30,
    "start_time": "2022-05-01T16:05:56.482Z"
   },
   {
    "duration": 5,
    "start_time": "2022-05-01T16:06:01.555Z"
   },
   {
    "duration": 543,
    "start_time": "2022-05-01T16:07:20.150Z"
   },
   {
    "duration": 165,
    "start_time": "2022-05-01T16:07:20.695Z"
   },
   {
    "duration": 18,
    "start_time": "2022-05-01T16:07:20.862Z"
   },
   {
    "duration": 34,
    "start_time": "2022-05-01T16:07:20.883Z"
   },
   {
    "duration": 31,
    "start_time": "2022-05-01T16:07:20.919Z"
   },
   {
    "duration": 26,
    "start_time": "2022-05-01T16:07:20.952Z"
   },
   {
    "duration": 8,
    "start_time": "2022-05-01T16:07:20.979Z"
   },
   {
    "duration": 36,
    "start_time": "2022-05-01T16:07:20.989Z"
   },
   {
    "duration": 2644,
    "start_time": "2022-05-01T16:07:21.027Z"
   },
   {
    "duration": 0,
    "start_time": "2022-05-01T16:07:23.678Z"
   },
   {
    "duration": 0,
    "start_time": "2022-05-01T16:07:23.680Z"
   },
   {
    "duration": 0,
    "start_time": "2022-05-01T16:07:23.681Z"
   },
   {
    "duration": 0,
    "start_time": "2022-05-01T16:07:23.683Z"
   },
   {
    "duration": 0,
    "start_time": "2022-05-01T16:07:23.685Z"
   },
   {
    "duration": 0,
    "start_time": "2022-05-01T16:07:23.686Z"
   },
   {
    "duration": 0,
    "start_time": "2022-05-01T16:07:23.687Z"
   },
   {
    "duration": 0,
    "start_time": "2022-05-01T16:07:23.689Z"
   },
   {
    "duration": 0,
    "start_time": "2022-05-01T16:07:23.691Z"
   },
   {
    "duration": 0,
    "start_time": "2022-05-01T16:07:23.692Z"
   },
   {
    "duration": 0,
    "start_time": "2022-05-01T16:07:23.694Z"
   },
   {
    "duration": 0,
    "start_time": "2022-05-01T16:07:23.695Z"
   },
   {
    "duration": 0,
    "start_time": "2022-05-01T16:07:23.697Z"
   },
   {
    "duration": 0,
    "start_time": "2022-05-01T16:07:23.699Z"
   },
   {
    "duration": 0,
    "start_time": "2022-05-01T16:07:23.700Z"
   },
   {
    "duration": 0,
    "start_time": "2022-05-01T16:07:23.702Z"
   },
   {
    "duration": 0,
    "start_time": "2022-05-01T16:07:23.703Z"
   },
   {
    "duration": 0,
    "start_time": "2022-05-01T16:07:23.705Z"
   },
   {
    "duration": 0,
    "start_time": "2022-05-01T16:07:23.706Z"
   },
   {
    "duration": 0,
    "start_time": "2022-05-01T16:07:23.708Z"
   },
   {
    "duration": 0,
    "start_time": "2022-05-01T16:07:23.709Z"
   },
   {
    "duration": 0,
    "start_time": "2022-05-01T16:07:23.711Z"
   },
   {
    "duration": 0,
    "start_time": "2022-05-01T16:07:23.713Z"
   },
   {
    "duration": 0,
    "start_time": "2022-05-01T16:07:23.714Z"
   },
   {
    "duration": 0,
    "start_time": "2022-05-01T16:07:23.756Z"
   },
   {
    "duration": 0,
    "start_time": "2022-05-01T16:07:23.757Z"
   },
   {
    "duration": 0,
    "start_time": "2022-05-01T16:07:23.759Z"
   },
   {
    "duration": 0,
    "start_time": "2022-05-01T16:07:23.760Z"
   },
   {
    "duration": 0,
    "start_time": "2022-05-01T16:07:23.761Z"
   },
   {
    "duration": 50,
    "start_time": "2022-05-01T16:07:44.402Z"
   },
   {
    "duration": 121,
    "start_time": "2022-05-01T16:07:48.637Z"
   },
   {
    "duration": 80,
    "start_time": "2022-05-01T16:07:58.317Z"
   },
   {
    "duration": 66,
    "start_time": "2022-05-01T16:08:10.801Z"
   },
   {
    "duration": 53,
    "start_time": "2022-05-01T16:12:37.972Z"
   },
   {
    "duration": 3,
    "start_time": "2022-05-01T16:17:11.924Z"
   },
   {
    "duration": 525,
    "start_time": "2022-05-01T16:17:24.730Z"
   },
   {
    "duration": 257,
    "start_time": "2022-05-01T16:17:25.257Z"
   },
   {
    "duration": 20,
    "start_time": "2022-05-01T16:17:25.516Z"
   },
   {
    "duration": 44,
    "start_time": "2022-05-01T16:17:25.539Z"
   },
   {
    "duration": 5,
    "start_time": "2022-05-01T16:17:25.585Z"
   },
   {
    "duration": 30,
    "start_time": "2022-05-01T16:17:25.592Z"
   },
   {
    "duration": 32,
    "start_time": "2022-05-01T16:17:25.624Z"
   },
   {
    "duration": 46,
    "start_time": "2022-05-01T16:17:25.658Z"
   },
   {
    "duration": 2311,
    "start_time": "2022-05-01T16:17:25.706Z"
   },
   {
    "duration": 0,
    "start_time": "2022-05-01T16:17:28.023Z"
   },
   {
    "duration": 0,
    "start_time": "2022-05-01T16:17:28.024Z"
   },
   {
    "duration": 0,
    "start_time": "2022-05-01T16:17:28.026Z"
   },
   {
    "duration": 0,
    "start_time": "2022-05-01T16:17:28.027Z"
   },
   {
    "duration": 0,
    "start_time": "2022-05-01T16:17:28.029Z"
   },
   {
    "duration": 0,
    "start_time": "2022-05-01T16:17:28.030Z"
   },
   {
    "duration": 0,
    "start_time": "2022-05-01T16:17:28.031Z"
   },
   {
    "duration": 0,
    "start_time": "2022-05-01T16:17:28.033Z"
   },
   {
    "duration": 0,
    "start_time": "2022-05-01T16:17:28.034Z"
   },
   {
    "duration": 0,
    "start_time": "2022-05-01T16:17:28.035Z"
   },
   {
    "duration": 0,
    "start_time": "2022-05-01T16:17:28.037Z"
   },
   {
    "duration": 0,
    "start_time": "2022-05-01T16:17:28.038Z"
   },
   {
    "duration": 0,
    "start_time": "2022-05-01T16:17:28.039Z"
   },
   {
    "duration": 0,
    "start_time": "2022-05-01T16:17:28.041Z"
   },
   {
    "duration": 0,
    "start_time": "2022-05-01T16:17:28.042Z"
   },
   {
    "duration": 0,
    "start_time": "2022-05-01T16:17:28.044Z"
   },
   {
    "duration": 0,
    "start_time": "2022-05-01T16:17:28.045Z"
   },
   {
    "duration": 0,
    "start_time": "2022-05-01T16:17:28.047Z"
   },
   {
    "duration": 0,
    "start_time": "2022-05-01T16:17:28.048Z"
   },
   {
    "duration": 0,
    "start_time": "2022-05-01T16:17:28.049Z"
   },
   {
    "duration": 0,
    "start_time": "2022-05-01T16:17:28.050Z"
   },
   {
    "duration": 0,
    "start_time": "2022-05-01T16:17:28.051Z"
   },
   {
    "duration": 0,
    "start_time": "2022-05-01T16:17:28.053Z"
   },
   {
    "duration": 0,
    "start_time": "2022-05-01T16:17:28.054Z"
   },
   {
    "duration": 0,
    "start_time": "2022-05-01T16:17:28.055Z"
   },
   {
    "duration": 0,
    "start_time": "2022-05-01T16:17:28.057Z"
   },
   {
    "duration": 0,
    "start_time": "2022-05-01T16:17:28.058Z"
   },
   {
    "duration": 0,
    "start_time": "2022-05-01T16:17:28.059Z"
   },
   {
    "duration": 0,
    "start_time": "2022-05-01T16:17:28.061Z"
   },
   {
    "duration": 499,
    "start_time": "2022-05-01T16:19:55.786Z"
   },
   {
    "duration": 254,
    "start_time": "2022-05-01T16:20:00.171Z"
   },
   {
    "duration": 30,
    "start_time": "2022-05-01T16:20:03.158Z"
   },
   {
    "duration": 58,
    "start_time": "2022-05-01T16:20:06.494Z"
   },
   {
    "duration": 6,
    "start_time": "2022-05-01T16:20:37.570Z"
   },
   {
    "duration": 23,
    "start_time": "2022-05-01T16:21:23.730Z"
   },
   {
    "duration": 5,
    "start_time": "2022-05-01T16:21:29.358Z"
   },
   {
    "duration": 27,
    "start_time": "2022-05-01T16:21:42.726Z"
   },
   {
    "duration": 3012,
    "start_time": "2022-05-01T16:21:46.117Z"
   },
   {
    "duration": 2276,
    "start_time": "2022-05-01T16:21:49.782Z"
   },
   {
    "duration": 407,
    "start_time": "2022-05-01T16:22:19.058Z"
   },
   {
    "duration": 160,
    "start_time": "2022-05-01T16:22:19.467Z"
   },
   {
    "duration": 27,
    "start_time": "2022-05-01T16:22:19.629Z"
   },
   {
    "duration": 31,
    "start_time": "2022-05-01T16:22:19.658Z"
   },
   {
    "duration": 4,
    "start_time": "2022-05-01T16:22:19.691Z"
   },
   {
    "duration": 24,
    "start_time": "2022-05-01T16:22:19.697Z"
   },
   {
    "duration": 7,
    "start_time": "2022-05-01T16:22:19.722Z"
   },
   {
    "duration": 29,
    "start_time": "2022-05-01T16:22:19.755Z"
   },
   {
    "duration": 2615,
    "start_time": "2022-05-01T16:22:19.786Z"
   },
   {
    "duration": 0,
    "start_time": "2022-05-01T16:22:22.405Z"
   },
   {
    "duration": 0,
    "start_time": "2022-05-01T16:22:22.406Z"
   },
   {
    "duration": 0,
    "start_time": "2022-05-01T16:22:22.408Z"
   },
   {
    "duration": 0,
    "start_time": "2022-05-01T16:22:22.409Z"
   },
   {
    "duration": 0,
    "start_time": "2022-05-01T16:22:22.410Z"
   },
   {
    "duration": 0,
    "start_time": "2022-05-01T16:22:22.411Z"
   },
   {
    "duration": 0,
    "start_time": "2022-05-01T16:22:22.412Z"
   },
   {
    "duration": 0,
    "start_time": "2022-05-01T16:22:22.413Z"
   },
   {
    "duration": 0,
    "start_time": "2022-05-01T16:22:22.414Z"
   },
   {
    "duration": 0,
    "start_time": "2022-05-01T16:22:22.415Z"
   },
   {
    "duration": 0,
    "start_time": "2022-05-01T16:22:22.416Z"
   },
   {
    "duration": 0,
    "start_time": "2022-05-01T16:22:22.417Z"
   },
   {
    "duration": 0,
    "start_time": "2022-05-01T16:22:22.418Z"
   },
   {
    "duration": 0,
    "start_time": "2022-05-01T16:22:22.419Z"
   },
   {
    "duration": 0,
    "start_time": "2022-05-01T16:22:22.421Z"
   },
   {
    "duration": 0,
    "start_time": "2022-05-01T16:22:22.421Z"
   },
   {
    "duration": 0,
    "start_time": "2022-05-01T16:22:22.422Z"
   },
   {
    "duration": 0,
    "start_time": "2022-05-01T16:22:22.423Z"
   },
   {
    "duration": 0,
    "start_time": "2022-05-01T16:22:22.425Z"
   },
   {
    "duration": 0,
    "start_time": "2022-05-01T16:22:22.426Z"
   },
   {
    "duration": 0,
    "start_time": "2022-05-01T16:22:22.427Z"
   },
   {
    "duration": 0,
    "start_time": "2022-05-01T16:22:22.427Z"
   },
   {
    "duration": 0,
    "start_time": "2022-05-01T16:22:22.429Z"
   },
   {
    "duration": 0,
    "start_time": "2022-05-01T16:22:22.430Z"
   },
   {
    "duration": 0,
    "start_time": "2022-05-01T16:22:22.431Z"
   },
   {
    "duration": 0,
    "start_time": "2022-05-01T16:22:22.432Z"
   },
   {
    "duration": 0,
    "start_time": "2022-05-01T16:22:22.433Z"
   },
   {
    "duration": 0,
    "start_time": "2022-05-01T16:22:22.434Z"
   },
   {
    "duration": 0,
    "start_time": "2022-05-01T16:22:22.435Z"
   },
   {
    "duration": 22,
    "start_time": "2022-05-01T16:24:40.282Z"
   },
   {
    "duration": 5,
    "start_time": "2022-05-01T16:24:44.325Z"
   },
   {
    "duration": 183,
    "start_time": "2022-05-01T16:27:23.104Z"
   },
   {
    "duration": 162,
    "start_time": "2022-05-01T16:27:34.401Z"
   },
   {
    "duration": 21,
    "start_time": "2022-05-01T16:27:43.340Z"
   },
   {
    "duration": 25,
    "start_time": "2022-05-01T16:28:37.894Z"
   },
   {
    "duration": 161,
    "start_time": "2022-05-01T16:28:46.100Z"
   },
   {
    "duration": 29,
    "start_time": "2022-05-01T16:28:52.380Z"
   },
   {
    "duration": 4,
    "start_time": "2022-05-01T16:28:58.272Z"
   },
   {
    "duration": 206,
    "start_time": "2022-05-01T16:29:06.748Z"
   },
   {
    "duration": 16,
    "start_time": "2022-05-01T16:29:10.186Z"
   },
   {
    "duration": 49,
    "start_time": "2022-05-01T16:29:14.552Z"
   },
   {
    "duration": 5,
    "start_time": "2022-05-01T16:29:19.345Z"
   },
   {
    "duration": 26,
    "start_time": "2022-05-01T16:29:37.957Z"
   },
   {
    "duration": 5,
    "start_time": "2022-05-01T16:30:21.896Z"
   },
   {
    "duration": 19,
    "start_time": "2022-05-01T16:30:38.476Z"
   },
   {
    "duration": 4,
    "start_time": "2022-05-01T16:30:41.725Z"
   },
   {
    "duration": 528,
    "start_time": "2022-05-01T16:30:53.048Z"
   },
   {
    "duration": 226,
    "start_time": "2022-05-01T16:30:53.579Z"
   },
   {
    "duration": 17,
    "start_time": "2022-05-01T16:30:53.808Z"
   },
   {
    "duration": 44,
    "start_time": "2022-05-01T16:30:53.828Z"
   },
   {
    "duration": 4,
    "start_time": "2022-05-01T16:30:53.874Z"
   },
   {
    "duration": 22,
    "start_time": "2022-05-01T16:30:53.880Z"
   },
   {
    "duration": 9,
    "start_time": "2022-05-01T16:30:53.904Z"
   },
   {
    "duration": 57,
    "start_time": "2022-05-01T16:30:53.915Z"
   },
   {
    "duration": 2878,
    "start_time": "2022-05-01T16:30:53.974Z"
   },
   {
    "duration": 0,
    "start_time": "2022-05-01T16:30:56.857Z"
   },
   {
    "duration": 0,
    "start_time": "2022-05-01T16:30:56.858Z"
   },
   {
    "duration": 0,
    "start_time": "2022-05-01T16:30:56.859Z"
   },
   {
    "duration": 0,
    "start_time": "2022-05-01T16:30:56.860Z"
   },
   {
    "duration": 0,
    "start_time": "2022-05-01T16:30:56.861Z"
   },
   {
    "duration": 0,
    "start_time": "2022-05-01T16:30:56.862Z"
   },
   {
    "duration": 0,
    "start_time": "2022-05-01T16:30:56.863Z"
   },
   {
    "duration": 0,
    "start_time": "2022-05-01T16:30:56.864Z"
   },
   {
    "duration": 0,
    "start_time": "2022-05-01T16:30:56.865Z"
   },
   {
    "duration": 0,
    "start_time": "2022-05-01T16:30:56.866Z"
   },
   {
    "duration": 0,
    "start_time": "2022-05-01T16:30:56.868Z"
   },
   {
    "duration": 0,
    "start_time": "2022-05-01T16:30:56.869Z"
   },
   {
    "duration": 0,
    "start_time": "2022-05-01T16:30:56.869Z"
   },
   {
    "duration": 0,
    "start_time": "2022-05-01T16:30:56.870Z"
   },
   {
    "duration": 0,
    "start_time": "2022-05-01T16:30:56.871Z"
   },
   {
    "duration": 0,
    "start_time": "2022-05-01T16:30:56.872Z"
   },
   {
    "duration": 0,
    "start_time": "2022-05-01T16:30:56.873Z"
   },
   {
    "duration": 0,
    "start_time": "2022-05-01T16:30:56.874Z"
   },
   {
    "duration": 0,
    "start_time": "2022-05-01T16:30:56.875Z"
   },
   {
    "duration": 0,
    "start_time": "2022-05-01T16:30:56.877Z"
   },
   {
    "duration": 0,
    "start_time": "2022-05-01T16:30:56.878Z"
   },
   {
    "duration": 0,
    "start_time": "2022-05-01T16:30:56.879Z"
   },
   {
    "duration": 0,
    "start_time": "2022-05-01T16:30:56.880Z"
   },
   {
    "duration": 0,
    "start_time": "2022-05-01T16:30:56.881Z"
   },
   {
    "duration": 0,
    "start_time": "2022-05-01T16:30:56.882Z"
   },
   {
    "duration": 0,
    "start_time": "2022-05-01T16:30:56.883Z"
   },
   {
    "duration": 0,
    "start_time": "2022-05-01T16:30:56.884Z"
   },
   {
    "duration": 0,
    "start_time": "2022-05-01T16:30:56.885Z"
   },
   {
    "duration": 0,
    "start_time": "2022-05-01T16:30:56.886Z"
   },
   {
    "duration": 5,
    "start_time": "2022-05-01T16:31:13.887Z"
   },
   {
    "duration": 21,
    "start_time": "2022-05-01T16:31:16.707Z"
   },
   {
    "duration": 5,
    "start_time": "2022-05-01T16:31:20.691Z"
   },
   {
    "duration": 26,
    "start_time": "2022-05-01T16:34:42.051Z"
   },
   {
    "duration": 4,
    "start_time": "2022-05-01T16:34:46.331Z"
   },
   {
    "duration": 3,
    "start_time": "2022-05-01T16:35:29.971Z"
   },
   {
    "duration": 163,
    "start_time": "2022-05-01T16:35:33.055Z"
   },
   {
    "duration": 11,
    "start_time": "2022-05-01T16:35:36.623Z"
   },
   {
    "duration": 51,
    "start_time": "2022-05-01T16:35:40.128Z"
   },
   {
    "duration": 4,
    "start_time": "2022-05-01T16:35:44.279Z"
   },
   {
    "duration": 29,
    "start_time": "2022-05-01T16:35:48.139Z"
   },
   {
    "duration": 4,
    "start_time": "2022-05-01T16:35:51.955Z"
   },
   {
    "duration": 172,
    "start_time": "2022-05-01T16:36:09.122Z"
   },
   {
    "duration": 426,
    "start_time": "2022-05-01T16:37:54.016Z"
   },
   {
    "duration": 157,
    "start_time": "2022-05-01T16:37:54.443Z"
   },
   {
    "duration": 17,
    "start_time": "2022-05-01T16:37:54.602Z"
   },
   {
    "duration": 41,
    "start_time": "2022-05-01T16:37:54.621Z"
   },
   {
    "duration": 5,
    "start_time": "2022-05-01T16:37:54.664Z"
   },
   {
    "duration": 22,
    "start_time": "2022-05-01T16:37:54.671Z"
   },
   {
    "duration": 4,
    "start_time": "2022-05-01T16:37:54.695Z"
   },
   {
    "duration": 56,
    "start_time": "2022-05-01T16:37:54.700Z"
   },
   {
    "duration": 2387,
    "start_time": "2022-05-01T16:37:54.758Z"
   },
   {
    "duration": 0,
    "start_time": "2022-05-01T16:37:57.151Z"
   },
   {
    "duration": 0,
    "start_time": "2022-05-01T16:37:57.152Z"
   },
   {
    "duration": 0,
    "start_time": "2022-05-01T16:37:57.153Z"
   },
   {
    "duration": 0,
    "start_time": "2022-05-01T16:37:57.154Z"
   },
   {
    "duration": 0,
    "start_time": "2022-05-01T16:37:57.155Z"
   },
   {
    "duration": 0,
    "start_time": "2022-05-01T16:37:57.156Z"
   },
   {
    "duration": 0,
    "start_time": "2022-05-01T16:37:57.157Z"
   },
   {
    "duration": 0,
    "start_time": "2022-05-01T16:37:57.159Z"
   },
   {
    "duration": 0,
    "start_time": "2022-05-01T16:37:57.160Z"
   },
   {
    "duration": 0,
    "start_time": "2022-05-01T16:37:57.162Z"
   },
   {
    "duration": 0,
    "start_time": "2022-05-01T16:37:57.163Z"
   },
   {
    "duration": 0,
    "start_time": "2022-05-01T16:37:57.164Z"
   },
   {
    "duration": 0,
    "start_time": "2022-05-01T16:37:57.165Z"
   },
   {
    "duration": 0,
    "start_time": "2022-05-01T16:37:57.167Z"
   },
   {
    "duration": 0,
    "start_time": "2022-05-01T16:37:57.168Z"
   },
   {
    "duration": 0,
    "start_time": "2022-05-01T16:37:57.169Z"
   },
   {
    "duration": 0,
    "start_time": "2022-05-01T16:37:57.171Z"
   },
   {
    "duration": 0,
    "start_time": "2022-05-01T16:37:57.172Z"
   },
   {
    "duration": 0,
    "start_time": "2022-05-01T16:37:57.173Z"
   },
   {
    "duration": 0,
    "start_time": "2022-05-01T16:37:57.174Z"
   },
   {
    "duration": 0,
    "start_time": "2022-05-01T16:37:57.175Z"
   },
   {
    "duration": 0,
    "start_time": "2022-05-01T16:37:57.177Z"
   },
   {
    "duration": 0,
    "start_time": "2022-05-01T16:37:57.178Z"
   },
   {
    "duration": 0,
    "start_time": "2022-05-01T16:37:57.179Z"
   },
   {
    "duration": 0,
    "start_time": "2022-05-01T16:37:57.180Z"
   },
   {
    "duration": 0,
    "start_time": "2022-05-01T16:37:57.182Z"
   },
   {
    "duration": 0,
    "start_time": "2022-05-01T16:37:57.183Z"
   },
   {
    "duration": 0,
    "start_time": "2022-05-01T16:37:57.184Z"
   },
   {
    "duration": 0,
    "start_time": "2022-05-01T16:37:57.185Z"
   },
   {
    "duration": 480,
    "start_time": "2022-05-01T16:45:37.022Z"
   },
   {
    "duration": 193,
    "start_time": "2022-05-01T16:45:39.742Z"
   },
   {
    "duration": 16,
    "start_time": "2022-05-01T16:45:44.717Z"
   },
   {
    "duration": 29,
    "start_time": "2022-05-01T16:45:52.297Z"
   },
   {
    "duration": 4,
    "start_time": "2022-05-01T16:45:57.726Z"
   },
   {
    "duration": 23,
    "start_time": "2022-05-01T16:46:01.489Z"
   },
   {
    "duration": 4,
    "start_time": "2022-05-01T16:46:38.778Z"
   },
   {
    "duration": 4,
    "start_time": "2022-05-01T16:48:26.753Z"
   },
   {
    "duration": 4,
    "start_time": "2022-05-01T17:05:19.483Z"
   },
   {
    "duration": 399,
    "start_time": "2022-05-01T17:05:27.667Z"
   },
   {
    "duration": 150,
    "start_time": "2022-05-01T17:05:28.068Z"
   },
   {
    "duration": 17,
    "start_time": "2022-05-01T17:05:28.219Z"
   },
   {
    "duration": 47,
    "start_time": "2022-05-01T17:05:28.238Z"
   },
   {
    "duration": 16,
    "start_time": "2022-05-01T17:05:28.287Z"
   },
   {
    "duration": 37,
    "start_time": "2022-05-01T17:05:28.304Z"
   },
   {
    "duration": 36,
    "start_time": "2022-05-01T17:05:28.343Z"
   },
   {
    "duration": 73,
    "start_time": "2022-05-01T17:05:28.381Z"
   },
   {
    "duration": 2924,
    "start_time": "2022-05-01T17:05:28.455Z"
   },
   {
    "duration": 0,
    "start_time": "2022-05-01T17:05:31.384Z"
   },
   {
    "duration": 0,
    "start_time": "2022-05-01T17:05:31.385Z"
   },
   {
    "duration": 0,
    "start_time": "2022-05-01T17:05:31.386Z"
   },
   {
    "duration": 0,
    "start_time": "2022-05-01T17:05:31.387Z"
   },
   {
    "duration": 0,
    "start_time": "2022-05-01T17:05:31.388Z"
   },
   {
    "duration": 0,
    "start_time": "2022-05-01T17:05:31.389Z"
   },
   {
    "duration": 0,
    "start_time": "2022-05-01T17:05:31.390Z"
   },
   {
    "duration": 0,
    "start_time": "2022-05-01T17:05:31.391Z"
   },
   {
    "duration": 0,
    "start_time": "2022-05-01T17:05:31.393Z"
   },
   {
    "duration": 0,
    "start_time": "2022-05-01T17:05:31.394Z"
   },
   {
    "duration": 0,
    "start_time": "2022-05-01T17:05:31.395Z"
   },
   {
    "duration": 0,
    "start_time": "2022-05-01T17:05:31.397Z"
   },
   {
    "duration": 0,
    "start_time": "2022-05-01T17:05:31.399Z"
   },
   {
    "duration": 0,
    "start_time": "2022-05-01T17:05:31.400Z"
   },
   {
    "duration": 1,
    "start_time": "2022-05-01T17:05:31.401Z"
   },
   {
    "duration": 0,
    "start_time": "2022-05-01T17:05:31.403Z"
   },
   {
    "duration": 0,
    "start_time": "2022-05-01T17:05:31.405Z"
   },
   {
    "duration": 0,
    "start_time": "2022-05-01T17:05:31.406Z"
   },
   {
    "duration": 0,
    "start_time": "2022-05-01T17:05:31.407Z"
   },
   {
    "duration": 0,
    "start_time": "2022-05-01T17:05:31.409Z"
   },
   {
    "duration": 0,
    "start_time": "2022-05-01T17:05:31.410Z"
   },
   {
    "duration": 0,
    "start_time": "2022-05-01T17:05:31.412Z"
   },
   {
    "duration": 0,
    "start_time": "2022-05-01T17:05:31.413Z"
   },
   {
    "duration": 0,
    "start_time": "2022-05-01T17:05:31.415Z"
   },
   {
    "duration": 0,
    "start_time": "2022-05-01T17:05:31.416Z"
   },
   {
    "duration": 0,
    "start_time": "2022-05-01T17:05:31.417Z"
   },
   {
    "duration": 0,
    "start_time": "2022-05-01T17:05:31.418Z"
   },
   {
    "duration": 0,
    "start_time": "2022-05-01T17:05:31.454Z"
   },
   {
    "duration": 0,
    "start_time": "2022-05-01T17:05:31.455Z"
   },
   {
    "duration": 4,
    "start_time": "2022-05-01T17:05:42.093Z"
   },
   {
    "duration": 157,
    "start_time": "2022-05-01T17:05:46.876Z"
   },
   {
    "duration": 15,
    "start_time": "2022-05-01T17:05:50.078Z"
   },
   {
    "duration": 37,
    "start_time": "2022-05-01T17:05:59.629Z"
   },
   {
    "duration": 4,
    "start_time": "2022-05-01T17:06:09.615Z"
   },
   {
    "duration": 19,
    "start_time": "2022-05-01T17:06:13.024Z"
   },
   {
    "duration": 22,
    "start_time": "2022-05-01T17:06:32.131Z"
   },
   {
    "duration": 5,
    "start_time": "2022-05-01T17:06:35.332Z"
   },
   {
    "duration": 47,
    "start_time": "2022-05-01T17:06:42.675Z"
   },
   {
    "duration": 29,
    "start_time": "2022-05-01T17:06:51.301Z"
   },
   {
    "duration": 397,
    "start_time": "2022-05-01T17:09:58.816Z"
   },
   {
    "duration": 163,
    "start_time": "2022-05-01T17:10:01.473Z"
   },
   {
    "duration": 20,
    "start_time": "2022-05-01T17:10:03.053Z"
   },
   {
    "duration": 54,
    "start_time": "2022-05-01T17:10:05.405Z"
   },
   {
    "duration": 4,
    "start_time": "2022-05-01T17:10:28.608Z"
   },
   {
    "duration": 34,
    "start_time": "2022-05-01T17:10:31.460Z"
   },
   {
    "duration": 4,
    "start_time": "2022-05-01T17:10:34.268Z"
   },
   {
    "duration": 32,
    "start_time": "2022-05-01T17:11:05.541Z"
   },
   {
    "duration": 27,
    "start_time": "2022-05-01T17:11:08.085Z"
   },
   {
    "duration": 26,
    "start_time": "2022-05-01T17:11:10.311Z"
   },
   {
    "duration": 97,
    "start_time": "2022-05-01T17:32:55.929Z"
   },
   {
    "duration": 76,
    "start_time": "2022-05-01T17:32:58.362Z"
   },
   {
    "duration": 65,
    "start_time": "2022-05-01T17:33:23.325Z"
   },
   {
    "duration": 50,
    "start_time": "2022-05-01T17:33:27.133Z"
   },
   {
    "duration": 3,
    "start_time": "2022-05-01T17:36:51.006Z"
   },
   {
    "duration": 13,
    "start_time": "2022-05-01T17:53:50.839Z"
   },
   {
    "duration": 30,
    "start_time": "2022-05-01T17:54:40.669Z"
   },
   {
    "duration": 400,
    "start_time": "2022-05-01T19:46:00.369Z"
   },
   {
    "duration": 148,
    "start_time": "2022-05-01T19:46:03.088Z"
   },
   {
    "duration": 23,
    "start_time": "2022-05-01T19:46:16.446Z"
   },
   {
    "duration": 53,
    "start_time": "2022-05-01T19:46:22.781Z"
   },
   {
    "duration": 5,
    "start_time": "2022-05-01T19:46:40.924Z"
   },
   {
    "duration": 10,
    "start_time": "2022-05-01T19:46:52.776Z"
   },
   {
    "duration": 4,
    "start_time": "2022-05-01T19:46:59.235Z"
   },
   {
    "duration": 42,
    "start_time": "2022-05-01T19:47:04.804Z"
   },
   {
    "duration": 28,
    "start_time": "2022-05-01T19:47:21.416Z"
   },
   {
    "duration": 35,
    "start_time": "2022-05-01T19:54:44.651Z"
   },
   {
    "duration": 73,
    "start_time": "2022-05-01T19:54:53.939Z"
   },
   {
    "duration": 184,
    "start_time": "2022-05-01T19:55:20.017Z"
   },
   {
    "duration": 73,
    "start_time": "2022-05-01T19:55:25.425Z"
   },
   {
    "duration": 58,
    "start_time": "2022-05-01T20:00:30.207Z"
   },
   {
    "duration": 3,
    "start_time": "2022-05-01T20:01:46.211Z"
   },
   {
    "duration": 11,
    "start_time": "2022-05-01T20:01:59.906Z"
   },
   {
    "duration": 20,
    "start_time": "2022-05-01T20:02:08.187Z"
   },
   {
    "duration": 19,
    "start_time": "2022-05-01T20:07:15.953Z"
   },
   {
    "duration": 51,
    "start_time": "2022-05-01T20:07:30.301Z"
   },
   {
    "duration": 4,
    "start_time": "2022-05-01T20:08:39.078Z"
   },
   {
    "duration": 18,
    "start_time": "2022-05-01T20:09:00.616Z"
   },
   {
    "duration": 21,
    "start_time": "2022-05-01T20:09:29.308Z"
   },
   {
    "duration": 17,
    "start_time": "2022-05-01T20:10:41.293Z"
   },
   {
    "duration": 25,
    "start_time": "2022-05-01T20:10:49.183Z"
   },
   {
    "duration": 19,
    "start_time": "2022-05-01T20:13:32.602Z"
   },
   {
    "duration": 15,
    "start_time": "2022-05-01T20:13:35.597Z"
   },
   {
    "duration": 11,
    "start_time": "2022-05-01T20:14:14.025Z"
   },
   {
    "duration": 35,
    "start_time": "2022-05-01T20:14:48.300Z"
   },
   {
    "duration": 22,
    "start_time": "2022-05-01T20:14:52.613Z"
   },
   {
    "duration": 4,
    "start_time": "2022-05-01T20:18:45.011Z"
   },
   {
    "duration": 19,
    "start_time": "2022-05-01T20:19:13.830Z"
   },
   {
    "duration": 18,
    "start_time": "2022-05-01T20:19:51.450Z"
   },
   {
    "duration": 422,
    "start_time": "2022-05-01T20:20:56.541Z"
   },
   {
    "duration": 201,
    "start_time": "2022-05-01T20:20:56.967Z"
   },
   {
    "duration": 24,
    "start_time": "2022-05-01T20:20:57.172Z"
   },
   {
    "duration": 59,
    "start_time": "2022-05-01T20:20:57.199Z"
   },
   {
    "duration": 9,
    "start_time": "2022-05-01T20:20:57.262Z"
   },
   {
    "duration": 23,
    "start_time": "2022-05-01T20:20:57.273Z"
   },
   {
    "duration": 7,
    "start_time": "2022-05-01T20:20:57.298Z"
   },
   {
    "duration": 28,
    "start_time": "2022-05-01T20:20:57.306Z"
   },
   {
    "duration": 52,
    "start_time": "2022-05-01T20:20:57.335Z"
   },
   {
    "duration": 27,
    "start_time": "2022-05-01T20:20:57.389Z"
   },
   {
    "duration": 93,
    "start_time": "2022-05-01T20:20:57.418Z"
   },
   {
    "duration": 145,
    "start_time": "2022-05-01T20:20:57.513Z"
   },
   {
    "duration": 111,
    "start_time": "2022-05-01T20:20:57.660Z"
   },
   {
    "duration": 55,
    "start_time": "2022-05-01T20:20:57.773Z"
   },
   {
    "duration": 3,
    "start_time": "2022-05-01T20:20:57.830Z"
   },
   {
    "duration": 26,
    "start_time": "2022-05-01T20:20:57.835Z"
   },
   {
    "duration": 32,
    "start_time": "2022-05-01T20:20:57.863Z"
   },
   {
    "duration": 21,
    "start_time": "2022-05-01T20:20:57.897Z"
   },
   {
    "duration": 120,
    "start_time": "2022-05-01T20:20:57.925Z"
   },
   {
    "duration": 14,
    "start_time": "2022-05-01T20:20:58.059Z"
   },
   {
    "duration": 46,
    "start_time": "2022-05-01T20:20:58.075Z"
   },
   {
    "duration": 23,
    "start_time": "2022-05-01T20:20:58.124Z"
   },
   {
    "duration": 34,
    "start_time": "2022-05-01T20:20:58.149Z"
   },
   {
    "duration": 24,
    "start_time": "2022-05-01T20:20:58.185Z"
   },
   {
    "duration": 45,
    "start_time": "2022-05-01T20:20:58.211Z"
   },
   {
    "duration": 21,
    "start_time": "2022-05-01T20:20:58.258Z"
   },
   {
    "duration": 13,
    "start_time": "2022-05-01T20:20:58.281Z"
   },
   {
    "duration": 26,
    "start_time": "2022-05-01T20:20:58.298Z"
   },
   {
    "duration": 47,
    "start_time": "2022-05-01T20:20:58.326Z"
   },
   {
    "duration": 8,
    "start_time": "2022-05-01T20:20:58.376Z"
   },
   {
    "duration": 32,
    "start_time": "2022-05-01T20:20:58.386Z"
   },
   {
    "duration": 15,
    "start_time": "2022-05-01T20:20:58.420Z"
   },
   {
    "duration": 448,
    "start_time": "2022-05-01T20:20:58.461Z"
   },
   {
    "duration": 350,
    "start_time": "2022-05-01T20:20:58.910Z"
   },
   {
    "duration": 330,
    "start_time": "2022-05-01T20:20:59.262Z"
   },
   {
    "duration": 332,
    "start_time": "2022-05-01T20:20:59.593Z"
   },
   {
    "duration": 446,
    "start_time": "2022-05-01T20:20:59.927Z"
   },
   {
    "duration": 364,
    "start_time": "2022-05-01T20:21:00.375Z"
   },
   {
    "duration": 16,
    "start_time": "2022-05-01T20:24:52.873Z"
   },
   {
    "duration": 6,
    "start_time": "2022-05-01T20:24:59.604Z"
   },
   {
    "duration": 21,
    "start_time": "2022-05-01T20:25:35.224Z"
   },
   {
    "duration": 14,
    "start_time": "2022-05-01T20:25:37.642Z"
   },
   {
    "duration": 17,
    "start_time": "2022-05-01T20:25:45.417Z"
   },
   {
    "duration": 4,
    "start_time": "2022-05-01T20:25:48.938Z"
   },
   {
    "duration": 13,
    "start_time": "2022-05-01T20:25:52.043Z"
   },
   {
    "duration": 5,
    "start_time": "2022-05-01T20:27:31.127Z"
   },
   {
    "duration": 7,
    "start_time": "2022-05-01T20:27:44.827Z"
   },
   {
    "duration": 5,
    "start_time": "2022-05-01T20:27:56.314Z"
   },
   {
    "duration": 19,
    "start_time": "2022-05-01T20:29:32.773Z"
   },
   {
    "duration": 222,
    "start_time": "2022-05-01T20:29:32.794Z"
   },
   {
    "duration": 16,
    "start_time": "2022-05-01T20:29:33.018Z"
   },
   {
    "duration": 64,
    "start_time": "2022-05-01T20:29:33.036Z"
   },
   {
    "duration": 6,
    "start_time": "2022-05-01T20:29:33.102Z"
   },
   {
    "duration": 14,
    "start_time": "2022-05-01T20:29:33.110Z"
   },
   {
    "duration": 14,
    "start_time": "2022-05-01T20:29:33.126Z"
   },
   {
    "duration": 58,
    "start_time": "2022-05-01T20:29:33.141Z"
   },
   {
    "duration": 62,
    "start_time": "2022-05-01T20:29:33.201Z"
   },
   {
    "duration": 47,
    "start_time": "2022-05-01T20:29:33.267Z"
   },
   {
    "duration": 87,
    "start_time": "2022-05-01T20:29:33.316Z"
   },
   {
    "duration": 127,
    "start_time": "2022-05-01T20:29:33.405Z"
   },
   {
    "duration": 72,
    "start_time": "2022-05-01T20:29:33.534Z"
   },
   {
    "duration": 73,
    "start_time": "2022-05-01T20:29:33.608Z"
   },
   {
    "duration": 3,
    "start_time": "2022-05-01T20:29:33.685Z"
   },
   {
    "duration": 15,
    "start_time": "2022-05-01T20:29:33.690Z"
   },
   {
    "duration": 20,
    "start_time": "2022-05-01T20:29:33.706Z"
   },
   {
    "duration": 42,
    "start_time": "2022-05-01T20:29:33.728Z"
   },
   {
    "duration": 54,
    "start_time": "2022-05-01T20:29:33.772Z"
   },
   {
    "duration": 4,
    "start_time": "2022-05-01T20:29:33.830Z"
   },
   {
    "duration": 28,
    "start_time": "2022-05-01T20:29:33.855Z"
   },
   {
    "duration": 17,
    "start_time": "2022-05-01T20:29:33.888Z"
   },
   {
    "duration": 16,
    "start_time": "2022-05-01T20:29:33.907Z"
   },
   {
    "duration": 39,
    "start_time": "2022-05-01T20:29:33.925Z"
   },
   {
    "duration": 29,
    "start_time": "2022-05-01T20:29:33.966Z"
   },
   {
    "duration": 16,
    "start_time": "2022-05-01T20:29:33.997Z"
   },
   {
    "duration": 8,
    "start_time": "2022-05-01T20:29:34.015Z"
   },
   {
    "duration": 36,
    "start_time": "2022-05-01T20:29:34.025Z"
   },
   {
    "duration": 23,
    "start_time": "2022-05-01T20:29:34.063Z"
   },
   {
    "duration": 4,
    "start_time": "2022-05-01T20:29:34.089Z"
   },
   {
    "duration": 21,
    "start_time": "2022-05-01T20:29:34.095Z"
   },
   {
    "duration": 14,
    "start_time": "2022-05-01T20:29:34.118Z"
   },
   {
    "duration": 26,
    "start_time": "2022-05-01T20:29:34.162Z"
   },
   {
    "duration": 17,
    "start_time": "2022-05-01T20:29:34.191Z"
   },
   {
    "duration": 36,
    "start_time": "2022-05-01T20:29:34.211Z"
   },
   {
    "duration": 44,
    "start_time": "2022-05-01T20:29:34.249Z"
   },
   {
    "duration": 28,
    "start_time": "2022-05-01T20:29:34.296Z"
   },
   {
    "duration": 14,
    "start_time": "2022-05-01T20:29:34.326Z"
   },
   {
    "duration": 415,
    "start_time": "2022-05-01T20:30:22.816Z"
   },
   {
    "duration": 181,
    "start_time": "2022-05-01T20:30:26.017Z"
   },
   {
    "duration": 18,
    "start_time": "2022-05-01T20:30:28.609Z"
   },
   {
    "duration": 50,
    "start_time": "2022-05-01T20:30:31.537Z"
   },
   {
    "duration": 4,
    "start_time": "2022-05-01T20:30:36.129Z"
   },
   {
    "duration": 14,
    "start_time": "2022-05-01T20:30:40.858Z"
   },
   {
    "duration": 6,
    "start_time": "2022-05-01T20:30:44.774Z"
   },
   {
    "duration": 32,
    "start_time": "2022-05-01T20:30:57.939Z"
   },
   {
    "duration": 46,
    "start_time": "2022-05-01T20:32:45.312Z"
   },
   {
    "duration": 49,
    "start_time": "2022-05-01T20:33:29.218Z"
   },
   {
    "duration": 43,
    "start_time": "2022-05-01T20:34:04.876Z"
   },
   {
    "duration": 839,
    "start_time": "2022-05-01T20:37:31.609Z"
   },
   {
    "duration": 195,
    "start_time": "2022-05-01T20:37:34.438Z"
   },
   {
    "duration": 18,
    "start_time": "2022-05-01T20:37:37.767Z"
   },
   {
    "duration": 42,
    "start_time": "2022-05-01T20:37:41.175Z"
   },
   {
    "duration": 4,
    "start_time": "2022-05-01T20:38:16.219Z"
   },
   {
    "duration": 17,
    "start_time": "2022-05-01T20:38:33.755Z"
   },
   {
    "duration": 6,
    "start_time": "2022-05-01T20:38:54.559Z"
   },
   {
    "duration": 50,
    "start_time": "2022-05-01T20:41:25.955Z"
   },
   {
    "duration": 35,
    "start_time": "2022-05-01T20:41:34.052Z"
   },
   {
    "duration": 42,
    "start_time": "2022-05-01T20:41:51.213Z"
   },
   {
    "duration": 92,
    "start_time": "2022-05-01T20:42:21.728Z"
   },
   {
    "duration": 87,
    "start_time": "2022-05-01T20:42:23.737Z"
   },
   {
    "duration": 67,
    "start_time": "2022-05-01T20:42:30.444Z"
   },
   {
    "duration": 60,
    "start_time": "2022-05-01T20:42:38.572Z"
   },
   {
    "duration": 3,
    "start_time": "2022-05-01T20:43:03.845Z"
   },
   {
    "duration": 32,
    "start_time": "2022-05-01T20:45:44.759Z"
   },
   {
    "duration": 33,
    "start_time": "2022-05-01T20:45:49.612Z"
   },
   {
    "duration": 20,
    "start_time": "2022-05-01T20:46:18.948Z"
   },
   {
    "duration": 57,
    "start_time": "2022-05-01T20:46:25.676Z"
   },
   {
    "duration": 4,
    "start_time": "2022-05-01T20:46:43.888Z"
   },
   {
    "duration": 18,
    "start_time": "2022-05-01T20:46:52.608Z"
   },
   {
    "duration": 24,
    "start_time": "2022-05-01T20:46:59.744Z"
   },
   {
    "duration": 17,
    "start_time": "2022-05-01T20:47:02.596Z"
   },
   {
    "duration": 26,
    "start_time": "2022-05-01T20:47:04.964Z"
   },
   {
    "duration": 18,
    "start_time": "2022-05-01T20:47:07.717Z"
   },
   {
    "duration": 16,
    "start_time": "2022-05-01T20:47:10.030Z"
   },
   {
    "duration": 10,
    "start_time": "2022-05-01T20:47:20.848Z"
   },
   {
    "duration": 31,
    "start_time": "2022-05-01T20:47:48.922Z"
   },
   {
    "duration": 20,
    "start_time": "2022-05-01T20:47:52.524Z"
   },
   {
    "duration": 7,
    "start_time": "2022-05-01T20:48:11.271Z"
   },
   {
    "duration": 27,
    "start_time": "2022-05-01T20:48:19.576Z"
   },
   {
    "duration": 17,
    "start_time": "2022-05-01T20:48:24.573Z"
   },
   {
    "duration": 19,
    "start_time": "2022-05-01T20:48:27.927Z"
   },
   {
    "duration": 16,
    "start_time": "2022-05-01T20:48:31.015Z"
   },
   {
    "duration": 14,
    "start_time": "2022-05-01T20:49:07.947Z"
   },
   {
    "duration": 6,
    "start_time": "2022-05-01T20:49:13.104Z"
   },
   {
    "duration": 10,
    "start_time": "2022-05-01T20:49:16.740Z"
   },
   {
    "duration": 7,
    "start_time": "2022-05-01T20:49:20.285Z"
   },
   {
    "duration": 543,
    "start_time": "2022-05-02T12:17:51.996Z"
   },
   {
    "duration": 224,
    "start_time": "2022-05-02T12:17:52.541Z"
   },
   {
    "duration": 49,
    "start_time": "2022-05-02T12:17:52.768Z"
   },
   {
    "duration": 78,
    "start_time": "2022-05-02T12:17:52.819Z"
   },
   {
    "duration": 7,
    "start_time": "2022-05-02T12:17:52.899Z"
   },
   {
    "duration": 21,
    "start_time": "2022-05-02T12:17:52.909Z"
   },
   {
    "duration": 10,
    "start_time": "2022-05-02T12:17:52.932Z"
   },
   {
    "duration": 74,
    "start_time": "2022-05-02T12:17:52.944Z"
   },
   {
    "duration": 41,
    "start_time": "2022-05-02T12:17:53.021Z"
   },
   {
    "duration": 61,
    "start_time": "2022-05-02T12:17:53.065Z"
   },
   {
    "duration": 137,
    "start_time": "2022-05-02T12:17:53.129Z"
   },
   {
    "duration": 148,
    "start_time": "2022-05-02T12:17:53.268Z"
   },
   {
    "duration": 118,
    "start_time": "2022-05-02T12:17:53.419Z"
   },
   {
    "duration": 100,
    "start_time": "2022-05-02T12:17:53.540Z"
   },
   {
    "duration": 4,
    "start_time": "2022-05-02T12:17:53.642Z"
   },
   {
    "duration": 16,
    "start_time": "2022-05-02T12:17:53.648Z"
   },
   {
    "duration": 57,
    "start_time": "2022-05-02T12:17:53.667Z"
   },
   {
    "duration": 19,
    "start_time": "2022-05-02T12:17:53.726Z"
   },
   {
    "duration": 132,
    "start_time": "2022-05-02T12:17:53.750Z"
   },
   {
    "duration": 6,
    "start_time": "2022-05-02T12:17:53.884Z"
   },
   {
    "duration": 43,
    "start_time": "2022-05-02T12:17:53.893Z"
   },
   {
    "duration": 21,
    "start_time": "2022-05-02T12:17:53.938Z"
   },
   {
    "duration": 52,
    "start_time": "2022-05-02T12:17:53.962Z"
   },
   {
    "duration": 20,
    "start_time": "2022-05-02T12:17:54.017Z"
   },
   {
    "duration": 60,
    "start_time": "2022-05-02T12:17:54.039Z"
   },
   {
    "duration": 24,
    "start_time": "2022-05-02T12:17:54.102Z"
   },
   {
    "duration": 13,
    "start_time": "2022-05-02T12:17:54.128Z"
   },
   {
    "duration": 70,
    "start_time": "2022-05-02T12:17:54.143Z"
   },
   {
    "duration": 27,
    "start_time": "2022-05-02T12:17:54.218Z"
   },
   {
    "duration": 5,
    "start_time": "2022-05-02T12:17:54.247Z"
   },
   {
    "duration": 61,
    "start_time": "2022-05-02T12:17:54.255Z"
   },
   {
    "duration": 17,
    "start_time": "2022-05-02T12:17:54.319Z"
   },
   {
    "duration": 46,
    "start_time": "2022-05-02T12:17:54.338Z"
   },
   {
    "duration": 24,
    "start_time": "2022-05-02T12:17:54.395Z"
   },
   {
    "duration": 14,
    "start_time": "2022-05-02T12:17:54.421Z"
   },
   {
    "duration": 7,
    "start_time": "2022-05-02T12:17:54.437Z"
   },
   {
    "duration": 11,
    "start_time": "2022-05-02T12:17:54.446Z"
   },
   {
    "duration": 7,
    "start_time": "2022-05-02T12:17:54.482Z"
   }
  ],
  "colab": {
   "collapsed_sections": [
    "E0vqbgi9ay0H",
    "VUC88oWjTJw2"
   ],
   "name": "yandex_music_project.ipynb",
   "provenance": []
  },
  "kernelspec": {
   "display_name": "Python 3 (ipykernel)",
   "language": "python",
   "name": "python3"
  },
  "language_info": {
   "codemirror_mode": {
    "name": "ipython",
    "version": 3
   },
   "file_extension": ".py",
   "mimetype": "text/x-python",
   "name": "python",
   "nbconvert_exporter": "python",
   "pygments_lexer": "ipython3",
   "version": "3.9.7"
  },
  "toc": {
   "base_numbering": 1,
   "nav_menu": {},
   "number_sections": true,
   "sideBar": true,
   "skip_h1_title": true,
   "title_cell": "Table of Contents",
   "title_sidebar": "Contents",
   "toc_cell": false,
   "toc_position": {
    "height": "calc(100% - 180px)",
    "left": "10px",
    "top": "150px",
    "width": "165px"
   },
   "toc_section_display": true,
   "toc_window_display": true
  }
 },
 "nbformat": 4,
 "nbformat_minor": 1
}
